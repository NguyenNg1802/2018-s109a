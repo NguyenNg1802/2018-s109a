{
 "cells": [
  {
   "cell_type": "markdown",
   "metadata": {},
   "source": [
    "# <img style=\"float: left; padding-right: 10px; width: 45px\" src=\"iacs.png\"> S-109A Introduction to Data Science: \n",
    "\n",
    "## Homework 5: Logistic Regression, High Dimensionality and PCA, LDA/QDA\n",
    "\n",
    "\n",
    "**Harvard University**<br/>\n",
    "**Summer 2018**<br/>\n",
    "**Instructors**: Pavlos Protopapas, Kevin Rader\n",
    "\n",
    "<hr style=\"height:2pt\">\n",
    "\n"
   ]
  },
  {
   "cell_type": "markdown",
   "metadata": {},
   "source": [
    "### INSTRUCTIONS\n",
    "\n",
    "- To submit your assignment follow the instructions given in canvas.\n",
    "- Restart the kernel and run the whole notebook again before you submit. \n",
    "- If you submit individually and you have worked with someone, please include the name of your [one] partner below. \n",
    "\n",
    "Names of people you have worked with goes here: "
   ]
  },
  {
   "cell_type": "markdown",
   "metadata": {},
   "source": [
    "<hr style=\"height:2pt\">"
   ]
  },
  {
   "cell_type": "code",
   "execution_count": 1,
   "metadata": {},
   "outputs": [],
   "source": [
    "import numpy as np\n",
    "import pandas as pd\n",
    "\n",
    "import statsmodels.api as sm\n",
    "from statsmodels.api import OLS\n",
    "\n",
    "from sklearn.decomposition import PCA\n",
    "from sklearn.linear_model import LogisticRegression\n",
    "from sklearn.linear_model import LogisticRegressionCV\n",
    "from sklearn.discriminant_analysis import LinearDiscriminantAnalysis\n",
    "from sklearn.discriminant_analysis import QuadraticDiscriminantAnalysis\n",
    "from sklearn.preprocessing import PolynomialFeatures\n",
    "from sklearn.neighbors import KNeighborsClassifier\n",
    "from sklearn.model_selection import cross_val_score\n",
    "from sklearn.metrics import accuracy_score\n",
    "from sklearn.model_selection import KFold\n",
    "\n",
    "import math\n",
    "from scipy.special import gamma\n",
    "\n",
    "import matplotlib\n",
    "import matplotlib.pyplot as plt\n",
    "%matplotlib inline\n",
    "\n",
    "import seaborn as sns\n",
    "sns.set()\n",
    "\n",
    "alpha = 0.5"
   ]
  },
  {
   "cell_type": "markdown",
   "metadata": {},
   "source": [
    "## Cancer Classification from Gene Expressions\n",
    "\n",
    "In this problem, we will build a classification model to distinguish between two related classes of cancer, acute lymphoblastic leukemia (ALL) and acute myeloid leukemia (AML), using gene expression measurements. The data set is provided in the file `dataset_hw5_1.csv`. Each row in this file corresponds to a tumor tissue sample from a patient with one of the two forms of Leukemia. The first column contains the cancer type, with 0 indicating the ALL class and 1 indicating the AML class. Columns 2-7130 contain expression levels of 7129 genes recorded from each tissue sample. \n",
    "\n",
    "In the following questions, we will use linear and logistic regression to build a classification models for this data set. We will also use Principal Components Analysis (PCA) to visualize the data and to reduce its dimensions. \n",
    "\n"
   ]
  },
  {
   "cell_type": "markdown",
   "metadata": {},
   "source": [
    "## Question 1: Data Exploration\n",
    "\n",
    "1. First step is to  split  the observations into an approximate 50-50 train-test split.  Below is some code to do this for you (we want to make sure everyone has the same splits).\n",
    "\n",
    "2. Take a peek at your training set: you should notice the severe differences in the measurements from one gene to the next (some are negative, some hover around zero, and some are well into the thousands).  To account for these differences in scale and variability, normalize each predictor to vary between 0 and 1.\n",
    "\n",
    "3. Notice that the results training set contains more predictors than observations. Do you foresee a problem in fitting a classification model to such a data set?\n",
    "\n",
    "4. Lets explore a few of the genes and see how well they discriminate between cancer classes. Create a single figure with four subplots arranged in a 2x2 grid. Consider the following four genes: `D29963_at`, `M23161_at`, `hum_alu_at`, and `AFFX-PheX-5_at`. For each gene overlay two histograms of the gene expression values on one of the subplots, one histogram for each cancer type. Does it appear that any of these genes discriminate between the two classes well? How are you able to tell?\n",
    "\n",
    "5. Since our data has dimensions that are not easily visualizable, we want to reduce the dimensionality of the data to make it easier to visualize. Using PCA, find the top two principal components for the gene expression data. Generate a scatter plot using these principal components, highlighting the two cancer types in different colors. How well do the top two principal components discriminate between the two classes? How much of the variance within the data do these two principal components explain?"
   ]
  },
  {
   "cell_type": "markdown",
   "metadata": {},
   "source": [
    "#### Answers:\n",
    "**1.1:** First step is to split the observations into an approximate 50-50 train-test split. Below is some code to do this for you (we want to make sure everyone has the same splits)."
   ]
  },
  {
   "cell_type": "code",
   "execution_count": 2,
   "metadata": {
    "collapsed": true
   },
   "outputs": [],
   "source": [
    "np.random.seed(9002)\n",
    "df = pd.read_csv('data/dataset_hw5_1.csv')\n",
    "msk = np.random.rand(len(df)) < 0.5\n",
    "data_train = df[msk]\n",
    "data_test = df[~msk]"
   ]
  },
  {
   "cell_type": "markdown",
   "metadata": {},
   "source": [
    "**1.2:** Take a peek at your training set: you should notice the severe differences in the measurements from one gene to the next (some are negative, some hover around zero, and some are well into the thousands). To account for these differences in scale and variability, normalize each predictor to vary between 0 and 1. Take a look at the descriptive statistics on the normalized data to show that it has been normalized properly."
   ]
  },
  {
   "cell_type": "code",
   "execution_count": 3,
   "metadata": {},
   "outputs": [
    {
     "data": {
      "text/html": [
       "<div>\n",
       "<style scoped>\n",
       "    .dataframe tbody tr th:only-of-type {\n",
       "        vertical-align: middle;\n",
       "    }\n",
       "\n",
       "    .dataframe tbody tr th {\n",
       "        vertical-align: top;\n",
       "    }\n",
       "\n",
       "    .dataframe thead th {\n",
       "        text-align: right;\n",
       "    }\n",
       "</style>\n",
       "<table border=\"1\" class=\"dataframe\">\n",
       "  <thead>\n",
       "    <tr style=\"text-align: right;\">\n",
       "      <th></th>\n",
       "      <th>Cancer_type</th>\n",
       "      <th>AFFX-BioB-5_at</th>\n",
       "      <th>AFFX-BioB-M_at</th>\n",
       "      <th>AFFX-BioB-3_at</th>\n",
       "      <th>AFFX-BioC-5_at</th>\n",
       "      <th>AFFX-BioC-3_at</th>\n",
       "      <th>AFFX-BioDn-5_at</th>\n",
       "      <th>AFFX-BioDn-3_at</th>\n",
       "      <th>AFFX-CreX-5_at</th>\n",
       "      <th>AFFX-CreX-3_at</th>\n",
       "      <th>...</th>\n",
       "      <th>U48730_at</th>\n",
       "      <th>U58516_at</th>\n",
       "      <th>U73738_at</th>\n",
       "      <th>X06956_at</th>\n",
       "      <th>X16699_at</th>\n",
       "      <th>X83863_at</th>\n",
       "      <th>Z17240_at</th>\n",
       "      <th>L49218_f_at</th>\n",
       "      <th>M71243_f_at</th>\n",
       "      <th>Z78285_f_at</th>\n",
       "    </tr>\n",
       "  </thead>\n",
       "  <tbody>\n",
       "    <tr>\n",
       "      <th>0</th>\n",
       "      <td>0</td>\n",
       "      <td>-214</td>\n",
       "      <td>-153</td>\n",
       "      <td>-58</td>\n",
       "      <td>88</td>\n",
       "      <td>-295</td>\n",
       "      <td>-558</td>\n",
       "      <td>199</td>\n",
       "      <td>-176</td>\n",
       "      <td>252</td>\n",
       "      <td>...</td>\n",
       "      <td>185</td>\n",
       "      <td>511</td>\n",
       "      <td>-125</td>\n",
       "      <td>389</td>\n",
       "      <td>-37</td>\n",
       "      <td>793</td>\n",
       "      <td>329</td>\n",
       "      <td>36</td>\n",
       "      <td>191</td>\n",
       "      <td>-37</td>\n",
       "    </tr>\n",
       "    <tr>\n",
       "      <th>2</th>\n",
       "      <td>0</td>\n",
       "      <td>-106</td>\n",
       "      <td>-125</td>\n",
       "      <td>-76</td>\n",
       "      <td>168</td>\n",
       "      <td>-230</td>\n",
       "      <td>-284</td>\n",
       "      <td>4</td>\n",
       "      <td>-122</td>\n",
       "      <td>70</td>\n",
       "      <td>...</td>\n",
       "      <td>156</td>\n",
       "      <td>649</td>\n",
       "      <td>57</td>\n",
       "      <td>504</td>\n",
       "      <td>-26</td>\n",
       "      <td>250</td>\n",
       "      <td>314</td>\n",
       "      <td>14</td>\n",
       "      <td>56</td>\n",
       "      <td>-25</td>\n",
       "    </tr>\n",
       "    <tr>\n",
       "      <th>5</th>\n",
       "      <td>0</td>\n",
       "      <td>-67</td>\n",
       "      <td>-93</td>\n",
       "      <td>84</td>\n",
       "      <td>25</td>\n",
       "      <td>-179</td>\n",
       "      <td>-323</td>\n",
       "      <td>-135</td>\n",
       "      <td>-127</td>\n",
       "      <td>-2</td>\n",
       "      <td>...</td>\n",
       "      <td>48</td>\n",
       "      <td>224</td>\n",
       "      <td>60</td>\n",
       "      <td>194</td>\n",
       "      <td>-10</td>\n",
       "      <td>291</td>\n",
       "      <td>41</td>\n",
       "      <td>8</td>\n",
       "      <td>-2</td>\n",
       "      <td>-80</td>\n",
       "    </tr>\n",
       "    <tr>\n",
       "      <th>9</th>\n",
       "      <td>0</td>\n",
       "      <td>-476</td>\n",
       "      <td>-213</td>\n",
       "      <td>-18</td>\n",
       "      <td>301</td>\n",
       "      <td>-403</td>\n",
       "      <td>-394</td>\n",
       "      <td>-42</td>\n",
       "      <td>-144</td>\n",
       "      <td>98</td>\n",
       "      <td>...</td>\n",
       "      <td>241</td>\n",
       "      <td>1214</td>\n",
       "      <td>127</td>\n",
       "      <td>255</td>\n",
       "      <td>50</td>\n",
       "      <td>1701</td>\n",
       "      <td>1108</td>\n",
       "      <td>61</td>\n",
       "      <td>525</td>\n",
       "      <td>-83</td>\n",
       "    </tr>\n",
       "    <tr>\n",
       "      <th>10</th>\n",
       "      <td>0</td>\n",
       "      <td>-81</td>\n",
       "      <td>-150</td>\n",
       "      <td>-119</td>\n",
       "      <td>78</td>\n",
       "      <td>-152</td>\n",
       "      <td>-340</td>\n",
       "      <td>-36</td>\n",
       "      <td>-141</td>\n",
       "      <td>96</td>\n",
       "      <td>...</td>\n",
       "      <td>186</td>\n",
       "      <td>573</td>\n",
       "      <td>-57</td>\n",
       "      <td>694</td>\n",
       "      <td>-19</td>\n",
       "      <td>636</td>\n",
       "      <td>205</td>\n",
       "      <td>17</td>\n",
       "      <td>127</td>\n",
       "      <td>-13</td>\n",
       "    </tr>\n",
       "  </tbody>\n",
       "</table>\n",
       "<p>5 rows × 7130 columns</p>\n",
       "</div>"
      ],
      "text/plain": [
       "    Cancer_type  AFFX-BioB-5_at  AFFX-BioB-M_at  AFFX-BioB-3_at  \\\n",
       "0             0            -214            -153             -58   \n",
       "2             0            -106            -125             -76   \n",
       "5             0             -67             -93              84   \n",
       "9             0            -476            -213             -18   \n",
       "10            0             -81            -150            -119   \n",
       "\n",
       "    AFFX-BioC-5_at  AFFX-BioC-3_at  AFFX-BioDn-5_at  AFFX-BioDn-3_at  \\\n",
       "0               88            -295             -558              199   \n",
       "2              168            -230             -284                4   \n",
       "5               25            -179             -323             -135   \n",
       "9              301            -403             -394              -42   \n",
       "10              78            -152             -340              -36   \n",
       "\n",
       "    AFFX-CreX-5_at  AFFX-CreX-3_at     ...       U48730_at  U58516_at  \\\n",
       "0             -176             252     ...             185        511   \n",
       "2             -122              70     ...             156        649   \n",
       "5             -127              -2     ...              48        224   \n",
       "9             -144              98     ...             241       1214   \n",
       "10            -141              96     ...             186        573   \n",
       "\n",
       "    U73738_at  X06956_at  X16699_at  X83863_at  Z17240_at  L49218_f_at  \\\n",
       "0        -125        389        -37        793        329           36   \n",
       "2          57        504        -26        250        314           14   \n",
       "5          60        194        -10        291         41            8   \n",
       "9         127        255         50       1701       1108           61   \n",
       "10        -57        694        -19        636        205           17   \n",
       "\n",
       "    M71243_f_at  Z78285_f_at  \n",
       "0           191          -37  \n",
       "2            56          -25  \n",
       "5            -2          -80  \n",
       "9           525          -83  \n",
       "10          127          -13  \n",
       "\n",
       "[5 rows x 7130 columns]"
      ]
     },
     "execution_count": 3,
     "metadata": {},
     "output_type": "execute_result"
    }
   ],
   "source": [
    "# Take a peek at your training set\n",
    "data_train.head()"
   ]
  },
  {
   "cell_type": "markdown",
   "metadata": {},
   "source": [
    "You were asked to normalize the data to be between $0$ and $1$, as opposed to standardizing. To do this we will use the following equation for normalization: \n",
    "$$x_i^{\\prime} = \\frac{x_i - \\min{x}}{\\max{x} - \\min{x}}.$$\n",
    "\n",
    "Notice that in this case we only use the $\\min{x}$ and $\\max{x}$ values from the training data to normalize both the training and the testing dataset. \n",
    "\n",
    "*Note:* If you didn't want to implement the normalization yourself, you could have also used sklearn's `MinMaxScaler` to accomplish the same thing."
   ]
  },
  {
   "cell_type": "code",
   "execution_count": 4,
   "metadata": {
    "collapsed": true
   },
   "outputs": [],
   "source": [
    "def normalize_columns(X, X_min, X_max):\n",
    "    return (X-X_min)/(X_max-X_min)\n",
    "\n",
    "X_min = np.min(data_train,axis=0)\n",
    "X_max = np.max(data_train,axis=0)\n",
    "\n",
    "data_train = normalize_columns(X=data_train, X_min=X_min, X_max=X_max)\n",
    "data_test = normalize_columns(X=data_test, X_min=X_min, X_max=X_max)   \n",
    "\n",
    "assert np.max(data_train.values)==1 and np.min(data_train.values)==0    "
   ]
  },
  {
   "cell_type": "markdown",
   "metadata": {},
   "source": [
    "Now you can see that your data values lie between $0$ and $1$."
   ]
  },
  {
   "cell_type": "code",
   "execution_count": 5,
   "metadata": {},
   "outputs": [
    {
     "data": {
      "text/html": [
       "<div>\n",
       "<style scoped>\n",
       "    .dataframe tbody tr th:only-of-type {\n",
       "        vertical-align: middle;\n",
       "    }\n",
       "\n",
       "    .dataframe tbody tr th {\n",
       "        vertical-align: top;\n",
       "    }\n",
       "\n",
       "    .dataframe thead th {\n",
       "        text-align: right;\n",
       "    }\n",
       "</style>\n",
       "<table border=\"1\" class=\"dataframe\">\n",
       "  <thead>\n",
       "    <tr style=\"text-align: right;\">\n",
       "      <th></th>\n",
       "      <th>Cancer_type</th>\n",
       "      <th>AFFX-BioB-5_at</th>\n",
       "      <th>AFFX-BioB-M_at</th>\n",
       "      <th>AFFX-BioB-3_at</th>\n",
       "      <th>AFFX-BioC-5_at</th>\n",
       "      <th>AFFX-BioC-3_at</th>\n",
       "      <th>AFFX-BioDn-5_at</th>\n",
       "      <th>AFFX-BioDn-3_at</th>\n",
       "      <th>AFFX-CreX-5_at</th>\n",
       "      <th>AFFX-CreX-3_at</th>\n",
       "      <th>...</th>\n",
       "      <th>U48730_at</th>\n",
       "      <th>U58516_at</th>\n",
       "      <th>U73738_at</th>\n",
       "      <th>X06956_at</th>\n",
       "      <th>X16699_at</th>\n",
       "      <th>X83863_at</th>\n",
       "      <th>Z17240_at</th>\n",
       "      <th>L49218_f_at</th>\n",
       "      <th>M71243_f_at</th>\n",
       "      <th>Z78285_f_at</th>\n",
       "    </tr>\n",
       "  </thead>\n",
       "  <tbody>\n",
       "    <tr>\n",
       "      <th>count</th>\n",
       "      <td>40.00000</td>\n",
       "      <td>40.000000</td>\n",
       "      <td>40.000000</td>\n",
       "      <td>40.000000</td>\n",
       "      <td>40.000000</td>\n",
       "      <td>40.000000</td>\n",
       "      <td>40.000000</td>\n",
       "      <td>40.000000</td>\n",
       "      <td>40.000000</td>\n",
       "      <td>40.000000</td>\n",
       "      <td>...</td>\n",
       "      <td>40.000000</td>\n",
       "      <td>40.000000</td>\n",
       "      <td>40.000000</td>\n",
       "      <td>40.000000</td>\n",
       "      <td>40.000000</td>\n",
       "      <td>40.000000</td>\n",
       "      <td>40.000000</td>\n",
       "      <td>40.000000</td>\n",
       "      <td>40.000000</td>\n",
       "      <td>40.000000</td>\n",
       "    </tr>\n",
       "    <tr>\n",
       "      <th>mean</th>\n",
       "      <td>0.37500</td>\n",
       "      <td>0.640347</td>\n",
       "      <td>0.719472</td>\n",
       "      <td>0.369477</td>\n",
       "      <td>0.512253</td>\n",
       "      <td>0.529472</td>\n",
       "      <td>0.550653</td>\n",
       "      <td>0.654253</td>\n",
       "      <td>0.581803</td>\n",
       "      <td>0.535615</td>\n",
       "      <td>...</td>\n",
       "      <td>0.385916</td>\n",
       "      <td>0.351822</td>\n",
       "      <td>0.656206</td>\n",
       "      <td>0.173726</td>\n",
       "      <td>0.698519</td>\n",
       "      <td>0.334762</td>\n",
       "      <td>0.283348</td>\n",
       "      <td>0.615608</td>\n",
       "      <td>0.162620</td>\n",
       "      <td>0.404570</td>\n",
       "    </tr>\n",
       "    <tr>\n",
       "      <th>std</th>\n",
       "      <td>0.49029</td>\n",
       "      <td>0.182889</td>\n",
       "      <td>0.186767</td>\n",
       "      <td>0.237206</td>\n",
       "      <td>0.243956</td>\n",
       "      <td>0.231075</td>\n",
       "      <td>0.214332</td>\n",
       "      <td>0.216589</td>\n",
       "      <td>0.228836</td>\n",
       "      <td>0.231285</td>\n",
       "      <td>...</td>\n",
       "      <td>0.234882</td>\n",
       "      <td>0.195379</td>\n",
       "      <td>0.217202</td>\n",
       "      <td>0.154501</td>\n",
       "      <td>0.201592</td>\n",
       "      <td>0.204001</td>\n",
       "      <td>0.171412</td>\n",
       "      <td>0.200119</td>\n",
       "      <td>0.202527</td>\n",
       "      <td>0.199781</td>\n",
       "    </tr>\n",
       "    <tr>\n",
       "      <th>min</th>\n",
       "      <td>0.00000</td>\n",
       "      <td>0.000000</td>\n",
       "      <td>0.000000</td>\n",
       "      <td>0.000000</td>\n",
       "      <td>0.000000</td>\n",
       "      <td>0.000000</td>\n",
       "      <td>0.000000</td>\n",
       "      <td>0.000000</td>\n",
       "      <td>0.000000</td>\n",
       "      <td>0.000000</td>\n",
       "      <td>...</td>\n",
       "      <td>0.000000</td>\n",
       "      <td>0.000000</td>\n",
       "      <td>0.000000</td>\n",
       "      <td>0.000000</td>\n",
       "      <td>0.000000</td>\n",
       "      <td>0.000000</td>\n",
       "      <td>0.000000</td>\n",
       "      <td>0.000000</td>\n",
       "      <td>0.000000</td>\n",
       "      <td>0.000000</td>\n",
       "    </tr>\n",
       "    <tr>\n",
       "      <th>25%</th>\n",
       "      <td>0.00000</td>\n",
       "      <td>0.596530</td>\n",
       "      <td>0.631115</td>\n",
       "      <td>0.201744</td>\n",
       "      <td>0.325824</td>\n",
       "      <td>0.386853</td>\n",
       "      <td>0.408101</td>\n",
       "      <td>0.547153</td>\n",
       "      <td>0.484127</td>\n",
       "      <td>0.342807</td>\n",
       "      <td>...</td>\n",
       "      <td>0.247305</td>\n",
       "      <td>0.213235</td>\n",
       "      <td>0.556792</td>\n",
       "      <td>0.104175</td>\n",
       "      <td>0.602778</td>\n",
       "      <td>0.210597</td>\n",
       "      <td>0.200870</td>\n",
       "      <td>0.506906</td>\n",
       "      <td>0.057054</td>\n",
       "      <td>0.243280</td>\n",
       "    </tr>\n",
       "    <tr>\n",
       "      <th>50%</th>\n",
       "      <td>0.00000</td>\n",
       "      <td>0.653025</td>\n",
       "      <td>0.745597</td>\n",
       "      <td>0.323256</td>\n",
       "      <td>0.553846</td>\n",
       "      <td>0.584052</td>\n",
       "      <td>0.542683</td>\n",
       "      <td>0.683986</td>\n",
       "      <td>0.634921</td>\n",
       "      <td>0.573086</td>\n",
       "      <td>...</td>\n",
       "      <td>0.370620</td>\n",
       "      <td>0.337596</td>\n",
       "      <td>0.715457</td>\n",
       "      <td>0.143865</td>\n",
       "      <td>0.737037</td>\n",
       "      <td>0.302760</td>\n",
       "      <td>0.281739</td>\n",
       "      <td>0.607735</td>\n",
       "      <td>0.085271</td>\n",
       "      <td>0.416667</td>\n",
       "    </tr>\n",
       "    <tr>\n",
       "      <th>75%</th>\n",
       "      <td>1.00000</td>\n",
       "      <td>0.731762</td>\n",
       "      <td>0.844423</td>\n",
       "      <td>0.500000</td>\n",
       "      <td>0.720330</td>\n",
       "      <td>0.683728</td>\n",
       "      <td>0.713850</td>\n",
       "      <td>0.753381</td>\n",
       "      <td>0.739796</td>\n",
       "      <td>0.725058</td>\n",
       "      <td>...</td>\n",
       "      <td>0.498652</td>\n",
       "      <td>0.407289</td>\n",
       "      <td>0.813232</td>\n",
       "      <td>0.195904</td>\n",
       "      <td>0.856481</td>\n",
       "      <td>0.434328</td>\n",
       "      <td>0.342391</td>\n",
       "      <td>0.708564</td>\n",
       "      <td>0.176434</td>\n",
       "      <td>0.512097</td>\n",
       "    </tr>\n",
       "    <tr>\n",
       "      <th>max</th>\n",
       "      <td>1.00000</td>\n",
       "      <td>1.000000</td>\n",
       "      <td>1.000000</td>\n",
       "      <td>1.000000</td>\n",
       "      <td>1.000000</td>\n",
       "      <td>1.000000</td>\n",
       "      <td>1.000000</td>\n",
       "      <td>1.000000</td>\n",
       "      <td>1.000000</td>\n",
       "      <td>1.000000</td>\n",
       "      <td>...</td>\n",
       "      <td>1.000000</td>\n",
       "      <td>1.000000</td>\n",
       "      <td>1.000000</td>\n",
       "      <td>1.000000</td>\n",
       "      <td>1.000000</td>\n",
       "      <td>1.000000</td>\n",
       "      <td>1.000000</td>\n",
       "      <td>1.000000</td>\n",
       "      <td>1.000000</td>\n",
       "      <td>1.000000</td>\n",
       "    </tr>\n",
       "  </tbody>\n",
       "</table>\n",
       "<p>8 rows × 7130 columns</p>\n",
       "</div>"
      ],
      "text/plain": [
       "       Cancer_type  AFFX-BioB-5_at  AFFX-BioB-M_at  AFFX-BioB-3_at  \\\n",
       "count     40.00000       40.000000       40.000000       40.000000   \n",
       "mean       0.37500        0.640347        0.719472        0.369477   \n",
       "std        0.49029        0.182889        0.186767        0.237206   \n",
       "min        0.00000        0.000000        0.000000        0.000000   \n",
       "25%        0.00000        0.596530        0.631115        0.201744   \n",
       "50%        0.00000        0.653025        0.745597        0.323256   \n",
       "75%        1.00000        0.731762        0.844423        0.500000   \n",
       "max        1.00000        1.000000        1.000000        1.000000   \n",
       "\n",
       "       AFFX-BioC-5_at  AFFX-BioC-3_at  AFFX-BioDn-5_at  AFFX-BioDn-3_at  \\\n",
       "count       40.000000       40.000000        40.000000        40.000000   \n",
       "mean         0.512253        0.529472         0.550653         0.654253   \n",
       "std          0.243956        0.231075         0.214332         0.216589   \n",
       "min          0.000000        0.000000         0.000000         0.000000   \n",
       "25%          0.325824        0.386853         0.408101         0.547153   \n",
       "50%          0.553846        0.584052         0.542683         0.683986   \n",
       "75%          0.720330        0.683728         0.713850         0.753381   \n",
       "max          1.000000        1.000000         1.000000         1.000000   \n",
       "\n",
       "       AFFX-CreX-5_at  AFFX-CreX-3_at     ...       U48730_at  U58516_at  \\\n",
       "count       40.000000       40.000000     ...       40.000000  40.000000   \n",
       "mean         0.581803        0.535615     ...        0.385916   0.351822   \n",
       "std          0.228836        0.231285     ...        0.234882   0.195379   \n",
       "min          0.000000        0.000000     ...        0.000000   0.000000   \n",
       "25%          0.484127        0.342807     ...        0.247305   0.213235   \n",
       "50%          0.634921        0.573086     ...        0.370620   0.337596   \n",
       "75%          0.739796        0.725058     ...        0.498652   0.407289   \n",
       "max          1.000000        1.000000     ...        1.000000   1.000000   \n",
       "\n",
       "       U73738_at  X06956_at  X16699_at  X83863_at  Z17240_at  L49218_f_at  \\\n",
       "count  40.000000  40.000000  40.000000  40.000000  40.000000    40.000000   \n",
       "mean    0.656206   0.173726   0.698519   0.334762   0.283348     0.615608   \n",
       "std     0.217202   0.154501   0.201592   0.204001   0.171412     0.200119   \n",
       "min     0.000000   0.000000   0.000000   0.000000   0.000000     0.000000   \n",
       "25%     0.556792   0.104175   0.602778   0.210597   0.200870     0.506906   \n",
       "50%     0.715457   0.143865   0.737037   0.302760   0.281739     0.607735   \n",
       "75%     0.813232   0.195904   0.856481   0.434328   0.342391     0.708564   \n",
       "max     1.000000   1.000000   1.000000   1.000000   1.000000     1.000000   \n",
       "\n",
       "       M71243_f_at  Z78285_f_at  \n",
       "count    40.000000    40.000000  \n",
       "mean      0.162620     0.404570  \n",
       "std       0.202527     0.199781  \n",
       "min       0.000000     0.000000  \n",
       "25%       0.057054     0.243280  \n",
       "50%       0.085271     0.416667  \n",
       "75%       0.176434     0.512097  \n",
       "max       1.000000     1.000000  \n",
       "\n",
       "[8 rows x 7130 columns]"
      ]
     },
     "execution_count": 5,
     "metadata": {},
     "output_type": "execute_result"
    }
   ],
   "source": [
    "data_train.describe()"
   ]
  },
  {
   "cell_type": "markdown",
   "metadata": {},
   "source": [
    "**1.3:** Notice that the results training set contains significantly more predictors than observations. Do you foresee a problem in fitting a classification model to such a data set?"
   ]
  },
  {
   "cell_type": "code",
   "execution_count": 6,
   "metadata": {},
   "outputs": [
    {
     "data": {
      "text/plain": [
       "(40, 7130)"
      ]
     },
     "execution_count": 6,
     "metadata": {},
     "output_type": "execute_result"
    }
   ],
   "source": [
    "data_train.shape"
   ]
  },
  {
   "cell_type": "markdown",
   "metadata": {},
   "source": [
    "* With many more predictors than observations, the model is grossly underidentified/underdetermined. \n",
    "* We risk finding spurious relationships between predictors and response."
   ]
  },
  {
   "cell_type": "markdown",
   "metadata": {},
   "source": [
    "**1.4:** Lets explore a few of the genes and see how well they discriminate between cancer classes. Create a single figure with four subplots arranged in a 2x2 grid. Consider the following four genes: `D29963_at`, `M23161_at`, `hum_alu_at`, and `AFFX-PheX-5_at`. For each gene overlay two histograms of the gene expression values on one of the subplots, one histogram for each cancer type. Does it appear that any of these genes discriminate between the two classes well? How are you able to tell?"
   ]
  },
  {
   "cell_type": "code",
   "execution_count": 7,
   "metadata": {},
   "outputs": [
    {
     "data": {
      "image/png": "[encoded data removed]",
      "text/plain": [
       "<Figure size 864x576 with 4 Axes>"
      ]
     },
     "metadata": {},
     "output_type": "display_data"
    }
   ],
   "source": [
    "top_alpha = 0.35\n",
    "\n",
    "fig, ax = plt.subplots(2, 2, figsize=(12, 8))\n",
    "\n",
    "fig.suptitle(\"Gene Expression Differences by Cancer Class\")\n",
    "\n",
    "ax[0,0].hist(data_train[data_train.Cancer_type == 0]['D29963_at'], \n",
    "           label=\"Cancer Type = 0\", density=True,\n",
    "           alpha=alpha)\n",
    "\n",
    "ax[0,0].hist(data_train[data_train.Cancer_type == 1]['D29963_at'], \n",
    "           label=\"Cancer Type = 1\", density=True,\n",
    "           alpha=top_alpha)\n",
    "\n",
    "ax[0,0].set_ylabel('Normalized Counts')\n",
    "ax[0,0].set_title('D29963_at')\n",
    "\n",
    "ax[0,1].hist(data_train[data_train.Cancer_type == 0]['M23161_at'], \n",
    "           label=\"Cancer Type = 0\", density=True,\n",
    "           alpha=alpha)\n",
    "\n",
    "ax[0,1].hist(data_train[data_train.Cancer_type == 1]['M23161_at'], \n",
    "           label=\"Cancer Type = 1\", density=True,\n",
    "           alpha=top_alpha)\n",
    "\n",
    "ax[0,1].set_title('M23161_at')\n",
    "\n",
    "ax[1,0].hist(data_train[data_train.Cancer_type == 0]['hum_alu_at'], \n",
    "           label=\"Cancer Type = 0\", density=True,\n",
    "           alpha=alpha)\n",
    "\n",
    "ax[1,0].hist(data_train[data_train.Cancer_type == 1]['hum_alu_at'], \n",
    "           label=\"Cancer Type = 1\", density=True,\n",
    "           alpha=top_alpha)\n",
    "\n",
    "ax[1,0].set_title('hum_alu_at')\n",
    "ax[1,0].set_xlabel('Normalized Gene Value')\n",
    "ax[1,0].set_ylabel('Normalized Counts')\n",
    "\n",
    "ax[1,1].hist(data_train[data_train.Cancer_type == 0]['AFFX-PheX-5_at'], \n",
    "           label=\"Cancer Type = 0\", density=True,\n",
    "           alpha=alpha)\n",
    "\n",
    "ax[1,1].hist(data_train[data_train.Cancer_type == 1]['AFFX-PheX-5_at'], \n",
    "           label=\"Cancer Type = 1\", density=True,\n",
    "           alpha=top_alpha)\n",
    "\n",
    "ax[1,1].set_title('AFFX-PheX-5_at')\n",
    "ax[1,1].set_xlabel('Normalized Gene Value');"
   ]
  },
  {
   "cell_type": "markdown",
   "metadata": {},
   "source": [
    "* If the distribution of expression levels differs when `Cancer_type`=0 vs when `Cancer_type`=1, we argue that that gene may be useful in discriminating between cancer types.\n",
    "* The distributions of gene expression for this subset look very similar across cancer types. `D29963_at` seems the most promising of the bunch."
   ]
  },
  {
   "cell_type": "markdown",
   "metadata": {},
   "source": [
    "**1.5:** Since our data has dimensions that are not easily visualizable, we want to reduce the dimensionality of the data to make it easier to visualize. Using PCA, find the top two principal components for the gene expression data. Generate a scatter plot using these principal components, highlighting the two cancer types in different colors. How well do the top two principal components discriminate between the two classes? How much of the variance within the data do these two principal components explain?"
   ]
  },
  {
   "cell_type": "code",
   "execution_count": 8,
   "metadata": {},
   "outputs": [
    {
     "name": "stdout",
     "output_type": "stream",
     "text": [
      "The first two principal components explain 0.273 of the variance.\n"
     ]
    },
    {
     "data": {
      "image/png": "[encoded data removed]",
      "text/plain": [
       "<Figure size 360x360 with 1 Axes>"
      ]
     },
     "metadata": {},
     "output_type": "display_data"
    }
   ],
   "source": [
    "# split out target variable\n",
    "X_train = data_train.iloc[:,1:]\n",
    "y_train = data_train.iloc[:,0]\n",
    "X_test = data_test.iloc[:,1:]\n",
    "y_test = data_test.iloc[:,0]\n",
    "\n",
    "# pca\n",
    "pca = PCA(n_components=2)\n",
    "pca.fit(X_train)\n",
    "X_train_pca = pca.transform(X_train)\n",
    "print(\"The first two principal components explain %0.3f of the variance.\"\n",
    "      % np.sum(pca.explained_variance_ratio_))\n",
    "\n",
    "# scatter plot\n",
    "X_train_pca_df = pd.DataFrame(X_train_pca, columns=[\"pca1\", \"pca2\"])\n",
    "X_train_pca_df[\"Cancer_type\"] = y_train.values\n",
    "sns.lmplot(x=\"pca1\", \n",
    "           y=\"pca2\", \n",
    "           hue=\"Cancer_type\", \n",
    "           data=X_train_pca_df,\n",
    "           fit_reg=False, \n",
    "           legend=False, \n",
    "           palette='bwr')\n",
    "plt.title('Top Two Principal Components')\n",
    "plt.legend();"
   ]
  },
  {
   "cell_type": "markdown",
   "metadata": {},
   "source": [
    "* It's difficult to draw a decision boundary (even a non-linear one) that perfectly separates red from blue points. However, there’s clearly some useful info in these two components in terms of creating a classifier."
   ]
  },
  {
   "cell_type": "markdown",
   "metadata": {},
   "source": [
    "## Question 2: Linear Regression vs. Logistic Regression\n",
    "\n",
    "In class we discussed how to use both linear regression and logistic regression for classification. For this question, you will work with a single gene predictor, `D29963_at`, to explore these two methods.\n",
    "\n",
    "1. Fit a simple linear regression model to the training set using the single gene predictor `D29963_at`. We could interpret the scores predicted by the regression model interpreted for a patient as an estimate of the probability that the patient has `Cancer_type`=1. Is there a problem with this interpretation?\n",
    "\n",
    "2. The fitted linear regression model can be converted to a classification model (i.e. a model that predicts one of two binary labels 0 or 1) by classifying patients with predicted score greater than 0.5 into `Cancer_type`=1, and the others into the `Cancer_type`=0. Evaluate the classification accuracy (1 - misclassification rate) of the obtained classification model on both the training and test sets.\n",
    "\n",
    "3. Next, fit a simple logistic regression model to the training set. How do the training and test classification accuracies of this model compare with the linear regression model? Remember, you need to set the regularization parameter for sklearn's logistic regression function to be a very large value in order to not regularize (use 'C=100000').\n",
    "\n",
    "4. Plot the quantitative output from the linear regression model and the probabilistic output from the logistic regression model (on the training set points) as a function of the gene predictor. Also, display the true binary response for the training set points in the same plot. Based on these plots, does one of the models appear better suited for binary classification than the other? Explain."
   ]
  },
  {
   "cell_type": "markdown",
   "metadata": {},
   "source": [
    "#### Answers: \n",
    "\n",
    "**2.1:** Fit a simple linear regression model to the training set using the single gene predictor `D29963_at`. We could interpret the scores predicted by the regression model interpreted for a patient as an estimate of the probability that the patient has `Cancer_type`=1. Is there a problem with this interpretation?"
   ]
  },
  {
   "cell_type": "code",
   "execution_count": 9,
   "metadata": {},
   "outputs": [],
   "source": [
    "# add column to house intercept\n",
    "X_train_wcons = sm.add_constant(X_train[[\"D29963_at\"]])\n",
    "X_test_wcons = sm.add_constant(X_test[[\"D29963_at\"]])\n",
    "\n",
    "# fit\n",
    "ols = OLS(endog=y_train, exog=X_train_wcons).fit()"
   ]
  },
  {
   "cell_type": "markdown",
   "metadata": {},
   "source": [
    "* A simple ols model may yield predictions outside [0,1], which are not valid probabilities. "
   ]
  },
  {
   "cell_type": "markdown",
   "metadata": {},
   "source": [
    "**2.2:** The fitted linear regression model can be converted to a classification model (i.e. a model that predicts one of two binary labels 0 or 1) by classifying patients with predicted score greater than 0.5 into `Cancer_type`=1, and the others into the `Cancer_type`=0. Evaluate the classification accuracy (1 - misclassification rate) of the obtained classification model on both the training and test sets."
   ]
  },
  {
   "cell_type": "code",
   "execution_count": 10,
   "metadata": {},
   "outputs": [
    {
     "name": "stdout",
     "output_type": "stream",
     "text": [
      "OLS single predictor accuracy in train = 0.800\n",
      "OLS single predictor accuracy in test = 0.758\n"
     ]
    }
   ],
   "source": [
    "# predictions\n",
    "y_hat_ols_train = ols.predict(X_train_wcons)\n",
    "y_hat_ols_test = ols.predict(X_test_wcons)\n",
    "\n",
    "# accuracy\n",
    "print(\"OLS single predictor accuracy in train = %0.3f\" \n",
    "      % accuracy_score(y_train, y_hat_ols_train>0.5))\n",
    "\n",
    "print(\"OLS single predictor accuracy in test = %0.3f\" \n",
    "      % accuracy_score(y_test, y_hat_ols_test>0.5))"
   ]
  },
  {
   "cell_type": "markdown",
   "metadata": {},
   "source": [
    "**2.3:** Next, fit a simple logistic regression model to the training set. How do the training and test classification accuracies of this model compare with the linear regression model? Remember, you need to set the regularization parameter for sklearn's logistic regression function to be a very large value in order to not regularize (use 'C=100000')."
   ]
  },
  {
   "cell_type": "code",
   "execution_count": 11,
   "metadata": {
    "collapsed": true
   },
   "outputs": [],
   "source": [
    "logreg = LogisticRegression(C=100000, fit_intercept=False)\n",
    "logreg.fit(X_train_wcons, y_train);"
   ]
  },
  {
   "cell_type": "code",
   "execution_count": 12,
   "metadata": {
    "scrolled": false
   },
   "outputs": [
    {
     "name": "stdout",
     "output_type": "stream",
     "text": [
      "Training Accuracy: 0.800\n",
      "Test Accuracy: 0.758\n"
     ]
    }
   ],
   "source": [
    "y_hat_logreg_train = logreg.predict_proba(X_train_wcons)[:,1]\n",
    "y_hat_logreg_test = logreg.predict_proba(X_test_wcons)[:,1]\n",
    "\n",
    "# accuracy\n",
    "print(\"Training Accuracy: %0.3f\" % accuracy_score(y_train, y_hat_logreg_train>0.5))\n",
    "print(\"Test Accuracy: %0.3f\" % accuracy_score(y_test, y_hat_logreg_test>0.5))"
   ]
  },
  {
   "cell_type": "markdown",
   "metadata": {},
   "source": [
    "* Logistic regression yields the same accuracy as the linear regression model.\n",
    "\n",
    "* Note, by “accuracy” here, we just mean the percentage of y_train observations that are perfectly predicted by our model. "
   ]
  },
  {
   "cell_type": "markdown",
   "metadata": {},
   "source": [
    "**2.4:** Plot the quantitative output from the linear regression model and the probabilistic output from the logistic regression model (on the training set points) as a function of the gene predictor. Also, display the true binary response for the training set points in the same plot. Based on these plots, does one of the models appear better suited for binary classification than the other? Explain."
   ]
  },
  {
   "cell_type": "code",
   "execution_count": 13,
   "metadata": {},
   "outputs": [
    {
     "data": {
      "image/png": "[encoded data removed]",
      "text/plain": [
       "<Figure size 864x576 with 1 Axes>"
      ]
     },
     "metadata": {},
     "output_type": "display_data"
    }
   ],
   "source": [
    "fig, ax = plt.subplots(1, 1, figsize=(12, 8))\n",
    "\n",
    "fig.suptitle(\"\")\n",
    "\n",
    "ax.scatter(X_train[[\"D29963_at\"]], \n",
    "           y_hat_ols_train, \n",
    "           label=\"OLS\", \n",
    "           c='blue', \n",
    "           alpha=alpha, \n",
    "           edgecolor='none', s=40)\n",
    "\n",
    "ax.scatter(X_train[[\"D29963_at\"]], \n",
    "           y_hat_logreg_train, \n",
    "           label=\"logreg\", \n",
    "           c='red', \n",
    "           alpha=alpha, \n",
    "           edgecolor='none', s=40)\n",
    "\n",
    "ax.scatter(X_train[[\"D29963_at\"]], \n",
    "           y_train, \n",
    "           label=\"Cancer_type\", \n",
    "           c='black', \n",
    "           alpha=alpha, \n",
    "           edgecolor='none', s=40)\n",
    "\n",
    "ax.legend(loc='best');\n",
    "ax.set_xlabel('D29963_at Value')\n",
    "ax.set_ylabel('Predicted probability / true y')\n",
    "ax.set_title('TrainingClassification Comparison');"
   ]
  },
  {
   "cell_type": "markdown",
   "metadata": {},
   "source": [
    "* Both OLS and Logistic Regression appear to yield similar predicted values. \n",
    "* Based on this figure, the Logistic Regression model does appear to be a better fit. Given that Logistic Regression gives us a valid probability, the Logistic Regression model would be preferred over the OLS model."
   ]
  },
  {
   "cell_type": "markdown",
   "metadata": {},
   "source": [
    "## Question 3: Multiple Logistic Regression\n",
    "\n",
    "1. Next, fit a multiple logistic regression model with all the gene predictors from the data set.  How does the classification accuracy of this model compare with the models fitted in question 2 with a single gene (on both the training and test sets)?  \n",
    "\n",
    "2. Use the `visualize_prob` function provided below to visualize the probabilties predicted by the fitted multiple logistic regression model on both the training and test data sets. The function creates a visualization that places the data points on a vertical line based on the predicted probabilities, with the different cancer classes shown in different colors, and with the 0.5 threshold highlighted using a dotted horizontal line. Is there a difference in the spread of probabilities in the training and test plots? Are there data points for which the predicted probability is close to 0.5? If so, what can you say about these points?"
   ]
  },
  {
   "cell_type": "code",
   "execution_count": 14,
   "metadata": {
    "collapsed": true
   },
   "outputs": [],
   "source": [
    "#--------  visualize_prob\n",
    "# A function to visualize the probabilities predicted by a Logistic Regression model\n",
    "# Input: \n",
    "#      model (Logistic regression model)\n",
    "#      x (n x d array of predictors in training data)\n",
    "#      y (n x 1 array of response variable vals in training data: 0 or 1)\n",
    "#      ax (an axis object to generate the plot)\n",
    "\n",
    "def visualize_prob(model, x, y, ax):\n",
    "    # Use the model to predict probabilities for\n",
    "    y_pred = model.predict_proba(x)\n",
    "    \n",
    "    # Separate the predictions on the label 1 and label 0 points\n",
    "    ypos = y_pred[y==1]\n",
    "    yneg = y_pred[y==0]\n",
    "    \n",
    "    # Count the number of label 1 and label 0 points\n",
    "    npos = ypos.shape[0]\n",
    "    nneg = yneg.shape[0]\n",
    "    \n",
    "    # Plot the probabilities on a vertical line at x = 0, \n",
    "    # with the positive points in blue and negative points in red\n",
    "    pos_handle = ax.plot(np.zeros((npos,1)), ypos[:,1], 'bo', label = 'Cancer Type 1')\n",
    "    neg_handle = ax.plot(np.zeros((nneg,1)), yneg[:,1], 'ro', label = 'Cancer Type 0')\n",
    "\n",
    "    # Line to mark prob 0.5\n",
    "    ax.axhline(y = 0.5, color = 'k', linestyle = '--')\n",
    "    \n",
    "    # Add y-label and legend, do not display x-axis, set y-axis limit\n",
    "    ax.set_ylabel('Probability of AML class')\n",
    "    ax.legend(loc = 'best')\n",
    "    ax.get_xaxis().set_visible(False)\n",
    "    ax.set_ylim([0,1])"
   ]
  },
  {
   "cell_type": "markdown",
   "metadata": {},
   "source": [
    "#### Answers:\n",
    "\n",
    "**3.1:** Next, fit a multiple logistic regression model with all the gene predictors from the data set.  How does the classification accuracy of this model compare with the models fitted in question 2 with a single gene (on both the training and test sets)?  "
   ]
  },
  {
   "cell_type": "code",
   "execution_count": 15,
   "metadata": {
    "collapsed": true
   },
   "outputs": [],
   "source": [
    "logregmul = LogisticRegression(C=100000, fit_intercept=False)\n",
    "\n",
    "X_train_mul_wcons = sm.add_constant(X_train)\n",
    "X_test_mul_wcons = sm.add_constant(X_test)\n",
    "\n",
    "logregmul.fit(X_train_mul_wcons, y_train);"
   ]
  },
  {
   "cell_type": "code",
   "execution_count": 16,
   "metadata": {},
   "outputs": [
    {
     "name": "stdout",
     "output_type": "stream",
     "text": [
      "Training Accuracy: 1.000\n",
      "Test Accuracy: 1.000\n"
     ]
    }
   ],
   "source": [
    "y_hat_logregmul_train = logregmul.predict_proba(X_train_mul_wcons)[:,1]\n",
    "y_hat_logregmul_test = logregmul.predict_proba(X_test_mul_wcons)[:,1]\n",
    "\n",
    "# accuracy\n",
    "print(\"Training Accuracy: %0.3f\" % accuracy_score(y_train, y_hat_logregmul_train>0.5))\n",
    "print(\"Test Accuracy: %0.3f\" % accuracy_score(y_test, y_hat_logregmul_test>0.5))"
   ]
  },
  {
   "cell_type": "markdown",
   "metadata": {},
   "source": [
    "* Accuracy in both training and test improves considerably with all genes vs a single gene."
   ]
  },
  {
   "cell_type": "markdown",
   "metadata": {},
   "source": [
    "**3.2:** Use the `visualize_prob` function provided below to visualize the probabilties predicted by the fitted multiple logistic regression model on both the training and test data sets. The function creates a visualization that places the data points on a vertical line based on the predicted probabilities, with the different cancer classes shown in different colors, and with the 0.5 threshold highlighted using a dotted horizontal line. Is there a difference in the spread of probabilities in the training and test plots? Are there data points for which the predicted probability is close to 0.5? If so, what can you say about these points? "
   ]
  },
  {
   "cell_type": "code",
   "execution_count": 17,
   "metadata": {},
   "outputs": [
    {
     "data": {
      "image/png": "[encoded data removed]",
      "text/plain": [
       "<Figure size 1080x576 with 2 Axes>"
      ]
     },
     "metadata": {},
     "output_type": "display_data"
    }
   ],
   "source": [
    "\"\"\" Plot classification model \"\"\"\n",
    "\n",
    "fig, ax = plt.subplots(1, 2, figsize=(15, 8))\n",
    "\n",
    "fig.suptitle(\"\")\n",
    "\n",
    "visualize_prob(logregmul, \n",
    "               X_train_mul_wcons, \n",
    "               y_train, ax[0])\n",
    "ax[0].set_title('Training Data')\n",
    "\n",
    "visualize_prob(logregmul, \n",
    "               X_test_mul_wcons, \n",
    "               y_test, ax[1])\n",
    "ax[1].set_title('Test Data');"
   ]
  },
  {
   "cell_type": "markdown",
   "metadata": {},
   "source": [
    "* In training the probabilities are either 1 or 0. In test probabilities a handful of predicted probabilities fall closer to 0.5. \n",
    "* For these points, we are unsure if we should predict $\\hat{y}=0$ or $\\hat{y}=1$."
   ]
  },
  {
   "cell_type": "markdown",
   "metadata": {},
   "source": [
    "## Question 4: Analyzing Significance of Coefficients\n",
    "\n",
    "How many of the coefficients estimated by the multiple logistic regression in the previous problem are significantly different from zero at a *significance level of 95%*? \n",
    "\n",
    "Hint: To answer this question, use *bootstrapping* with 1000 boostrap samples/iterations.  "
   ]
  },
  {
   "cell_type": "code",
   "execution_count": 18,
   "metadata": {
    "collapsed": true
   },
   "outputs": [],
   "source": [
    "iterations = 1000\n",
    "\n",
    "b_genes_boot = np.zeros((X_train_mul_wcons.shape[1],iterations))\n",
    "\n",
    "for i in range(iterations):\n",
    "    # sample with replacement from X_train\n",
    "    boot_rows = np.random.choice(range(X_train_mul_wcons.shape[0]), size=X_train_mul_wcons.shape[0], replace=True)\n",
    "    X_train_boot = X_train_mul_wcons.values[boot_rows]\n",
    "    y_train_boot = y_train.values[boot_rows]\n",
    "\n",
    "    # fit\n",
    "    logregmul_boot = LogisticRegression(C=100000, fit_intercept=False)\n",
    "    logregmul_boot.fit(X_train_boot, y_train_boot)\n",
    "    b_genes_boot[:,i] = logregmul_boot.coef_\n"
   ]
  },
  {
   "cell_type": "code",
   "execution_count": 19,
   "metadata": {
    "collapsed": true
   },
   "outputs": [],
   "source": [
    "# construct confidence intervals\n",
    "b_genes_ci_upper = np.percentile(b_genes_boot, 97.5, axis=1)\n",
    "b_genes_ci_lower = np.percentile(b_genes_boot, 2.5, axis=1)"
   ]
  },
  {
   "cell_type": "code",
   "execution_count": 20,
   "metadata": {},
   "outputs": [
    {
     "name": "stdout",
     "output_type": "stream",
     "text": [
      "Significant coefficents at 5pct level = 1865 / 7130\n"
     ]
    }
   ],
   "source": [
    "# significant predictors\n",
    "sig_b_ct = 0\n",
    "\n",
    "# if ci contains 0, then insignificant\n",
    "for i in range(X_train_mul_wcons.shape[1]):\n",
    "    if b_genes_ci_upper[i]<=0 or b_genes_ci_lower[i]>=0:\n",
    "        sig_b_ct += 1\n",
    "\n",
    "print(\"Significant coefficents at 5pct level = %i / %i\" % (sig_b_ct, X_train_mul_wcons.shape[1]))"
   ]
  },
  {
   "cell_type": "markdown",
   "metadata": {},
   "source": [
    "* Note that the number of significant predictors varies slightly with each run, but should be in the 1800 range. "
   ]
  },
  {
   "cell_type": "markdown",
   "metadata": {},
   "source": [
    "## Question 5: High Dimensionality\n",
    "\n",
    "One of the issues you may run into when dealing with high dimensional data is that your 2D and 3D intuition may fail breakdown. For example, distance metrics in high dimensions can have properties that may feel counterintuitive.\n",
    "\n",
    "Consider the following: You have a hypersphere with a radius of $1$, inside of a hypercube centered at $0$, with edges of length $2$.\n",
    "\n",
    "1. As a function of $d$, the number of dimensions, how much of the hypercube's volume is contained within the hypersphere?\n",
    "2. What happens as $d$ gets very large?\n",
    "3. Using the functions provided below, create a plot of how the volume ratio changes as a function of $d$.\n",
    "4. What does this tell you about where the majority of the volume of the hypercube resides in higher dimensions? \n",
    "\n",
    "*HINTS:* \n",
    "- The volume of a hypercube with edges of length $2$ is $V_c(d) = 2^d$.\n",
    "- The volume of a hyperphere with a radius of $1$ is $V_s(d) = \\frac{\\pi^{\\frac{d}{2}}} {\\Gamma(\\frac{d}{2}+1)}$, where $\\Gamma$ is Euler's Gamma Function.\n",
    "- $\\Gamma$ is increasing for all $d \\geq 1$."
   ]
  },
  {
   "cell_type": "markdown",
   "metadata": {},
   "source": [
    "**Answer:**\n",
    "\n",
    "The amount of the hypercube's volume contained in the hypersphere is \n",
    "$$ \\frac{\\pi^{\\frac{d}{2}}} {2^d\\Gamma(\\frac{d}{2}+1)}. $$\n",
    "\n",
    "Observe that as $d \\rightarrow \\infty$ the ratio above goes to $0$. Hence, the hypersphere contains less and less of the volume and $d$ gets larger. In high dimensions, all the volume of the hypercube will be near the surface, which is counterintuitive."
   ]
  },
  {
   "cell_type": "code",
   "execution_count": 21,
   "metadata": {
    "collapsed": true
   },
   "outputs": [],
   "source": [
    "def V_c(d):\n",
    "    \"\"\"\n",
    "    Calculate the volumn of a hypercube of dimension d.\n",
    "    \"\"\"\n",
    "    return 2**d\n",
    "\n",
    "def V_s(d):\n",
    "    \"\"\"\n",
    "    Calculate the volume of a hypersphere of dimension d.\n",
    "    \"\"\"\n",
    "    return math.pi**(d/2)/gamma((d/2)+1)  "
   ]
  },
  {
   "cell_type": "code",
   "execution_count": 22,
   "metadata": {
    "collapsed": true
   },
   "outputs": [],
   "source": [
    "rs = [V_s(d)/V_c(d) for d in range(2, 10)]"
   ]
  },
  {
   "cell_type": "code",
   "execution_count": 23,
   "metadata": {},
   "outputs": [
    {
     "data": {
      "image/png": "[encoded data removed]",
      "text/plain": [
       "<Figure size 576x432 with 1 Axes>"
      ]
     },
     "metadata": {},
     "output_type": "display_data"
    }
   ],
   "source": [
    "fig, ax = plt.subplots(1, 1, figsize=(8, 6))\n",
    "\n",
    "fig.suptitle('Volume Ratio as a function of $d$.')\n",
    "\n",
    "ax.scatter(range(2, 10), rs, alpha=0.75);\n",
    "ax.set_xlabel(\"Dimension, $d$\")\n",
    "ax.set_ylabel(\"$V_s(d)$/$V_c(d)$\");"
   ]
  },
  {
   "cell_type": "markdown",
   "metadata": {},
   "source": [
    "## Question 6: PCA and Dimensionality Reduction\n",
    "\n",
    "As we saw above, high dimensional problems can have counterintuitive behavior, thus we often want to try to reduce the dimensionality of our problems. A reasonable approach to reduce the dimensionality of the data is to use PCA and fit a logistic regression model on the smallest set of principal components that explain at least 90% of the variance in the predictors.\n",
    "\n",
    "1. Using the gene data from Problem 1, how many principal components do we need to capture at least 90% of the variance? How much of the variance do they actually capture? Fit a Logistic Regression model using these principal components. How do the classification accuracy values on both the training and tests sets compare with the models fit in question 3.1?  \n",
    "\n",
    "2. Use the code provided in question 3 to visualize the probabilities predicted by the fitted model on both the training and test sets. How does the spread of probabilities in these plots compare to those for the model in question 3.2? If the lower dimensional representation yields comparable predictive power, what advantage does the lower dimensional representation provide?"
   ]
  },
  {
   "cell_type": "markdown",
   "metadata": {},
   "source": [
    "#### Answers:\n",
    "\n",
    "**6.1:** Using the gene data from Problem 1, how many principal components do we need to use to explain 90% of the variance? How much of the variance do they explain? Fit a Logistic Regression model using these principal components. How do the classification accuracy values on both the training and tests sets compare with the models fit in question 3.1?  "
   ]
  },
  {
   "cell_type": "code",
   "execution_count": 24,
   "metadata": {},
   "outputs": [
    {
     "name": "stdout",
     "output_type": "stream",
     "text": [
      "The first 29 components explain 0.903 of variance\n"
     ]
    }
   ],
   "source": [
    "pca = PCA()\n",
    "pca.fit(X_train)\n",
    "var_c = np.cumsum(pca.explained_variance_ratio_)\n",
    "\n",
    "n_components_pca = np.sum(var_c<0.9)\n",
    "print(\"The first %i components explain %0.3f of variance\" % (n_components_pca+1, var_c[n_components_pca]))\n",
    "\n",
    "X_train_pca = pca.transform(X_train)[:,:n_components_pca]\n",
    "X_test_pca = pca.transform(X_test)[:,:n_components_pca]"
   ]
  },
  {
   "cell_type": "code",
   "execution_count": 25,
   "metadata": {},
   "outputs": [
    {
     "name": "stdout",
     "output_type": "stream",
     "text": [
      "Training Accuracy: 1.000\n",
      "Test Accuracy: 0.970\n"
     ]
    }
   ],
   "source": [
    "logregpca = LogisticRegression(C=100000, fit_intercept=True)\n",
    "logregpca.fit(X_train_pca, y_train)\n",
    "\n",
    "y_hat_pca_train = logregpca.predict_proba(X_train_pca)[:,1]\n",
    "y_hat_pca_test = logregpca.predict_proba(X_test_pca)[:,1]\n",
    "\n",
    "# accuracy\n",
    "print(\"Training Accuracy: %0.3f\" % accuracy_score(y_train, y_hat_pca_train>0.5))\n",
    "print(\"Test Accuracy: %0.3f\" % accuracy_score(y_test, y_hat_pca_test>0.5))"
   ]
  },
  {
   "cell_type": "markdown",
   "metadata": {},
   "source": [
    "* The accuracy in train identical for pca + logreg vs logreg. The testing accuracy dropped slightly with PCA. "
   ]
  },
  {
   "cell_type": "markdown",
   "metadata": {},
   "source": [
    "**6.2:** Use the code provided in question 3 to visualize the probabilities predicted by the fitted models on both the training and test sets. How does the spread of probabilities in these plots compare to those for the model in question 3.2? If the lower dimensional representation yields comparable predictive power, what advantage does the lower dimensional representation provide?"
   ]
  },
  {
   "cell_type": "code",
   "execution_count": 26,
   "metadata": {},
   "outputs": [
    {
     "data": {
      "image/png": "[encoded data removed]",
      "text/plain": [
       "<Figure size 1080x576 with 2 Axes>"
      ]
     },
     "metadata": {},
     "output_type": "display_data"
    }
   ],
   "source": [
    "f, (ax1, ax2) = plt.subplots(1, 2, figsize=(15, 8))\n",
    "visualize_prob(\n",
    "    model=logregpca,\n",
    "    x=X_train_pca,\n",
    "    y=y_train,\n",
    "    ax=ax1)\n",
    "ax1.set_title(\"TRAIN\")\n",
    "visualize_prob(\n",
    "    model=logregpca,\n",
    "    x=X_test_pca,\n",
    "    y=y_test,\n",
    "    ax=ax2)\n",
    "ax2.set_title(\"TEST\")\n",
    "plt.tight_layout()"
   ]
  },
  {
   "cell_type": "markdown",
   "metadata": {},
   "source": [
    "* With the all-predictor logit model we risk finding spurious relationships between predictors and response.\n",
    "* Using PCA we hope to find some lower dimensional representation of our predictors that retains our predictive power but hopefully is less vulnerable to overfitting. \n",
    "* In training, the pca+logit model is still able to exactly distinguish between ALL and AML. However we see our performance has not improved in test (we have a misclassified point)."
   ]
  },
  {
   "cell_type": "markdown",
   "metadata": {},
   "source": [
    "\n",
    "## Multiclass Thyroid Classification\n",
    "\n",
    "In this problem, you will build a model for diagnosing disorders in a patient's thyroid gland. Given the results of medical tests on a patient, the task is to classify the patient either as:\n",
    "- *normal* (class 1)\n",
    "- having *hyperthyroidism* (class 2)\n",
    "- or having *hypothyroidism* (class 3). \n",
    "\n",
    "The data set is provided in the file `dataset_hw5_2.csv`. Columns 1-2 contain biomarkers for a patient (predictors):\n",
    "- Biomarker 1: (Logarithm of) level of basal thyroid-stimulating hormone (TSH) as measured by radioimmuno assay\n",
    "- Biomarker 2: (Logarithm of) maximal absolute difference of TSH value after injection of 200 micro grams of thyrotropin-releasing hormone as compared to the basal value.\n",
    "\n",
    "The last column contains the diagnosis for the patient from a medical expert. This data set was obtained from the UCI Machine Learning Repository.\n",
    "\n",
    "Notice that unlike previous exercises, the task at hand is a 3-class classification problem. We will explore the use of different methods for multiclass classification.\n",
    "\n",
    "First task: split the data using the following code:"
   ]
  },
  {
   "cell_type": "code",
   "execution_count": 27,
   "metadata": {
    "collapsed": true
   },
   "outputs": [],
   "source": [
    "np.random.seed(9001)\n",
    "df = pd.read_csv('data/dataset_hw5_2.csv')\n",
    "msk = np.random.rand(len(df)) < 0.5\n",
    "data_train = df[msk]\n",
    "data_test = df[~msk]"
   ]
  },
  {
   "cell_type": "markdown",
   "metadata": {},
   "source": [
    "## Question 7: Fit Classification Models\n",
    "\n",
    "1. Generate a 2D scatter plot of the training set, denoting each class with a different color. Does it appear that the data points can be separated well by a linear classifier?\n",
    "\n",
    "2. Briefly explain the difference between multinomial logistic regression and one-vs-rest (OvR) logistic regression methods for fitting a multiclass classifier (in 2-3 sentences).\n",
    "\n",
    "3. Fit linear classification models on the thyroid data set using both the methods.  You should use $L_2$ regularization in both cases, tuning the regularization parameter using cross-validation.  Is there a difference in the overall classification accuracy of the two methods on the test set?\n",
    "\n",
    "4. Also, compare the training and test accuracies of these models with the following classification methods:\n",
    "    - Multiclass Logistic Regression with quadratic terms \n",
    "    - Linear Discriminant Analysis\n",
    "    - Quadratic Discriminant Analysis\n",
    "    - k-Nearest Neighbors\n",
    "    <br>\n",
    "*Note:* you may use either the OvR or multinomial variant for the multiclass logistic regression (with $L_2$ regularization). Do not forget to use cross-validation to choose the regularization parameter, and also the number of neighbors in k-NN. \n",
    "\n",
    "5. Does the inclusion of the polynomial terms in logistic regression yield better test accuracy compared to the model with only linear terms? \n",
    "\n",
    "\n",
    "*Hint:* You may use the `KNeighborsClassifier` class to fit a k-NN classification model."
   ]
  },
  {
   "cell_type": "code",
   "execution_count": 28,
   "metadata": {},
   "outputs": [
    {
     "data": {
      "text/html": [
       "<div>\n",
       "<style scoped>\n",
       "    .dataframe tbody tr th:only-of-type {\n",
       "        vertical-align: middle;\n",
       "    }\n",
       "\n",
       "    .dataframe tbody tr th {\n",
       "        vertical-align: top;\n",
       "    }\n",
       "\n",
       "    .dataframe thead th {\n",
       "        text-align: right;\n",
       "    }\n",
       "</style>\n",
       "<table border=\"1\" class=\"dataframe\">\n",
       "  <thead>\n",
       "    <tr style=\"text-align: right;\">\n",
       "      <th></th>\n",
       "      <th>Biomarker 1</th>\n",
       "      <th>Biomarker 2</th>\n",
       "      <th>Diagnosis</th>\n",
       "    </tr>\n",
       "  </thead>\n",
       "  <tbody>\n",
       "    <tr>\n",
       "      <th>0</th>\n",
       "      <td>0.262372</td>\n",
       "      <td>0.875473</td>\n",
       "      <td>1.0</td>\n",
       "    </tr>\n",
       "    <tr>\n",
       "      <th>5</th>\n",
       "      <td>0.336479</td>\n",
       "      <td>1.098616</td>\n",
       "      <td>1.0</td>\n",
       "    </tr>\n",
       "    <tr>\n",
       "      <th>9</th>\n",
       "      <td>0.182330</td>\n",
       "      <td>-1.609488</td>\n",
       "      <td>2.0</td>\n",
       "    </tr>\n",
       "    <tr>\n",
       "      <th>12</th>\n",
       "      <td>-0.223131</td>\n",
       "      <td>0.788462</td>\n",
       "      <td>1.0</td>\n",
       "    </tr>\n",
       "    <tr>\n",
       "      <th>13</th>\n",
       "      <td>0.587792</td>\n",
       "      <td>1.458617</td>\n",
       "      <td>1.0</td>\n",
       "    </tr>\n",
       "  </tbody>\n",
       "</table>\n",
       "</div>"
      ],
      "text/plain": [
       "    Biomarker 1  Biomarker 2  Diagnosis\n",
       "0      0.262372     0.875473        1.0\n",
       "5      0.336479     1.098616        1.0\n",
       "9      0.182330    -1.609488        2.0\n",
       "12    -0.223131     0.788462        1.0\n",
       "13     0.587792     1.458617        1.0"
      ]
     },
     "execution_count": 28,
     "metadata": {},
     "output_type": "execute_result"
    }
   ],
   "source": [
    "#look at the dataframe head\n",
    "data_train.head()"
   ]
  },
  {
   "cell_type": "markdown",
   "metadata": {},
   "source": [
    "#### Answers:\n",
    "\n",
    "**7.1:** Generate a 2D scatter plot of the training set, denoting each class with a different color. Does it appear that the data points can be separated well by a linear classifier?"
   ]
  },
  {
   "cell_type": "code",
   "execution_count": 29,
   "metadata": {},
   "outputs": [
    {
     "data": {
      "image/png": "[encoded data removed]",
      "text/plain": [
       "<Figure size 576x432 with 1 Axes>"
      ]
     },
     "metadata": {},
     "output_type": "display_data"
    }
   ],
   "source": [
    "# generate a numpy array of possible responses \n",
    "responses = sorted(data_train.Diagnosis.unique())\n",
    "colors = ['r','b','g']\n",
    "\n",
    "plt.figure(figsize = (8,6))\n",
    "\n",
    "for i in range(len(responses)):\n",
    "    response = responses[i]\n",
    "    msk = data_train['Diagnosis'] == response \n",
    "    plt.scatter(data_train['Biomarker 1'][msk], \n",
    "                data_train['Biomarker 2'][msk], \n",
    "                c = colors[i],\n",
    "                label = 'Class ' + str(int(response)),\n",
    "                alpha=alpha)\n",
    "    \n",
    "plt.legend()\n",
    "plt.title('Scatter Plot of the Training Data Set')\n",
    "plt.xlabel('Biomarker 1')\n",
    "plt.ylabel('Biomarker 2')\n",
    "plt.show()"
   ]
  },
  {
   "cell_type": "markdown",
   "metadata": {},
   "source": [
    "Yes, it appears that a linear classifier will work well. By inspection, a linear classifier should be able to correctly classify >90% of the training data points\n",
    "\n",
    "**7.2:** Briefly explain the difference between multinomial logistic regression and one-vs-rest (OvR) logistic regression methods for fitting a multiclass classifier (in 2-3 sentences).\n",
    "\n",
    "In OvR Logistic Regression the probability of each class is predicted over all of the other classes combined. In Multinomial Logistic Regression one class is set as the reference class and then separate models are used for each of the other classes; comparing each class against the reference class. \n",
    "\n",
    "\n",
    "**7.3:** Fit linear classification models on the thyroid data set using both the methods. Is there a difference in the overall classification accuracy of the two methods on the test set?"
   ]
  },
  {
   "cell_type": "code",
   "execution_count": 30,
   "metadata": {},
   "outputs": [
    {
     "name": "stdout",
     "output_type": "stream",
     "text": [
      "OVR Logistic Regression Test Score:  0.840707964602\n",
      "Multinomial Logistic Regression Test Score:  0.884955752212\n"
     ]
    }
   ],
   "source": [
    "\"\"\"\n",
    "\n",
    "Note that both OVR and Multinomial Logistic Regression are implemented in SKLearn, chosen with the argument \n",
    "'multi_class' - Solver implements some variant of Newton Raphson algorithm, and LogisticRegressionCV by default \n",
    "implements L2 Regularization and picks the optimal regularization parameter\n",
    "\n",
    "\"\"\"\n",
    "\n",
    "#One v. Rest\n",
    "lrm_ovr = LogisticRegressionCV(multi_class = 'ovr')\n",
    "lrm_ovr.fit(data_train.iloc[:,:-1],data_train.iloc[:,-1])\n",
    "\n",
    "#Multinomial - according to the documentation, the liblinear solver doesn't work for multinomial\n",
    "lrm_multinomial = LogisticRegressionCV(multi_class = 'multinomial', solver = 'newton-cg')\n",
    "lrm_multinomial.fit(data_train.iloc[:,:-1],data_train.iloc[:,-1])\n",
    "\n",
    "#Computing the score on the test set - \n",
    "print('OVR Logistic Regression Test Score: ',lrm_ovr.score(data_test.iloc[:,:-1],data_test.iloc[:,-1]))\n",
    "print('Multinomial Logistic Regression Test Score: ',lrm_multinomial.score(data_test.iloc[:,:-1],data_test.iloc[:,-1]))"
   ]
  },
  {
   "cell_type": "markdown",
   "metadata": {},
   "source": [
    "* Multinomial does better than One vs. Rest on this particular split of the data\n",
    "\n",
    "**7.4:** Also, compare the training and test accuracies of these models with the following classification methods:\n",
    "\n",
    "1. Multiclass Logistic Regression with quadratic terms \n",
    "1. Linear Discriminant Analysis\n",
    "1. Quadratic Discriminant Analysis\n",
    "1. k-Nearest Neighbors\n",
    "\n",
    "*Note:* You may use either the OvR or multinomial variant for the multiclass logistic regression (with $L_2$ regularization). Do not forget to use cross-validation to choose the regularization parameter, and also the number of neighbors in $k$-NN. \n"
   ]
  },
  {
   "cell_type": "code",
   "execution_count": 31,
   "metadata": {},
   "outputs": [
    {
     "name": "stdout",
     "output_type": "stream",
     "text": [
      "KNN Test Score: (Best K is 3) 0.867256637168\n",
      "LDA Test Score:  0.83185840708\n",
      "QDA Test Score:  0.849557522124\n",
      "OVR Poly Logistic Regression Test Score:  0.87610619469\n",
      "Multinomial Poly Logistic Regression Test Score:  0.893805309735\n"
     ]
    }
   ],
   "source": [
    "lda = LinearDiscriminantAnalysis()\n",
    "qda = QuadraticDiscriminantAnalysis()\n",
    "\n",
    "lda.fit(data_train.iloc[:,:-1],data_train.iloc[:,-1])\n",
    "qda.fit(data_train.iloc[:,:-1],data_train.iloc[:,-1])\n",
    "\n",
    "\n",
    "max_score = 0\n",
    "max_k = 0 \n",
    "\n",
    "for k in range(1,26):\n",
    "    knn = KNeighborsClassifier(n_neighbors = k)\n",
    "    score = cross_val_score(knn,data_train.iloc[:,:-1],data_train.iloc[:,-1]).mean()\n",
    "    if score > max_score:\n",
    "        max_k = k\n",
    "        max_score = score\n",
    "\n",
    "knn = KNeighborsClassifier(n_neighbors = max_k)\n",
    "knn.fit(data_train.iloc[:,:-1],data_train.iloc[:,-1])\n",
    "\n",
    "print('KNN Test Score:', '(Best K is ' + str(max_k) +')',  knn.score(data_test.iloc[:,:-1],data_test.iloc[:,-1]))\n",
    "print('LDA Test Score: ',lda.score(data_test.iloc[:,:-1],data_test.iloc[:,-1]))\n",
    "print('QDA Test Score: ',qda.score(data_test.iloc[:,:-1],data_test.iloc[:,-1]))\n",
    "\n",
    "\n",
    "poly = PolynomialFeatures(degree = 2, include_bias = False)\n",
    "X_poly_train = poly.fit_transform(data_train.iloc[:,:-1])\n",
    "X_poly_test = poly.fit_transform(data_test.iloc[:,:-1])\n",
    "lrm_ovr2 = LogisticRegressionCV(multi_class = 'ovr')\n",
    "lrm_ovr2.fit(X_poly_train,data_train.iloc[:,-1])\n",
    "lrm_multinomial2 = LogisticRegressionCV(multi_class = 'multinomial', solver = 'newton-cg')\n",
    "lrm_multinomial2.fit(X_poly_train,data_train.iloc[:,-1])\n",
    "\n",
    "print('OVR Poly Logistic Regression Test Score: ',lrm_ovr2.score(X_poly_test,data_test.iloc[:,-1]))\n",
    "print('Multinomial Poly Logistic Regression Test Score: ',lrm_multinomial2.score(X_poly_test,data_test.iloc[:,-1]))"
   ]
  },
  {
   "cell_type": "markdown",
   "metadata": {},
   "source": [
    "**7.5:** Does the inclusion of the polynomial terms in logistic regression yield better test accuracy compared to the model with only linear terms?"
   ]
  },
  {
   "cell_type": "markdown",
   "metadata": {},
   "source": [
    "* Multinomial Poly Logistic Regression does yield slightly better test accuracy."
   ]
  },
  {
   "cell_type": "markdown",
   "metadata": {},
   "source": [
    "## Question 8: Visualize Decision Boundaries\n",
    "\n",
    "The following code will allow you to visualize the decision boundaries of a given classification model."
   ]
  },
  {
   "cell_type": "code",
   "execution_count": 32,
   "metadata": {
    "collapsed": true
   },
   "outputs": [],
   "source": [
    "#--------  plot_decision_boundary\n",
    "# A function that visualizes the data and the decision boundaries\n",
    "# Input: \n",
    "#      x (predictors)\n",
    "#      y (labels)\n",
    "#      model (the classifier you want to visualize)\n",
    "#      title (title for plot)\n",
    "#      ax (a set of axes to plot on)\n",
    "#      poly_degree (highest degree of polynomial terms included in the model; None by default)\n",
    "\n",
    "def plot_decision_boundary(x, y, model, title, ax, poly_degree=None):\n",
    "    # Create mesh\n",
    "    # Interval of points for biomarker 1\n",
    "    min0 = x[:,0].min()\n",
    "    max0 = x[:,0].max()\n",
    "    interval0 = np.arange(min0, max0, (max0-min0)/100)\n",
    "    n0 = np.size(interval0)\n",
    "    \n",
    "    # Interval of points for biomarker 2\n",
    "    min1 = x[:,1].min()\n",
    "    max1 = x[:,1].max()\n",
    "    interval1 = np.arange(min1, max1, (max1-min1)/100)\n",
    "    n1 = np.size(interval1)\n",
    "\n",
    "    # Create mesh grid of points\n",
    "    x1, x2 = np.meshgrid(interval0, interval1)\n",
    "    x1 = x1.reshape(-1,1)\n",
    "    x2 = x2.reshape(-1,1)\n",
    "    xx = np.concatenate((x1, x2), axis=1)\n",
    "\n",
    "    # Predict on mesh of points\n",
    "    # Check if polynomial terms need to be included\n",
    "    if(poly_degree!=None):\n",
    "        # Use PolynomialFeatures to generate polynomial terms\n",
    "        poly = PolynomialFeatures(poly_degree,include_bias = False)\n",
    "        xx_ = poly.fit_transform(xx)\n",
    "        yy = model.predict(xx_) \n",
    "        \n",
    "    else:   \n",
    "        yy = model.predict(xx)\n",
    "        \n",
    "    yy = yy.reshape((n0, n1))\n",
    "\n",
    "    # Plot decision surface\n",
    "    x1 = x1.reshape(n0, n1)\n",
    "    x2 = x2.reshape(n0, n1)\n",
    "    ax.contourf(x1, x2, yy, cmap=plt.cm.coolwarm, alpha=0.8)\n",
    "    \n",
    "    # Plot scatter plot of data\n",
    "    yy = y.reshape(-1,)\n",
    "    ax.scatter(x[yy==1,0], x[yy==1,1], c='blue', label='Normal', cmap=plt.cm.coolwarm)\n",
    "    ax.scatter(x[yy==2,0], x[yy==2,1], c='cyan', label='Hyper', cmap=plt.cm.coolwarm)\n",
    "    ax.scatter(x[yy==3,0], x[yy==3,1], c='red', label='Hypo', cmap=plt.cm.coolwarm)\n",
    "    \n",
    "    # Label axis, title\n",
    "    ax.set_title(title)\n",
    "    ax.set_xlabel('Biomarker 1')\n",
    "    ax.set_ylabel('Biomarker 2')"
   ]
  },
  {
   "cell_type": "markdown",
   "metadata": {},
   "source": [
    "**Note:** The provided code uses `sklearn`'s `PolynomialFeatures` to generate higher-order polynomial terms, with degree `poly_degree`. \n",
    "Also, if you have loaded the data sets into `pandas` data frames, you may use the `as_matrix` function to obtain a `numpy` array from the data frame objects.\n",
    "\n",
    "1. Use the above code to visualize the decision boundaries for each of the model fitted in the previous question.\n",
    "2. Comment on the difference in the decision boundaries (if any) for the OvR and multinomial logistic regression models. Is there a difference between the decision boundaries for the linear logistic regression models and LDA. What about the decision boundaries for the quadratic logistic regression and QDA? Give an explanation for your answer.\n",
    "3. QDA is a generalization of the LDA model. What's the primary difference that makes QDA more general? How does that manifest in the plots you generated?"
   ]
  },
  {
   "cell_type": "markdown",
   "metadata": {},
   "source": [
    "#### Answers:\n",
    "\n",
    "**8.1:** Use the above code to visualize the decision boundaries for each of the model fitted in the previous question."
   ]
  },
  {
   "cell_type": "code",
   "execution_count": 33,
   "metadata": {},
   "outputs": [
    {
     "data": {
      "image/png": "[encoded data removed]",
      "text/plain": [
       "<Figure size 1080x1080 with 6 Axes>"
      ]
     },
     "metadata": {},
     "output_type": "display_data"
    }
   ],
   "source": [
    "fitted_models = [lrm_ovr, \n",
    "                 lrm_multinomial, \n",
    "                 knn, lda, qda, \n",
    "                 lrm_ovr2, lrm_multinomial2]\n",
    "titles = ['Logistic Regression - One v. Rest', \n",
    "          'Logistic Regression - Multinomial',\n",
    "          'KNN','LDA','QDA',\n",
    "          'Poly Log Reg - OVR', 'Poly Log Reg- Multi']\n",
    "\n",
    "f, axes = plt.subplots(3, 2, figsize = (15,15))\n",
    "c = 0 \n",
    "for i in range(len(axes)):\n",
    "    for j in range(len(axes[0])):\n",
    "        mod = fitted_models[c]\n",
    "               \n",
    "        #hard code the degree of the polynomial ones\n",
    "        deg = None\n",
    "        if c == 5 or c == 6:\n",
    "            deg = 2\n",
    "            \n",
    "        plot_decision_boundary(data_train.iloc[:,:-1].values, data_train.iloc[:,-1].values, \n",
    "                               mod, titles[c], axes[i,j], poly_degree=deg)\n",
    "        c += 1\n",
    "        \n",
    "        if c == len(fitted_models):\n",
    "            break\n",
    "\n",
    "            "
   ]
  },
  {
   "cell_type": "markdown",
   "metadata": {},
   "source": [
    "**8.2:** Comment on the difference in the decision boundaries (if any) for the OvR and multinomial logistic regression models. Is there a difference between the decision boundaries for the linear logistic regression models and LDA. What about the decision boundaries for the quadratic logistic regression and QDA? Give an explanation for your answer.\n",
    "\n",
    "* When comparing the OvR and multinomial logistic regression boundaries, both boundaries are linear, but have different slopes and orientations. In looking at the OvR boundaries you can see that they are trying to segment one class from all the remaining classes, and not each class from each other. This explains the differences in the slopes.\n",
    "\n",
    "* The linear logistic regression model, using OvR, looks similar to the LDA boundaries. When looking at the boundaries for the LDA model, you can see that it is keeping the same covariance over each grouping of points, which in some cases is creating some error (e.g. the boundary separating the dark blue and teal color). As LDA is keeping the covariances the same, we can see that some of the regions, namely the blue region in the middle, is being kept wider than it otherwise may be. That region is more narrow in the logistic regression model between the blue and red regions.\n",
    "\n",
    "* The quadratic logistic regression and the QDA models seem to have them most exotic looking boundaries. The quadratic logistic regression model is clearly creating quadratic looking lines as the class boundaries. The QDA model is creating a distributional 'ring' around each grouping of points. In the QDA case, we can see that these distributions all have different covariances, which differentiates it from the LDA case.\n",
    "\n",
    "**8.3:** QDA is a generalization of the LDA model. What's the primary difference that makes QDA more general? How does that manifest in the plots you generated?\n",
    "\n",
    "* The difference is that QDA does not assume the covariances are equal.\n",
    "* This allows QDA to find more complex decision boundaries than LDA"
   ]
  },
  {
   "cell_type": "code",
   "execution_count": null,
   "metadata": {
    "collapsed": true
   },
   "outputs": [],
   "source": []
  }
 ],
 "metadata": {
  "anaconda-cloud": {},
  "kernelspec": {
   "display_name": "Python [py35]",
   "language": "python",
   "name": "Python [py35]"
  },
  "language_info": {
   "codemirror_mode": {
    "name": "ipython",
    "version": 3
   },
   "file_extension": ".py",
   "mimetype": "text/x-python",
   "name": "python",
   "nbconvert_exporter": "python",
   "pygments_lexer": "ipython3",
   "version": "3.5.5"
  }
 },
 "nbformat": 4,
 "nbformat_minor": 2
}
