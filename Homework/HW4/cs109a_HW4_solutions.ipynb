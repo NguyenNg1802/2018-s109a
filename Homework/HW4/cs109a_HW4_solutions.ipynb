{
 "cells": [
  {
   "cell_type": "markdown",
   "metadata": {},
   "source": [
    "# <img style=\"float: left; padding-right: 10px; width: 45px\" src=\"fig/iacs.png\"> S-109A Introduction to Data Science \n",
    "## Homework 4 - Regularization \n",
    "\n",
    "\n",
    "\n",
    "**Harvard University**<br/>\n",
    "**Summer 2018**<br/>\n",
    "**Instructors**: Pavlos Protopapas, Kevin Rader\n",
    "\n",
    "<hr style=\"height:2pt\">"
   ]
  },
  {
   "cell_type": "markdown",
   "metadata": {},
   "source": [
    "### INSTRUCTIONS\n",
    "\n",
    "- To submit your assignment follow the instructions given in canvas.\n",
    "- Restart the kernel and run the whole notebook again before you submit. \n",
    "- If you submit individually and you have worked with someone, please include the name of your [one] partner below. \n",
    "\n",
    "Names of people you have worked with goes here: \n",
    "\n",
    "<hr style=\"height:2pt\">"
   ]
  },
  {
   "cell_type": "code",
   "execution_count": 1,
   "metadata": {},
   "outputs": [
    {
     "data": {
      "text/html": [
       "<style>\n",
       "h1 { \n",
       "    padding-top: 25px;\n",
       "    padding-bottom: 25px;\n",
       "    text-align: left; \n",
       "    padding-left: 10px;\n",
       "    background-color: #DDDDDD; \n",
       "    color: black;\n",
       "}\n",
       "div.exercise {\n",
       "\tbackground-color: #ffcccc;\n",
       "\tborder-color: #E9967A; \t\n",
       "\tborder-left: 5px solid #800080; \n",
       "\tpadding: 0.5em;\n",
       "}\n",
       "div.theme {\n",
       "\tbackground-color: #DDDDDD;\n",
       "\tborder-color: #E9967A; \t\n",
       "\tborder-left: 5px solid #800080; \n",
       "\tpadding: 0.5em;\n",
       "\tfont-size: 18pt;\n",
       "}\n",
       "p.q1 { \n",
       "    padding-top: 5px;\n",
       "    padding-bottom: 5px;\n",
       "    text-align: left; \n",
       "    padding-left: 5px;\n",
       "    background-color: #EEEEEE; \n",
       "    color: black;\n",
       "}\n",
       "header {\n",
       "   padding-top: 35px;\n",
       "    padding-bottom: 35px;\n",
       "    text-align: left; \n",
       "    padding-left: 10px;\n",
       "    background-color: #DDDDDD; \n",
       "    color: black;\n",
       "}\n",
       "</style>\n",
       "\n"
      ],
      "text/plain": [
       "<IPython.core.display.HTML object>"
      ]
     },
     "execution_count": 1,
     "metadata": {},
     "output_type": "execute_result"
    }
   ],
   "source": [
    "from IPython.core.display import HTML\n",
    "def css_styling(): styles = open(\"cs109.css\", \"r\").read(); return HTML(styles)\n",
    "css_styling()"
   ]
  },
  {
   "cell_type": "markdown",
   "metadata": {},
   "source": [
    "import these libraries"
   ]
  },
  {
   "cell_type": "code",
   "execution_count": 2,
   "metadata": {},
   "outputs": [],
   "source": [
    "import warnings\n",
    "warnings.filterwarnings('ignore')\n",
    "import numpy as np\n",
    "import pandas as pd\n",
    "import matplotlib\n",
    "import matplotlib.pyplot as plt\n",
    "from sklearn.metrics import r2_score\n",
    "from sklearn.preprocessing import PolynomialFeatures\n",
    "from sklearn.linear_model import Ridge\n",
    "from sklearn.linear_model import Lasso\n",
    "from sklearn.linear_model import RidgeCV\n",
    "from sklearn.linear_model import LassoCV\n",
    "from sklearn.linear_model import LinearRegression\n",
    "from sklearn.preprocessing import StandardScaler\n",
    "\n",
    "from sklearn.model_selection import cross_val_score\n",
    "from sklearn.model_selection import LeaveOneOut\n",
    "from sklearn.model_selection import KFold\n",
    "\n",
    "#import statsmodels.api as sm\n",
    "\n",
    "from pandas.core import datetools\n",
    "%matplotlib inline"
   ]
  },
  {
   "cell_type": "markdown",
   "metadata": {},
   "source": [
    "# Continuing Bike Sharing Usage Data\n",
    "\n",
    "In this homework, we will focus on regularization and cross validation. We will continue to build regression models for the Capital Bikeshare program in Washington D.C.  See homework 3 for more information about the Capital Bikeshare data that we'll be using extensively. \n",
    "\n"
   ]
  },
  {
   "cell_type": "markdown",
   "metadata": {},
   "source": [
    "## Data Preparation\n",
    "\n",
    "\n",
    "\n",
    "<div class='exercise'> <b> Question 1 </b> </div> \n",
    "  In HW3 Questions 1-3, you preprocessed the data in preparation for your regression analysis. We ask you to repeat those steps (particularly those in Question 3) so that we can compare the analysis models in this HW with those you developed in HW3.  In this HW we'll be using models from sklearn exclusively (as opposed to statsmodels)\n",
    "  \n",
    "**1.1** [From HW3] Read `data/BSS_train.csv` and `data/BSS_test.csv` into dataframes `BSS_train` and `BSS_test`, respectively.  Remove the `dteday` column from both train and test dataset. We do not need it, and its format cannot be used for analysis.  Also remove the `casual` and `registered` columns for both training and test datasets as they make  `count` trivial.   \n",
    "\n",
    "**1.2** Since we'll be exploring Regularization and Polynomial Features, it will make sense to standardize our data.  Standardize the numerical features. Store the dataframes for the processed training and test predictors into the variables `X_train` and `X_test`.  Store the appropriately shaped numpy arrays for the corresponding train and test `count` columns into `y_train` and `y_test`.\n",
    "\n",
    "**1.3** Use the `LinearRegression` library from `sklearn` to fit a multiple linear regression model to the training set data in `X_train`.  Store the fitted model in the variable `BikeOLSModel`.\n",
    "\n",
    "**1.4** What are the training and test set $R^2$ scores?  Store the training and test $R^2$ scores of the `BikeOLSModel` in a dictionary `BikeOLS_r2scores` using the string 'training' and 'test' as keys.  \n",
    "\n",
    "**1.5**   We're going to use bootstrapped confidence intervals (use 500 bootstrap iterations) to determine which of the estimated coefficients for the `BikeOLSModel` are statistically significant at a significance level of 5% .  We'll do so by creating 3 different functions:\n",
    "\n",
    "1. `make_bootstrap_sample(dataset_X, dataset_y)` returns a bootstrap sample of `dataset_X` and `dataset_y`\n",
    "2. `calculate_coefficients(dataset_X, dataset_y, model)` returns in the form of a dictionary regression coefficients calculated by your model on `dataset_X` and `dataset_y`.  The keys for regression coefficients dictionary should be the names of the features.  The values should be the coefficient values of that feature calculated on your model.  An example would be {'hum': 12.3, 'windspeed': -1.2, 'Sunday': 0.6 ... }\n",
    "3. `get_significant_predictors(regression_coefficients, significance_level)` takes as input a list of regression coefficient dictionaries (each one the output of `calculate_coefficients` and  returns a python list of the feature names of the significant predictors e.g. ['Monday', 'hum', 'holiday', ... ]\n",
    "\n",
    "In the above functions `dataset_X` should always be a pandas dataframe with your features, `dataset_y` a numpy column vector with the values of the response variable and collectively they form the dataset upon which the operations take place. `model` is the `sklearn` regression model that will be used to generate the regression coefficients. `regression_coefficients` is a list of dictionaries of numpy arrays with each numpy array containing the regression coefficients (not including the intercept) calculated from one bootstrap sample.  `significance_level` represents the significance level as a floating point number.  So a 5% significance level should be represented as 0.05.  \n",
    "\n",
    "\n",
    "Store the feature names as a list of strings in the variable `BikeOLS_significant_bootstrap` and print them for your answer.\n"
   ]
  },
  {
   "cell_type": "markdown",
   "metadata": {},
   "source": [
    "### Answers"
   ]
  },
  {
   "cell_type": "markdown",
   "metadata": {},
   "source": [
    "#### 1.1 Read `data/BSS_train.csv` and `data/BSS_test.csv` into Pandas DataFrames"
   ]
  },
  {
   "cell_type": "code",
   "execution_count": 3,
   "metadata": {},
   "outputs": [
    {
     "data": {
      "text/html": [
       "<div>\n",
       "<style scoped>\n",
       "    .dataframe tbody tr th:only-of-type {\n",
       "        vertical-align: middle;\n",
       "    }\n",
       "\n",
       "    .dataframe tbody tr th {\n",
       "        vertical-align: top;\n",
       "    }\n",
       "\n",
       "    .dataframe thead th {\n",
       "        text-align: right;\n",
       "    }\n",
       "</style>\n",
       "<table border=\"1\" class=\"dataframe\">\n",
       "  <thead>\n",
       "    <tr style=\"text-align: right;\">\n",
       "      <th></th>\n",
       "      <th>hour</th>\n",
       "      <th>holiday</th>\n",
       "      <th>year</th>\n",
       "      <th>workingday</th>\n",
       "      <th>temp</th>\n",
       "      <th>atemp</th>\n",
       "      <th>hum</th>\n",
       "      <th>windspeed</th>\n",
       "      <th>counts</th>\n",
       "      <th>spring</th>\n",
       "      <th>...</th>\n",
       "      <th>Dec</th>\n",
       "      <th>Mon</th>\n",
       "      <th>Tue</th>\n",
       "      <th>Wed</th>\n",
       "      <th>Thu</th>\n",
       "      <th>Fri</th>\n",
       "      <th>Sat</th>\n",
       "      <th>Cloudy</th>\n",
       "      <th>Snow</th>\n",
       "      <th>Storm</th>\n",
       "    </tr>\n",
       "  </thead>\n",
       "  <tbody>\n",
       "    <tr>\n",
       "      <th>count</th>\n",
       "      <td>13903.000000</td>\n",
       "      <td>13903.000000</td>\n",
       "      <td>13903.000000</td>\n",
       "      <td>13903.000000</td>\n",
       "      <td>13903.000000</td>\n",
       "      <td>13903.000000</td>\n",
       "      <td>13903.000000</td>\n",
       "      <td>13903.000000</td>\n",
       "      <td>13903.000000</td>\n",
       "      <td>13903.000000</td>\n",
       "      <td>...</td>\n",
       "      <td>13903.000000</td>\n",
       "      <td>13903.000000</td>\n",
       "      <td>13903.000000</td>\n",
       "      <td>13903.000000</td>\n",
       "      <td>13903.000000</td>\n",
       "      <td>13903.000000</td>\n",
       "      <td>13903.000000</td>\n",
       "      <td>13903.000000</td>\n",
       "      <td>13903.00000</td>\n",
       "      <td>13903.000000</td>\n",
       "    </tr>\n",
       "    <tr>\n",
       "      <th>mean</th>\n",
       "      <td>11.529454</td>\n",
       "      <td>0.029274</td>\n",
       "      <td>0.504567</td>\n",
       "      <td>0.680644</td>\n",
       "      <td>0.496732</td>\n",
       "      <td>0.475426</td>\n",
       "      <td>0.629051</td>\n",
       "      <td>0.190025</td>\n",
       "      <td>187.885492</td>\n",
       "      <td>0.253183</td>\n",
       "      <td>...</td>\n",
       "      <td>0.085305</td>\n",
       "      <td>0.140977</td>\n",
       "      <td>0.141121</td>\n",
       "      <td>0.144861</td>\n",
       "      <td>0.140833</td>\n",
       "      <td>0.142128</td>\n",
       "      <td>0.145508</td>\n",
       "      <td>0.260375</td>\n",
       "      <td>0.08286</td>\n",
       "      <td>0.000144</td>\n",
       "    </tr>\n",
       "    <tr>\n",
       "      <th>std</th>\n",
       "      <td>6.917884</td>\n",
       "      <td>0.168580</td>\n",
       "      <td>0.499997</td>\n",
       "      <td>0.466244</td>\n",
       "      <td>0.192699</td>\n",
       "      <td>0.171951</td>\n",
       "      <td>0.193100</td>\n",
       "      <td>0.122009</td>\n",
       "      <td>180.113476</td>\n",
       "      <td>0.434850</td>\n",
       "      <td>...</td>\n",
       "      <td>0.279346</td>\n",
       "      <td>0.348010</td>\n",
       "      <td>0.348158</td>\n",
       "      <td>0.351973</td>\n",
       "      <td>0.347862</td>\n",
       "      <td>0.349194</td>\n",
       "      <td>0.352625</td>\n",
       "      <td>0.438855</td>\n",
       "      <td>0.27568</td>\n",
       "      <td>0.011993</td>\n",
       "    </tr>\n",
       "    <tr>\n",
       "      <th>min</th>\n",
       "      <td>0.000000</td>\n",
       "      <td>0.000000</td>\n",
       "      <td>0.000000</td>\n",
       "      <td>0.000000</td>\n",
       "      <td>0.020000</td>\n",
       "      <td>0.000000</td>\n",
       "      <td>0.000000</td>\n",
       "      <td>0.000000</td>\n",
       "      <td>1.000000</td>\n",
       "      <td>0.000000</td>\n",
       "      <td>...</td>\n",
       "      <td>0.000000</td>\n",
       "      <td>0.000000</td>\n",
       "      <td>0.000000</td>\n",
       "      <td>0.000000</td>\n",
       "      <td>0.000000</td>\n",
       "      <td>0.000000</td>\n",
       "      <td>0.000000</td>\n",
       "      <td>0.000000</td>\n",
       "      <td>0.00000</td>\n",
       "      <td>0.000000</td>\n",
       "    </tr>\n",
       "    <tr>\n",
       "      <th>25%</th>\n",
       "      <td>6.000000</td>\n",
       "      <td>0.000000</td>\n",
       "      <td>0.000000</td>\n",
       "      <td>0.000000</td>\n",
       "      <td>0.340000</td>\n",
       "      <td>0.333300</td>\n",
       "      <td>0.480000</td>\n",
       "      <td>0.104500</td>\n",
       "      <td>39.000000</td>\n",
       "      <td>0.000000</td>\n",
       "      <td>...</td>\n",
       "      <td>0.000000</td>\n",
       "      <td>0.000000</td>\n",
       "      <td>0.000000</td>\n",
       "      <td>0.000000</td>\n",
       "      <td>0.000000</td>\n",
       "      <td>0.000000</td>\n",
       "      <td>0.000000</td>\n",
       "      <td>0.000000</td>\n",
       "      <td>0.00000</td>\n",
       "      <td>0.000000</td>\n",
       "    </tr>\n",
       "    <tr>\n",
       "      <th>50%</th>\n",
       "      <td>11.000000</td>\n",
       "      <td>0.000000</td>\n",
       "      <td>1.000000</td>\n",
       "      <td>1.000000</td>\n",
       "      <td>0.500000</td>\n",
       "      <td>0.484800</td>\n",
       "      <td>0.630000</td>\n",
       "      <td>0.194000</td>\n",
       "      <td>141.000000</td>\n",
       "      <td>0.000000</td>\n",
       "      <td>...</td>\n",
       "      <td>0.000000</td>\n",
       "      <td>0.000000</td>\n",
       "      <td>0.000000</td>\n",
       "      <td>0.000000</td>\n",
       "      <td>0.000000</td>\n",
       "      <td>0.000000</td>\n",
       "      <td>0.000000</td>\n",
       "      <td>0.000000</td>\n",
       "      <td>0.00000</td>\n",
       "      <td>0.000000</td>\n",
       "    </tr>\n",
       "    <tr>\n",
       "      <th>75%</th>\n",
       "      <td>18.000000</td>\n",
       "      <td>0.000000</td>\n",
       "      <td>1.000000</td>\n",
       "      <td>1.000000</td>\n",
       "      <td>0.660000</td>\n",
       "      <td>0.621200</td>\n",
       "      <td>0.780000</td>\n",
       "      <td>0.253700</td>\n",
       "      <td>280.000000</td>\n",
       "      <td>1.000000</td>\n",
       "      <td>...</td>\n",
       "      <td>0.000000</td>\n",
       "      <td>0.000000</td>\n",
       "      <td>0.000000</td>\n",
       "      <td>0.000000</td>\n",
       "      <td>0.000000</td>\n",
       "      <td>0.000000</td>\n",
       "      <td>0.000000</td>\n",
       "      <td>1.000000</td>\n",
       "      <td>0.00000</td>\n",
       "      <td>0.000000</td>\n",
       "    </tr>\n",
       "    <tr>\n",
       "      <th>max</th>\n",
       "      <td>23.000000</td>\n",
       "      <td>1.000000</td>\n",
       "      <td>1.000000</td>\n",
       "      <td>1.000000</td>\n",
       "      <td>1.000000</td>\n",
       "      <td>1.000000</td>\n",
       "      <td>1.000000</td>\n",
       "      <td>0.850700</td>\n",
       "      <td>977.000000</td>\n",
       "      <td>1.000000</td>\n",
       "      <td>...</td>\n",
       "      <td>1.000000</td>\n",
       "      <td>1.000000</td>\n",
       "      <td>1.000000</td>\n",
       "      <td>1.000000</td>\n",
       "      <td>1.000000</td>\n",
       "      <td>1.000000</td>\n",
       "      <td>1.000000</td>\n",
       "      <td>1.000000</td>\n",
       "      <td>1.00000</td>\n",
       "      <td>1.000000</td>\n",
       "    </tr>\n",
       "  </tbody>\n",
       "</table>\n",
       "<p>8 rows × 32 columns</p>\n",
       "</div>"
      ],
      "text/plain": [
       "               hour       holiday          year    workingday          temp  \\\n",
       "count  13903.000000  13903.000000  13903.000000  13903.000000  13903.000000   \n",
       "mean      11.529454      0.029274      0.504567      0.680644      0.496732   \n",
       "std        6.917884      0.168580      0.499997      0.466244      0.192699   \n",
       "min        0.000000      0.000000      0.000000      0.000000      0.020000   \n",
       "25%        6.000000      0.000000      0.000000      0.000000      0.340000   \n",
       "50%       11.000000      0.000000      1.000000      1.000000      0.500000   \n",
       "75%       18.000000      0.000000      1.000000      1.000000      0.660000   \n",
       "max       23.000000      1.000000      1.000000      1.000000      1.000000   \n",
       "\n",
       "              atemp           hum     windspeed        counts        spring  \\\n",
       "count  13903.000000  13903.000000  13903.000000  13903.000000  13903.000000   \n",
       "mean       0.475426      0.629051      0.190025    187.885492      0.253183   \n",
       "std        0.171951      0.193100      0.122009    180.113476      0.434850   \n",
       "min        0.000000      0.000000      0.000000      1.000000      0.000000   \n",
       "25%        0.333300      0.480000      0.104500     39.000000      0.000000   \n",
       "50%        0.484800      0.630000      0.194000    141.000000      0.000000   \n",
       "75%        0.621200      0.780000      0.253700    280.000000      1.000000   \n",
       "max        1.000000      1.000000      0.850700    977.000000      1.000000   \n",
       "\n",
       "           ...                Dec           Mon           Tue           Wed  \\\n",
       "count      ...       13903.000000  13903.000000  13903.000000  13903.000000   \n",
       "mean       ...           0.085305      0.140977      0.141121      0.144861   \n",
       "std        ...           0.279346      0.348010      0.348158      0.351973   \n",
       "min        ...           0.000000      0.000000      0.000000      0.000000   \n",
       "25%        ...           0.000000      0.000000      0.000000      0.000000   \n",
       "50%        ...           0.000000      0.000000      0.000000      0.000000   \n",
       "75%        ...           0.000000      0.000000      0.000000      0.000000   \n",
       "max        ...           1.000000      1.000000      1.000000      1.000000   \n",
       "\n",
       "                Thu           Fri           Sat        Cloudy         Snow  \\\n",
       "count  13903.000000  13903.000000  13903.000000  13903.000000  13903.00000   \n",
       "mean       0.140833      0.142128      0.145508      0.260375      0.08286   \n",
       "std        0.347862      0.349194      0.352625      0.438855      0.27568   \n",
       "min        0.000000      0.000000      0.000000      0.000000      0.00000   \n",
       "25%        0.000000      0.000000      0.000000      0.000000      0.00000   \n",
       "50%        0.000000      0.000000      0.000000      0.000000      0.00000   \n",
       "75%        0.000000      0.000000      0.000000      1.000000      0.00000   \n",
       "max        1.000000      1.000000      1.000000      1.000000      1.00000   \n",
       "\n",
       "              Storm  \n",
       "count  13903.000000  \n",
       "mean       0.000144  \n",
       "std        0.011993  \n",
       "min        0.000000  \n",
       "25%        0.000000  \n",
       "50%        0.000000  \n",
       "75%        0.000000  \n",
       "max        1.000000  \n",
       "\n",
       "[8 rows x 32 columns]"
      ]
     },
     "execution_count": 3,
     "metadata": {},
     "output_type": "execute_result"
    }
   ],
   "source": [
    "# your code here\n",
    "\n",
    "BSS_train = pd.read_csv('data/BSS_train.csv')\n",
    "BSS_test = pd.read_csv('data/BSS_test.csv')\n",
    "\n",
    "BSS_train = BSS_train.drop(['dteday','casual','registered', 'Unnamed: 0'], axis=1)\n",
    "BSS_test = BSS_test.drop(['dteday','casual','registered', 'Unnamed: 0'], axis=1)\n",
    "\n",
    "BSS_train.describe()"
   ]
  },
  {
   "cell_type": "markdown",
   "metadata": {},
   "source": [
    "#### 1.2 Standardizing our data"
   ]
  },
  {
   "cell_type": "code",
   "execution_count": 4,
   "metadata": {},
   "outputs": [],
   "source": [
    "# your code here\n",
    "\n",
    "# Generating training set including standardizing\n",
    "X_train_orig = BSS_train.loc[:,BSS_train.columns != 'counts']\n",
    "X_test_orig = BSS_test.loc[:,BSS_train.columns != 'counts']\n",
    "\n",
    "\n",
    "# scaling only the continuous predictors\n",
    "categorical_columns = ['hour', 'holiday', 'year', 'workingday', 'spring', 'summer',\n",
    "                       'fall', 'Feb', 'Mar', 'Apr', 'May', 'Jun', 'Jul', 'Aug', 'Sept', \n",
    "                       'Oct', 'Nov', 'Dec', 'Mon', 'Tue', 'Wed', 'Thu', 'Fri', 'Sat',\n",
    "                       'Cloudy', 'Snow', 'Storm']\n",
    "numerical_columns = ['temp', 'atemp', 'hum', 'windspeed']\n",
    "\n",
    "X_train_numerical = X_train_orig[numerical_columns]\n",
    "X_test_numerical = X_test_orig[numerical_columns]\n",
    "\n",
    "scaler = StandardScaler().fit(X_train_numerical)\n",
    "\n",
    "# create and scale the training/test set\n",
    "X_train = X_train_orig.copy()\n",
    "X_test = X_test_orig.copy()\n",
    "\n",
    "X_train[numerical_columns] = scaler.transform(X_train_numerical)\n",
    "X_test[numerical_columns] = scaler.transform(X_test_numerical)\n",
    "\n",
    "y_train = BSS_train['counts'].values.reshape(-1,1)\n",
    "y_test = BSS_test['counts'].values.reshape(-1,1)"
   ]
  },
  {
   "cell_type": "markdown",
   "metadata": {},
   "source": [
    "#### 1.3 Use the `LinearRegression` library from `sklearn` to fit a multiple linear regression."
   ]
  },
  {
   "cell_type": "code",
   "execution_count": 5,
   "metadata": {},
   "outputs": [
    {
     "data": {
      "text/plain": [
       "LinearRegression(copy_X=True, fit_intercept=True, n_jobs=1, normalize=False)"
      ]
     },
     "execution_count": 5,
     "metadata": {},
     "output_type": "execute_result"
    }
   ],
   "source": [
    "# your code here\n",
    "BikeOLSModel = LinearRegression()\n",
    "BikeOLSModel.fit(X_train, y_train)"
   ]
  },
  {
   "cell_type": "code",
   "execution_count": 60,
   "metadata": {},
   "outputs": [],
   "source": [
    "OLS_coefficients=BikeOLSModel.coef_.ravel()"
   ]
  },
  {
   "cell_type": "markdown",
   "metadata": {},
   "source": [
    "#### 1.4 What are the training and test set $R^2$ scores? Store the $R^2$ scores of the `BikeOLSModel` on the training and test sets in a dictionary `BikeOLS_r2scores`. "
   ]
  },
  {
   "cell_type": "code",
   "execution_count": 6,
   "metadata": {},
   "outputs": [
    {
     "name": "stdout",
     "output_type": "stream",
     "text": [
      "Train Set R^2 Score: 0.4065\n",
      "Test Set R^2 Score: 0.4064\n"
     ]
    }
   ],
   "source": [
    "# your code here\n",
    "train_r2_score = r2_score(y_train, BikeOLSModel.predict(X_train))\n",
    "test_r2_score = r2_score(y_test, BikeOLSModel.predict(X_test))\n",
    "print(\"Train Set R^2 Score: {:.4f}\".format(train_r2_score))\n",
    "print(\"Test Set R^2 Score: {:.4f}\".format(test_r2_score))\n",
    "\n",
    "BikeOLS_r2scores = {}\n",
    "BikeOLS_r2scores['training'] = train_r2_score\n",
    "BikeOLS_r2scores['test'] = test_r2_score"
   ]
  },
  {
   "cell_type": "markdown",
   "metadata": {},
   "source": [
    "#### 1.5 We're going to use bootstrapped confidence intervals to determine which of the estimated coefficients."
   ]
  },
  {
   "cell_type": "code",
   "execution_count": 43,
   "metadata": {},
   "outputs": [],
   "source": [
    "# your code here\n",
    "\n",
    "# dataset_x should be a pandas dataframe\n",
    "\n",
    "## accepts dataset inputs as numpy arrays\n",
    "def make_bootstrap_sample(dataset_X, dataset_y, size = None):\n",
    "    \n",
    "    # your code here\n",
    "    \n",
    "    # by default return a bootstrap sample of the same size as the original dataset\n",
    "    if not size: size = len(dataset_X)\n",
    "    \n",
    "    # if the X and y datasets aren't the same size, raise an exception\n",
    "    if len(dataset_X) != len(dataset_y):\n",
    "        raise Exception(\"Data size must match between dataset_X and dataset_y\")\n",
    "    \n",
    "    \n",
    "    sample_indices = np.random.choice(len(dataset_X), size=size, replace=True)\n",
    "    \n",
    "    bootstrap_dataset_X = dataset_X.iloc[sample_indices]\n",
    "    bootstrap_dataset_y = dataset_y[sample_indices]\n",
    "    \n",
    "    # return as a tuple your bootstrap samples of dataset_X as a pandas dataframe\n",
    "    # and your bootstrap samples of dataset y as a numpy column vector\n",
    "    \n",
    "    return (bootstrap_dataset_X, bootstrap_dataset_y)\n",
    "    \n",
    "\n",
    "def calculate_coefficients(dataset_X, dataset_y, model):\n",
    "    \n",
    "    # your code here\n",
    "    \n",
    "    # fit the model\n",
    "    model.fit(dataset_X, dataset_y) \n",
    "    \n",
    "    coefficients_dictionary = {k:v for k, v in zip(dataset_X.columns, model.coef_.ravel())}\n",
    "    \n",
    "    # return coefficients  in the variable  coefficients_dictioanry as a dictionary\n",
    "    # with the key being the name of the feature as a string\n",
    "    # the value being the value of the coefficients\n",
    "    # do not return the intercept as part of this\n",
    "    return coefficients_dictionary\n",
    "\n",
    "\n",
    "def get_significant_predictors(regression_coefficients, significance_level):\n",
    "    \n",
    "    # your code here\n",
    "\n",
    "    \n",
    "    # regression_coefficients is a list of dictionaries\n",
    "    # with the key being the name of the feature as a string\n",
    "    # the value being the value of the coefficients\n",
    "    # each dictionary in th list should be the output of calculate_coefficients\n",
    "    \n",
    "    if (len(regression_coefficients) <= 0):\n",
    "        return []\n",
    "    \n",
    "    coeff_names = np.array(list(regression_coefficients[0].keys()), dtype='object')\n",
    "    coeff_samples = [list(coeff_list.values()) for coeff_list in regression_coefficients]\n",
    "    \n",
    "    coeff_samples = np.array(coeff_samples)\n",
    "        \n",
    "    # Obtain bottom percentile values\n",
    "    bottom_percentile = np.percentile(coeff_samples, q=100*significance_level/2, axis=0)\n",
    "    \n",
    "    # Obtain top percentile values\n",
    "    top_percentile = np.percentile(coeff_samples, q=100*(1-significance_level/2), axis=0)\n",
    "    \n",
    "    # Coefficients with bottom value greater than 0 or top value less than 0 are signficant\n",
    "    significant_index = ((bottom_percentile > 0.0) | (top_percentile < 0.0))\n",
    " \n",
    "    significant_coefficients = list(coeff_names[significant_index])\n",
    "      \n",
    "    # return the significant coefficients as a list of strings\n",
    "    return significant_coefficients"
   ]
  },
  {
   "cell_type": "code",
   "execution_count": 44,
   "metadata": {},
   "outputs": [],
   "source": [
    "# Set the number of Bootstrap samplse to 500\n",
    "N_bootstrap_samples = 500"
   ]
  },
  {
   "cell_type": "code",
   "execution_count": 46,
   "metadata": {},
   "outputs": [],
   "source": [
    "# generate significant predictors\n",
    "regression_coefficients = []\n",
    "for i in range(N_bootstrap_samples):\n",
    "    sample_X, sample_y = make_bootstrap_sample(X_train, y_train)\n",
    "    coefficient_dict = calculate_coefficients(sample_X, sample_y, LinearRegression())\n",
    "    regression_coefficients.append(coefficient_dict)\n",
    "    \n",
    "BikeOLS_significant_bootstrap = get_significant_predictors(regression_coefficients, 0.05)"
   ]
  },
  {
   "cell_type": "code",
   "execution_count": 78,
   "metadata": {},
   "outputs": [
    {
     "name": "stdout",
     "output_type": "stream",
     "text": [
      "The statistically significant predictors in the BikeOLS model:\n",
      "['hour', 'year', 'temp', 'hum', 'windspeed', 'spring', 'summer', 'fall', 'Mar', 'Apr', 'May', 'Jun', 'Jul', 'Aug', 'Nov', 'Sat', 'Cloudy', 'Snow']\n",
      "The redundant predictors in the BikeOLS model:\n",
      "['Sept', 'Dec', 'Oct', 'workingday', 'Storm', 'Tue', 'atemp', 'holiday', 'Mon', 'Wed', 'Feb', 'Fri', 'Thu']\n"
     ]
    }
   ],
   "source": [
    "# print out significant predictors\n",
    "print(\"The statistically significant predictors in the BikeOLS model:\")\n",
    "print(BikeOLS_significant_bootstrap)\n",
    "\n",
    "print(\"The redundant predictors in the BikeOLS model:\")\n",
    "print(list(set(X_train.columns) - set(BikeOLS_significant_bootstrap)))"
   ]
  },
  {
   "cell_type": "markdown",
   "metadata": {},
   "source": [
    "## Penalization Methods\n",
    "\n",
    "In HW 3 Question 5 we explored using subset selection to find a significant subset of features.  We then fit a regression model just on that subset of features instead of on the full dataset (including all features).   As an alternative to selecting a subset of predictors and fitting a regression model on the subset, one can fit a linear regression model on all predictors, but shrink or regularize the coefficient estimates to make sure that the model does not \"overfit\" the training set. \n",
    "\n",
    "<div class='exercise'> <b> Question 2 </b> </div> \n",
    "  We're going to use Ridge and Lasso regression regularization techniques to fit linear models to the training set.  We'll use cross-validation and shrinkage parameters $\\lambda$ from the set $\\{.001,.005,1,5,10,50,100,500,1000\\}$ to pick the best model for each regularization technique.\n",
    "\n",
    "**2.1** Use 5-fold cross-validation to pick the best shrinkage parameter from the set $\\{.001,.005,1,5,10,50,100,500,1000\\}$ for your Ridge Regression model on the training data.  Fit a Ridge Regression model on the training set with the selected shrinkage parameter and store your fitted model in the variable `BikeRRModel`.  Store the selected shrinkage parameter in the variable `BikeRR_shrinkage_parameter`.\n",
    "\n",
    "**2.2** Use 5-fold cross-validation to pick the best shrinkage parameter from the set $\\{.001,.005,1,5,10,50,100,500,1000\\}$ for your Lasso Regression model on the training data.  Fit a Lasso Regression model on the training set with the selected shrinkage parameter and store your fitted model in the variable `BikeLRModel`.  Store the selected shrinkage parameter in the variable `BikeLR_shrinkage_parameter`.\n",
    "\n",
    "**2.3** Create three dictionaries `BikeOLSparams`, `BikeLRparams`, and `BikeRRparams`.  Store in each the corresponding regression coefficients for each of the regression models indexed by the string feature name.\n",
    "\n",
    "**2.4** For the Lasso and Ridge Regression models list the features that are assigned a coefficient value close to 0 (i.e. the absolute value of the coefficient is less than 0.1).  How closely do they match the redundant predictors found (if any) in HW 3, Question 5?\n",
    "\n",
    "**2.5** To get a visual sense of how the features different regression models (Multiple Linear Regression, Ridge Regression, Lasso Regression) estimate coefficients, order the features by magnitude of the estimated coefficients in the Multiple Linear Regression Model (no shrinkage).  Plot a bar graph of the magnitude (absolute value) of the estimated coefficients from Multiple Linear Regression in order from greatest to least.  Using a different color (and alpha values) overlay bar graphs of the magnitude of the estimated coefficients (in the same order as the Multiple Linear Regression coefficients) from Ridge and Lasso Regression.\n",
    "\n",
    "**2.6** Let's examine a pair of features we believe to be related.  Is there a difference in the way Ridge and Lasso regression assign coefficients to the predictors `temp` and `atemp`?\n",
    "\n",
    "**2.7** Discuss the Results:\n",
    "\n",
    "1. How do the estimated coefficients compare to or differ from the coefficients estimated by a plain linear regression (without shrinkage penalty) in Question 1? \n",
    "2. Is there a difference between coefficients estimated by the two shrinkage methods? If so, give an explantion for the difference.\n",
    "3. Is the significance related to the shrinkage in some way?\n",
    "\n",
    "*Hint:* You may use `sklearn`'s `RidgeCV` and `LassoCV` classes to implement Ridge and Lasso regression. These classes automatically perform cross-validation to tune the parameter $\\lambda$ from a given range of values."
   ]
  },
  {
   "cell_type": "markdown",
   "metadata": {},
   "source": [
    "### Answers"
   ]
  },
  {
   "cell_type": "code",
   "execution_count": 10,
   "metadata": {},
   "outputs": [],
   "source": [
    "lambdas = [.001, .005, 1, 5, 10, 50, 100, 500, 1000]"
   ]
  },
  {
   "cell_type": "code",
   "execution_count": 137,
   "metadata": {},
   "outputs": [],
   "source": [
    "fold = KFold(5, shuffle=True)"
   ]
  },
  {
   "cell_type": "markdown",
   "metadata": {},
   "source": [
    "#### 2.1 Use 5-fold cross-validation to pick the best shrinkage parameter from the set $\\{.001,.005,1,5,10,50,100,500,1000\\}$ for your Ridge Regression model."
   ]
  },
  {
   "cell_type": "code",
   "execution_count": 155,
   "metadata": {},
   "outputs": [],
   "source": [
    "# your code here\n",
    "\n",
    "# RidgeCV\n",
    "BikeRRModel = RidgeCV(cv=5, alphas=lambdas, fit_intercept=True)\n",
    "\n",
    "BikeRRModel.fit(X_train, y_train) \n",
    "\n",
    "BikeRR_shrinkage_parameter = BikeRRModel.alpha_\n",
    "\n",
    "Ridge_coefficients = BikeRRModel.coef_.ravel()"
   ]
  },
  {
   "cell_type": "code",
   "execution_count": 156,
   "metadata": {},
   "outputs": [
    {
     "name": "stdout",
     "output_type": "stream",
     "text": [
      "The Ridge shrinkage parameter: 500\n"
     ]
    }
   ],
   "source": [
    "print(\"The Ridge shrinkage parameter: {}\".format(BikeRR_shrinkage_parameter))"
   ]
  },
  {
   "cell_type": "markdown",
   "metadata": {},
   "source": [
    "#### 2.2 Use 5-fold cross-validation to pick the best shrinkage parameter from the set $\\{.001,.005,1,5,10,50,100,500,1000\\}$ for your Lasso Regression model."
   ]
  },
  {
   "cell_type": "code",
   "execution_count": 153,
   "metadata": {},
   "outputs": [],
   "source": [
    "# your code here\n",
    "\n",
    "# Lasso\n",
    "BikeLRModel = LassoCV(cv=5, alphas=lambdas, fit_intercept=True)\n",
    "\n",
    "BikeLRModel.fit(X_train, y_train)\n",
    "\n",
    "BikeLR_shrinkage_parameter = BikeLRModel.alpha_\n",
    "\n",
    "Lasso_coefficients = BikeLRModel.coef_.ravel()"
   ]
  },
  {
   "cell_type": "code",
   "execution_count": 154,
   "metadata": {},
   "outputs": [
    {
     "name": "stdout",
     "output_type": "stream",
     "text": [
      "The Lasso shrinkage parameter: 0.005\n"
     ]
    }
   ],
   "source": [
    "print(\"The Lasso shrinkage parameter: {}\".format(BikeLR_shrinkage_parameter))"
   ]
  },
  {
   "cell_type": "markdown",
   "metadata": {},
   "source": [
    "#### 2.3 Create three dictionaries `BikeOLSparams`, `BikeLRparams`, and `BikeRRparams`.  Store in each the corresponding regression coefficients."
   ]
  },
  {
   "cell_type": "code",
   "execution_count": 151,
   "metadata": {},
   "outputs": [],
   "source": [
    "# your code here\n",
    "\n",
    "feature_names = X_train.columns\n",
    "\n",
    "BikeOLSparams = {k: v for k,v in zip(feature_names, BikeOLSModel.coef_.ravel())}\n",
    "BikeRRparams = {k: v for k,v in zip(feature_names, BikeRRModel.coef_.ravel())}\n",
    "BikeLRparams = {k: v for k,v in zip(feature_names, BikeLRModel.coef_.ravel())}   # coef_ of LassoCV is 1-D array"
   ]
  },
  {
   "cell_type": "markdown",
   "metadata": {},
   "source": [
    "#### 2.4 For the Lasso and Ridge Regression models list the features that are assigned a coefficient value close to 0.  How closely do they match the redundant predictors found (if any) in HW 3, Question 5?"
   ]
  },
  {
   "cell_type": "code",
   "execution_count": 157,
   "metadata": {},
   "outputs": [
    {
     "name": "stdout",
     "output_type": "stream",
     "text": [
      "Ridge predictors within 0.1 of 0: []\n",
      "----\n",
      "Lasso predictors within 0.1 of 0: ['Mon']\n"
     ]
    }
   ],
   "source": [
    "# your code here\n",
    "\n",
    "print(\"Ridge predictors within 0.1 of 0:\", list(feature_names[np.abs(Ridge_coefficients)<.1]))\n",
    "print(\"----\")\n",
    "print(\"Lasso predictors within 0.1 of 0:\", list(feature_names[np.abs(Lasso_coefficients)<.1]))"
   ]
  },
  {
   "cell_type": "markdown",
   "metadata": {},
   "source": [
    "<HR>\n",
    "There is no resemblance between the list of statistically insignificant coefficients and the redundant predictors found in HW3, Q5 or those we found by bootstrapping in Question 1.5.  Lasso only assigned a weight very close to 0 to the coefficient for the feature 'Mon'.  If we look closely at the set of features then we should find multicollinearity between the *day of week* features ('Mon', 'Tue', 'Wed', 'Thur', 'Fri', 'Sat') and 'workingday'. Lasso finds this multi-collinearity and resolves it by assigning 'Mon' a coefficient of 0.  \n",
    "<HR>"
   ]
  },
  {
   "cell_type": "markdown",
   "metadata": {},
   "source": [
    "#### 2.5 To get a visual sense of how the features different regression models (Multiple Linear Regression, Ridge Regression, Lasso Regression) estimate coefficients, order the features by magnitude of the estimated coefficients in the Multiple Linear Regression Model (no shrinkage)."
   ]
  },
  {
   "cell_type": "code",
   "execution_count": 196,
   "metadata": {},
   "outputs": [
    {
     "data": {
      "image/png": "[encoded data removed]",
      "text/plain": [
       "<Figure size 1008x576 with 1 Axes>"
      ]
     },
     "metadata": {},
     "output_type": "display_data"
    }
   ],
   "source": [
    "# your code here\n",
    "si= np.argsort(np.abs(BikeOLSModel.coef_[0]))\n",
    "\n",
    "n_coeffs = len(feature_names)\n",
    "\n",
    "plt.figure(figsize=(14,8))\n",
    "plt.bar(np.arange(n_coeffs)-0.2, np.abs(Ridge_coefficients)[si], alpha=0.4, label='Ridge')\n",
    "plt.bar(np.arange(n_coeffs)+0.2, np.abs(Lasso_coefficients)[si], alpha=0.2, label='LASSO')\n",
    "plt.bar(np.arange(n_coeffs), -np.abs(OLS_coefficients)[si], color='purple', hatch='/', label='OLS')\n",
    "plt.xticks(range(n_coeffs), feature_names[si], rotation=60)\n",
    "plt.xlim(-1,n_coeffs)\n",
    "plt.ylim(-100,100)\n",
    "plt.legend(fontsize=16)\n",
    "plt\n",
    "plt.title(\"Model coefficients: 5-fold CV no shuffle\")\n",
    "plt.xlabel(\"Features\")\n",
    "plt.ylabel(\"+/- Coefficient Magnitude\")\n",
    "plt.show()"
   ]
  },
  {
   "cell_type": "markdown",
   "metadata": {},
   "source": [
    "#### 2.6 Let's examine a pair of features we believe to be related.  Is there a difference in the way Ridge and Lasso regression assign coefficients?"
   ]
  },
  {
   "cell_type": "markdown",
   "metadata": {},
   "source": [
    "Recall from HW3 that `atemp` and `temp` are closely correlated.  Looking at the regression coefficients of these two predictors shows how Lasso and Ridge regression performs 'shrinkage' of the coefficient values.  First, examine the coefficient values from the ordinary linear regression:"
   ]
  },
  {
   "cell_type": "code",
   "execution_count": 66,
   "metadata": {},
   "outputs": [
    {
     "name": "stdout",
     "output_type": "stream",
     "text": [
      "OLS - temp: 64.2144\n",
      "OLS - atemp: 12.8325\n"
     ]
    }
   ],
   "source": [
    "print(\"OLS - temp: {:.4f}\".format(BikOLSparams['temp']))\n",
    "print(\"OLS - atemp: {:.4f}\".format(BikOLSparams['atemp']))"
   ]
  },
  {
   "cell_type": "markdown",
   "metadata": {},
   "source": [
    "In contrast, examine the coefficient values of Lasso and Ridge regressions:"
   ]
  },
  {
   "cell_type": "code",
   "execution_count": 67,
   "metadata": {},
   "outputs": [
    {
     "name": "stdout",
     "output_type": "stream",
     "text": [
      "Lasso - temp: 63.8309\n",
      "Lasso - atemp: 12.8684\n",
      "Ridge - temp: 38.4562\n",
      "Ridge - atemp: 30.3841\n"
     ]
    }
   ],
   "source": [
    "print(\"Lasso - temp: {:.4f}\".format(BikeLRparams['temp']))\n",
    "print(\"Lasso - atemp: {:.4f}\".format(BikeLRparams['atemp']))\n",
    "\n",
    "print(\"Ridge - temp: {:.4f}\".format(BikeRRparams['temp']))\n",
    "print(\"Ridge - atemp: {:.4f}\".format(BikeRRparams['atemp']))"
   ]
  },
  {
   "cell_type": "markdown",
   "metadata": {},
   "source": [
    "Observe that Lasso regression assigns similar coefficient values to the two predictors.  On the other hand, Ridge regression shrinks the value of `temp` such that two coefficient values are closer."
   ]
  },
  {
   "cell_type": "markdown",
   "metadata": {},
   "source": [
    "#### 2.7.1 How do the estimated coefficients compare to or differ from the coefficients estimated by a plain linear regression (without shrinkage penalty) in Question 1?"
   ]
  },
  {
   "cell_type": "markdown",
   "metadata": {},
   "source": [
    "The shrinkage that we see from Lasso and Ridge for temp/atemp (but also for all the predictors in general) is related to how our cross-validations in Questions 2.1 and 2.2 selected the shrinkage parameter for Lasso and Ridge.  Our selected shrinkage parameter for Ridge was **500**.  Our selected shrinkage parameter for Lasso was **0.005**.  A very low shrinkage parameter for either model will mean that very little shrinkage will occur.  A high shrinkage parameter means that quite a bit of shrinkage will occur.  We should expect a lot of shrinkage in our Ridge model and very little in our Lasso model."
   ]
  },
  {
   "cell_type": "markdown",
   "metadata": {},
   "source": [
    "As a consequence, we see some noticeable differences in the plot from Question 2.5 as pertains to the regression coefficients of plain linear regression and those from Lasso and Ridge regressions.  As expected, we see general shrinkage for the Ridge coefficients in comparison to the corresponding OLS coefficients.  In particular Ridge regression places noticeably smaller estimated coefficient values on month predictors (e.g. 'Jul', 'Jun', 'Aug', etc.).  On the other hand, Lasso as expected closely follows the plain linear regression with the exception of 'storm' predictor (and 'Mon' which we discussed in question 2.4)."
   ]
  },
  {
   "cell_type": "markdown",
   "metadata": {},
   "source": [
    "<HR>"
   ]
  },
  {
   "cell_type": "markdown",
   "metadata": {},
   "source": [
    "#### 2.7.2 Is there a difference between coefficients estimated by the two shrinkage methods? If so, give an explantion for the difference."
   ]
  },
  {
   "cell_type": "markdown",
   "metadata": {},
   "source": [
    "<HR>"
   ]
  },
  {
   "cell_type": "markdown",
   "metadata": {},
   "source": [
    "A large part of the differences between the coefficients estimated by the two regularization models is related to shrinkage parameter selection as we discussed in 2.7.1.  Our Lasso model with a low shrinkage parameter generally generated coefficients similar to those of the OLS model whereas the Ridge model generated smaller coefficients in keeping with the high shrinkage parameter. Interestingly, some exceptions to the shrinking of coefficient variables in the Ridge model include 'year', 'hum', and 'atemp'.  Coefficient values on predictors related to months as well as 'Storm' and 'Thu' saw the most aggressive shrinkage.  As aforementioned, Lasso closely follows the coefficient estimates of the plain linear regression with exception of 'Storm' and 'Mon' predictors.\n",
    "\n",
    "Recall from Lab 4 that the penalty function of Ridge regression is\n",
    "$$\\lambda \\sum_{j=1}^m \\beta_{j}^{2}$$\n",
    "while it is \n",
    "$$\\lambda \\sum_{j=1}^m |\\beta_j|$$\n",
    "for Lasso regression.\n",
    "\n",
    "These differences in the penalty function has implications on how the coefficients of Lasso and Ridge regression are estimated, which can be visually explained with geometric interpretation.  \n",
    "\n",
    "![Lasso (L1 Norm) vs Ridge (L2 Norm)](fig/L1_and_L2_balls.svg)\n",
    "\n",
    "Lasso regression can be interpreted as optimization of coefficient values over a cross-polytope (i.e. a diamond in 2-dimenions) and Ridge regression as optimization over a n-sphere (i.e. a circle in 2-dimension).  The differenes in constraint boundaries explain why Lasso and Ridge regression assign different coefficient values to predictors that exhibit high collinearity."
   ]
  },
  {
   "cell_type": "markdown",
   "metadata": {},
   "source": [
    "<HR>"
   ]
  },
  {
   "cell_type": "markdown",
   "metadata": {},
   "source": [
    "#### 2.7.3 Is the significance related to the shrinkage in some way?"
   ]
  },
  {
   "cell_type": "markdown",
   "metadata": {},
   "source": [
    "<HR>"
   ]
  },
  {
   "cell_type": "markdown",
   "metadata": {},
   "source": [
    "As visible from the geometric interpretation of the penalty function, optimization over a cross-polytope induces sparcity in estimated coefficient values.  As a result, we find that the predictor 'Mon' is assigned a coefficient value of 0 in Lasso regression as described in Question 2.4.  On the other hand, Ridge regression does not induce sparsity in coefficient estimate. \n",
    "\n",
    "We don't see a connection between statistical significance in the OLS model and shrinkage in the Ridge and Lasso models.  Some features that were not found to be significant (like 'Storm' and 'Thu') experienced heavy shrinkage. Other features ('atemp', 'Sep', 'Oct') did not experience much if any shrinkage."
   ]
  },
  {
   "cell_type": "markdown",
   "metadata": {},
   "source": [
    "<HR>"
   ]
  },
  {
   "cell_type": "markdown",
   "metadata": {},
   "source": [
    "#### **Note**"
   ]
  },
  {
   "cell_type": "markdown",
   "metadata": {},
   "source": [
    "We've described our Ridge and Lasso models based upon shrinkage parameters selected via 5 fold cross-validation.  Is this the last word in shrinkage parameter selection or are there circumstances in which we can expect to select some other paramters.  First of all let's take a closer look to see if our 5 fold cross validation did in fact select the best parameters."
   ]
  },
  {
   "cell_type": "code",
   "execution_count": 103,
   "metadata": {},
   "outputs": [],
   "source": [
    "lambda_r2s_ridge_test = []\n",
    "lambda_r2s_ridge_train = []\n",
    "\n",
    "for l in lambdas:\n",
    "    ridge_model = Ridge(alpha=l).fit(X_train, y_train)\n",
    "    lambda_r2s_ridge_train.append(ridge_model.score(X_train, y_train))\n",
    "    lambda_r2s_ridge_test.append(ridge_model.score(X_test, y_test))"
   ]
  },
  {
   "cell_type": "code",
   "execution_count": 106,
   "metadata": {},
   "outputs": [],
   "source": [
    "lambda_r2s_lasso_test = []\n",
    "lambda_r2s_lasso_train = []\n",
    "\n",
    "for l in lambdas:\n",
    "    lasso_model = Lasso(alpha=l).fit(X_train, y_train)\n",
    "    lambda_r2s_lasso_train.append(lasso_model.score(X_train, y_train))\n",
    "    lambda_r2s_lasso_test.append(lasso_model.score(X_test, y_test))"
   ]
  },
  {
   "cell_type": "code",
   "execution_count": 112,
   "metadata": {},
   "outputs": [],
   "source": [
    "shrinkage_parameters = pd.DataFrame(\n",
    "    {\n",
    "        'Lasso Train Scores': lambda_r2s_lasso_train,\n",
    "        'Lasso Test Scores': lambda_r2s_lasso_test,\n",
    "        'Ridge Train Scores': lambda_r2s_ridge_train,\n",
    "        'Ridge Test Scores': lambda_r2s_ridge_test\n",
    "    },index = lambdas\n",
    ")"
   ]
  },
  {
   "cell_type": "code",
   "execution_count": 113,
   "metadata": {},
   "outputs": [
    {
     "data": {
      "text/html": [
       "<div>\n",
       "<style scoped>\n",
       "    .dataframe tbody tr th:only-of-type {\n",
       "        vertical-align: middle;\n",
       "    }\n",
       "\n",
       "    .dataframe tbody tr th {\n",
       "        vertical-align: top;\n",
       "    }\n",
       "\n",
       "    .dataframe thead th {\n",
       "        text-align: right;\n",
       "    }\n",
       "</style>\n",
       "<table border=\"1\" class=\"dataframe\">\n",
       "  <thead>\n",
       "    <tr style=\"text-align: right;\">\n",
       "      <th></th>\n",
       "      <th>Lasso Train Scores</th>\n",
       "      <th>Lasso Test Scores</th>\n",
       "      <th>Ridge Train Scores</th>\n",
       "      <th>Ridge Test Scores</th>\n",
       "    </tr>\n",
       "  </thead>\n",
       "  <tbody>\n",
       "    <tr>\n",
       "      <th>0.001</th>\n",
       "      <td>0.406538</td>\n",
       "      <td>0.406384</td>\n",
       "      <td>0.406539</td>\n",
       "      <td>0.406386</td>\n",
       "    </tr>\n",
       "    <tr>\n",
       "      <th>0.005</th>\n",
       "      <td>0.406528</td>\n",
       "      <td>0.406366</td>\n",
       "      <td>0.406539</td>\n",
       "      <td>0.406386</td>\n",
       "    </tr>\n",
       "    <tr>\n",
       "      <th>1.000</th>\n",
       "      <td>0.400619</td>\n",
       "      <td>0.399107</td>\n",
       "      <td>0.406536</td>\n",
       "      <td>0.406388</td>\n",
       "    </tr>\n",
       "    <tr>\n",
       "      <th>5.000</th>\n",
       "      <td>0.381591</td>\n",
       "      <td>0.376652</td>\n",
       "      <td>0.406499</td>\n",
       "      <td>0.406383</td>\n",
       "    </tr>\n",
       "    <tr>\n",
       "      <th>10.000</th>\n",
       "      <td>0.357816</td>\n",
       "      <td>0.349774</td>\n",
       "      <td>0.406428</td>\n",
       "      <td>0.406350</td>\n",
       "    </tr>\n",
       "    <tr>\n",
       "      <th>50.000</th>\n",
       "      <td>0.203758</td>\n",
       "      <td>0.199128</td>\n",
       "      <td>0.405895</td>\n",
       "      <td>0.405969</td>\n",
       "    </tr>\n",
       "    <tr>\n",
       "      <th>100.000</th>\n",
       "      <td>0.148926</td>\n",
       "      <td>0.145301</td>\n",
       "      <td>0.405479</td>\n",
       "      <td>0.405561</td>\n",
       "    </tr>\n",
       "    <tr>\n",
       "      <th>500.000</th>\n",
       "      <td>0.000000</td>\n",
       "      <td>-0.001793</td>\n",
       "      <td>0.402667</td>\n",
       "      <td>0.401680</td>\n",
       "    </tr>\n",
       "    <tr>\n",
       "      <th>1000.000</th>\n",
       "      <td>0.000000</td>\n",
       "      <td>-0.001793</td>\n",
       "      <td>0.398430</td>\n",
       "      <td>0.396067</td>\n",
       "    </tr>\n",
       "  </tbody>\n",
       "</table>\n",
       "</div>"
      ],
      "text/plain": [
       "          Lasso Train Scores  Lasso Test Scores  Ridge Train Scores  \\\n",
       "0.001               0.406538           0.406384            0.406539   \n",
       "0.005               0.406528           0.406366            0.406539   \n",
       "1.000               0.400619           0.399107            0.406536   \n",
       "5.000               0.381591           0.376652            0.406499   \n",
       "10.000              0.357816           0.349774            0.406428   \n",
       "50.000              0.203758           0.199128            0.405895   \n",
       "100.000             0.148926           0.145301            0.405479   \n",
       "500.000             0.000000          -0.001793            0.402667   \n",
       "1000.000            0.000000          -0.001793            0.398430   \n",
       "\n",
       "          Ridge Test Scores  \n",
       "0.001              0.406386  \n",
       "0.005              0.406386  \n",
       "1.000              0.406388  \n",
       "5.000              0.406383  \n",
       "10.000             0.406350  \n",
       "50.000             0.405969  \n",
       "100.000            0.405561  \n",
       "500.000            0.401680  \n",
       "1000.000           0.396067  "
      ]
     },
     "execution_count": 113,
     "metadata": {},
     "output_type": "execute_result"
    }
   ],
   "source": [
    "shrinkage_parameters"
   ]
  },
  {
   "cell_type": "markdown",
   "metadata": {},
   "source": [
    "Based on performance of the Lasso and Ridge models with the different parameters it seems that our 5 fold cross validation didn't choose the appropriate shrinkage parameter.  While **0.005** was a good choice for shrinkage parameter for Lasso encouraging shrinkage with negligible impact on $R^2$ **500** as a shrinkage parameter for Ridge was totally off.  What's going on?\n",
    "\n",
    "Well passing in cv=5 to LassoCV() and RidgeCV() is the same thing as using KFold(5, shuffle=False).  We're constructing our folds without shuffling whereas our test set was constructed with shuffling and since our rows have some order/time dependence we're failing one of the fundamental assumptions of k-fold cross-validation -- that the data is identically distributed.  We can attempt to fix this by shuffling our data before constructing the folds.  What happens in that case?"
   ]
  },
  {
   "cell_type": "code",
   "execution_count": 160,
   "metadata": {},
   "outputs": [],
   "source": [
    "folds = KFold(5, shuffle=True)"
   ]
  },
  {
   "cell_type": "code",
   "execution_count": 161,
   "metadata": {},
   "outputs": [],
   "source": [
    "# RidgeCV\n",
    "NewRRModel = RidgeCV(cv=folds, alphas=lambdas, fit_intercept=True)\n",
    "\n",
    "NewRRModel.fit(X_train, y_train) \n",
    "\n",
    "NewRR_shrinkage_parameter = NewRRModel.alpha_\n",
    "\n",
    "Ridge_coefficients2 = NewRRModel.coef_.ravel()"
   ]
  },
  {
   "cell_type": "code",
   "execution_count": 162,
   "metadata": {},
   "outputs": [
    {
     "name": "stdout",
     "output_type": "stream",
     "text": [
      "The Ridge shrinkage parameter: 1\n"
     ]
    }
   ],
   "source": [
    "print(\"The Ridge shrinkage parameter: {}\".format(NewRR_shrinkage_parameter))"
   ]
  },
  {
   "cell_type": "code",
   "execution_count": 163,
   "metadata": {},
   "outputs": [],
   "source": [
    "# LassoCV\n",
    "NewLRModel = LassoCV(cv=folds, alphas=lambdas, fit_intercept=True)\n",
    "\n",
    "NewLRModel.fit(X_train, y_train) \n",
    "\n",
    "NewLR_shrinkage_parameter = NewLRModel.alpha_\n",
    "\n",
    "Lasso_coefficients2 = NewLRModel.coef_.ravel()"
   ]
  },
  {
   "cell_type": "code",
   "execution_count": 164,
   "metadata": {},
   "outputs": [
    {
     "name": "stdout",
     "output_type": "stream",
     "text": [
      "The Lasso shrinkage parameter: 0.001\n"
     ]
    }
   ],
   "source": [
    "print(\"The Lasso shrinkage parameter: {}\".format(NewLR_shrinkage_parameter))"
   ]
  },
  {
   "cell_type": "code",
   "execution_count": 165,
   "metadata": {},
   "outputs": [
    {
     "name": "stdout",
     "output_type": "stream",
     "text": [
      "Ridge predictors within 0.1 of 0: []\n",
      "----\n",
      "Lasso predictors within 0.1 of 0: []\n"
     ]
    }
   ],
   "source": [
    "# your code here\n",
    "\n",
    "print(\"Ridge predictors within 0.1 of 0:\", list(feature_names[np.abs(Ridge_coefficients2)<.1]))\n",
    "print(\"----\")\n",
    "print(\"Lasso predictors within 0.1 of 0:\", list(feature_names[np.abs(Lasso_coefficients2)<.1]))"
   ]
  },
  {
   "cell_type": "markdown",
   "metadata": {},
   "source": [
    "By doing *the right thing* and incorporating shuffling, we see that we're now picking a much better shrinkage coefficient of **1.0** for Ridge (although if we're again willing to take a negligible hit to $R^2$ a coefficient of 10 would be a better choice if taking into consideration both shrinkage and $R^2$.  Our new choice of shrinkage for our Lasso model **0.001** however has the suboptimal effect of removing the sparsification we achieved on the days of the week and workingday predictors since the Lasso regression coefficient for 'Mon' is no longer set to 0.\n",
    "\n",
    "What does our new graph look like?"
   ]
  },
  {
   "cell_type": "code",
   "execution_count": 197,
   "metadata": {},
   "outputs": [
    {
     "data": {
      "image/png": "[encoded data removed]",
      "text/plain": [
       "<Figure size 1008x576 with 1 Axes>"
      ]
     },
     "metadata": {},
     "output_type": "display_data"
    }
   ],
   "source": [
    "# your code here\n",
    "si= np.argsort(np.abs(BikeOLSModel.coef_[0]))\n",
    "\n",
    "n_coeffs = len(feature_names)\n",
    "\n",
    "plt.figure(figsize=(14,8))\n",
    "plt.bar(np.arange(n_coeffs)-0.2, np.abs(Ridge_coefficients2)[si], alpha=0.4, label='Ridge')\n",
    "plt.bar(np.arange(n_coeffs)+0.2, np.abs(Lasso_coefficients2)[si], alpha=0.2, label='LASSO')\n",
    "plt.bar(np.arange(n_coeffs), -np.abs(OLS_coefficients)[si], color='purple', hatch='/', label='OLS')\n",
    "plt.xticks(range(n_coeffs), feature_names[si], rotation=60)\n",
    "plt.xlim(-1,n_coeffs)\n",
    "plt.ylim(-100,100)\n",
    "plt.legend(fontsize=16)\n",
    "plt.title(\"Model coefficients: 5-fold CV shuffled\")\n",
    "plt.xlabel(\"Features\")\n",
    "plt.ylabel(\"+/- Coefficient Magnitude\")\n",
    "plt.show()"
   ]
  },
  {
   "cell_type": "markdown",
   "metadata": {},
   "source": [
    "We see much less of a difference between the Lasso model and the Ridge model in this case and much less shrinkage from the Ridge model compared to the model selected from 5-fold CV without shuffling.  Lasso doesn't 'sparsify' any predictor coefficients and both models are very similar to OLS (with the exception of the coefficients on the 'Storm' predictor')."
   ]
  },
  {
   "cell_type": "markdown",
   "metadata": {},
   "source": [
    "What would our models look like if we used an \"ideal\" selection of shrinkage parameters based upon test set performance where an \"ideal\" selection is one that takes into account both $R^2$ performance and maximizing shrinkage (since in the case of at Least Lasso we see sparsifying coefficients as a good objective).  We can create a quantitative algorithm for choosing the \"ideal\" parameter by something along the lines of the highest lambda with an $R^2$ score within one standard deviation of the max $R^2$ score (sometimes called the one standard error rule).  Let's call our rule the 1% rule and state that we'd be willing to take an up to 1% hit in R^2 performance to get better shrinkage."
   ]
  },
  {
   "cell_type": "code",
   "execution_count": 186,
   "metadata": {},
   "outputs": [
    {
     "name": "stdout",
     "output_type": "stream",
     "text": [
      "Max test set R^2 score for Lasso:  0.40638\n",
      "1% max test set R^2 0.0040638\n",
      "Max test set R^2 score for Ridge:  0.40639\n",
      "1% max test set R^2 0.0040639\n",
      "\"Ideal\" Lasso alpha 1% rule: 0.005\n",
      "\"Ideal\" Ridge alpha 1% rule: 100.0\n"
     ]
    }
   ],
   "source": [
    "print(\"Max test set R^2 score for Lasso:  {:.5}\".format(np.max(shrinkage_parameters['Lasso Test Scores'])))\n",
    "print(\"1% max test set R^2 {:.5}\".format(0.01*np.max(shrinkage_parameters['Lasso Test Scores'])))\n",
    "#print(\"Standard deviation for Lasso test set R^2 scores:  {:.5}\".format(np.std(shrinkage_parameters['Lasso Test Scores'])))\n",
    "lasso_stds = np.std(shrinkage_parameters['Lasso Test Scores'])\n",
    "\n",
    "pct_lst = shrinkage_parameters['Lasso Test Scores'] > np.max(shrinkage_parameters['Lasso Test Scores']) - 0.01*np.max(shrinkage_parameters['Lasso Test Scores'])\n",
    "std_lst = shrinkage_parameters['Lasso Test Scores'] > np.max(shrinkage_parameters['Lasso Test Scores']) - lasso_stds\n",
    "max_pct_lst = max(np.array(lambdas)[pct_lst])\n",
    "max_std_lst = max(np.array(lambdas)[std_lst])\n",
    "\n",
    "\n",
    "print(\"Max test set R^2 score for Ridge:  {:.5}\".format(np.max(shrinkage_parameters['Ridge Test Scores'])))\n",
    "print(\"1% max test set R^2 {:.5}\".format(0.01*np.max(shrinkage_parameters['Ridge Test Scores'])))\n",
    "#print(\"Standard deviation for Ridge test set R^2 scores:  {:.5}\".format(np.std(shrinkage_parameters['Ridge Test Scores'])))\n",
    "ridge_stds = np.std(shrinkage_parameters['Ridge Test Scores'])\n",
    "\n",
    "pct_rst = shrinkage_parameters['Ridge Test Scores'] > np.max(shrinkage_parameters['Ridge Test Scores']) - 0.01*np.max(shrinkage_parameters['Ridge Test Scores'])\n",
    "std_rst = shrinkage_parameters['Ridge Test Scores'] > np.max(shrinkage_parameters['Ridge Test Scores']) - ridge_stds\n",
    "\n",
    "max_pct_rst = max(np.array(lambdas)[pct_rst])\n",
    "max_std_rst = max(np.array(lambdas)[std_rst])\n",
    "\n",
    "\n",
    "print('\"Ideal\" Lasso alpha 1% rule: {}'.format(max_pct_lst))\n",
    "print('\"Ideal\" Ridge alpha 1% rule: {}'.format(max_pct_rst))\n",
    "\n",
    "#print('\"Ideal\" Lasso alpha 1 standard error rule: {}'.format(max_std_lst))\n",
    "#print('\"Ideal\" Ridge alpha 1 standard error rule: {}'.format(max_std_rst))"
   ]
  },
  {
   "cell_type": "markdown",
   "metadata": {},
   "source": [
    "Based on an \"ideal\" selection of shrinkage parameters based upon test set performance based on the 1% rule we'd have a Lasso shrinkage parameter of **0.005** and a Ridge shrinkage parameter of **100.0**.  In other words, k-fold without shuffling seems like it came closer to picking the right shrinkage parameters than k-fold with shuffling.  But some other cross-validation strategy is probably the right way to go.  How do these shrinkage parameters affect our regularization models?"
   ]
  },
  {
   "cell_type": "code",
   "execution_count": 188,
   "metadata": {},
   "outputs": [],
   "source": [
    "# RidgeCV\n",
    "RRModel3 = Ridge(alpha=100, fit_intercept=True)\n",
    "\n",
    "RRModel3.fit(X_train, y_train) \n",
    "\n",
    "RR_shrinkage_parameter3 = 100\n",
    "\n",
    "Ridge_coefficients3 = RRModel3.coef_.ravel()"
   ]
  },
  {
   "cell_type": "code",
   "execution_count": 189,
   "metadata": {},
   "outputs": [
    {
     "name": "stdout",
     "output_type": "stream",
     "text": [
      "The Ridge shrinkage parameter: 100\n"
     ]
    }
   ],
   "source": [
    "print(\"The Ridge shrinkage parameter: {}\".format(RR_shrinkage_parameter3))"
   ]
  },
  {
   "cell_type": "code",
   "execution_count": 190,
   "metadata": {},
   "outputs": [],
   "source": [
    "# LassoCV\n",
    "LRModel3 = Lasso(alpha=0.005, fit_intercept=True)\n",
    "\n",
    "LRModel3.fit(X_train, y_train) \n",
    "\n",
    "LR_shrinkage_parameter3 = 0.005\n",
    "\n",
    "Lasso_coefficients3 = LRModel3.coef_.ravel()"
   ]
  },
  {
   "cell_type": "code",
   "execution_count": 191,
   "metadata": {},
   "outputs": [
    {
     "name": "stdout",
     "output_type": "stream",
     "text": [
      "The Lasso shrinkage parameter: 0.005\n"
     ]
    }
   ],
   "source": [
    "print(\"The Lasso shrinkage parameter: {}\".format(LR_shrinkage_parameter3))"
   ]
  },
  {
   "cell_type": "code",
   "execution_count": 193,
   "metadata": {},
   "outputs": [
    {
     "name": "stdout",
     "output_type": "stream",
     "text": [
      "Ridge predictors within 0.1 of 0: []\n",
      "----\n",
      "Lasso predictors within 0.1 of 0: ['Mon']\n"
     ]
    }
   ],
   "source": [
    "# your code here\n",
    "\n",
    "print(\"Ridge predictors within 0.1 of 0:\", list(feature_names[np.abs(Ridge_coefficients3)<.1]))\n",
    "print(\"----\")\n",
    "print(\"Lasso predictors within 0.1 of 0:\", list(feature_names[np.abs(Lasso_coefficients3)<.1]))"
   ]
  },
  {
   "cell_type": "code",
   "execution_count": 198,
   "metadata": {},
   "outputs": [
    {
     "data": {
      "image/png": "[encoded data removed]",
      "text/plain": [
       "<Figure size 1008x576 with 1 Axes>"
      ]
     },
     "metadata": {},
     "output_type": "display_data"
    }
   ],
   "source": [
    "# your code here\n",
    "si= np.argsort(np.abs(BikeOLSModel.coef_[0]))\n",
    "\n",
    "n_coeffs = len(feature_names)\n",
    "\n",
    "plt.figure(figsize=(14,8))\n",
    "plt.bar(np.arange(n_coeffs)-0.2, np.abs(Ridge_coefficients3)[si], alpha=0.4, label='Ridge')\n",
    "plt.bar(np.arange(n_coeffs)+0.2, np.abs(Lasso_coefficients3)[si], alpha=0.2, label='LASSO')\n",
    "plt.bar(np.arange(n_coeffs), -np.abs(OLS_coefficients)[si], color='purple', hatch='/', label='OLS')\n",
    "plt.xticks(range(n_coeffs), feature_names[si], rotation=60)\n",
    "plt.xlim(-1,n_coeffs)\n",
    "plt.ylim(-100,100)\n",
    "plt.legend(fontsize=16)\n",
    "plt.title(\"Model coefficients: 5-fold CV 'ideal' parameters\")\n",
    "plt.xlabel(\"Features\")\n",
    "plt.ylabel(\"+/- Coefficient Magnitude\")\n",
    "plt.show()"
   ]
  },
  {
   "cell_type": "markdown",
   "metadata": {},
   "source": [
    "Our regularization models under parameter values selected in an \"ideal\" fashion look and act a lot more like the models with parameters selected without any shuffling in the 5-fold CV.  We know however that our data isn't identically distributed and in fact seems to have a time-series like nature which would suggest that something like shuffling should be a better strategy for CV.  In fact we probably in practice would use different cross-validation (as well as test set selection) strategies than we're leveredging in this homework (or homework 3 as well) based upon the nature of our data."
   ]
  },
  {
   "cell_type": "markdown",
   "metadata": {},
   "source": [
    "#### More on the one standard error rule can be found in the resources below:\n",
    "\n",
    "Page 80 in Classification and Regression Trees by Breiman, Friedman, Stone & Olshen (1984)\n",
    "Page 415 in Estimating the Number of Clusters in a Data Set via the Gap Statistic by Tibshirani, Walther & Hastie (JRSS B, 2001) (referencing Breiman et al.)\n",
    "Pages 61 and 244 in Elements of Statistical Learning by Hastie, Tibshirani & Friedman (2009)\n",
    "Page 13 in Statistical Learning with Sparsity by Hastie, Tibshirani & Wainwright (2015)\n",
    "\n",
    "https://stats.stackexchange.com/questions/80268/empirical-justification-for-the-one-standard-error-rule-when-using-cross-validat\n",
    "https://stats.stackexchange.com/questions/138569/why-is-lambda-within-one-standard-error-from-the-minimum-is-a-recommended-valu"
   ]
  },
  {
   "cell_type": "markdown",
   "metadata": {},
   "source": [
    "<div class='exercise'> <b> Question 3: Polynomial Features, Interaction Terms, and Cross Validation </b> </div>\n"
   ]
  },
  {
   "cell_type": "markdown",
   "metadata": {},
   "source": [
    "We would like to fit a model to include all main effects and polynomial terms for numerical predictors up to the $4^{th}$ order. More precisely use the following terms: \n",
    " - predictors in `X_train` and `X_test`\n",
    " - $X^1_j$, $X^2_j$, $X^3_j$, and $X^4_j$ for each numerical predictor $X_j$\n",
    "\n",
    "**3.1** Create an expanded training set including all the desired terms mentioned above. Store that training set (as a pandas dataframe) in the variable `X_train_poly`.  Create the corresponding test set and store it as a pandas dataframe in `X_test_poly`.\n",
    "\n",
    "**3.2** Discuss the following:\n",
    "\n",
    "1. What are the dimensions of this 'design matrix' of all the predictor variables in 3.1?  \n",
    "2. What issues may we run into attempting to fit a regression model using all of these predictors?\n",
    "\n",
    "**3.3** Let's try fitting a regression model on all the predictors anyway.  Use the `LinearRegression` library from `sklearn` to fit a multiple linear regression model to the training set data in `X_train_poly`.  Store the fitted model in the variable `BikeOLSPolyModel`.\n",
    "\n",
    "**3.4** Discuss the following:\n",
    "1. What are the training and test $R^2$ scores? \n",
    "2. How does the model performance compare with the OLS model on the original set of features in Question 1?\n",
    "\n",
    "**3.5** The training set $R^2$ score we generated for our model with polynomial and interaction terms doesn't have any error bars.  Let's use cross-validation to generate sample sets of $R^2$ for our model. Use 5-fold cross-validation to generate $R^2$ scores for the multiple linear regression model with polynomial terms.  What are the mean and standard deviation of the $R^2$ scores for your model.\n",
    "\n",
    "**3.6** Visualize the $R^2$ scores generated from the 5-fold cross validation as a box and whisker plot.\n",
    "\n",
    "**3.7** We've used cross-validation to generate error bars around our $R^2$ scores, but another use of cross-validation is as a way of model selection.  Let's construct the following model alternatives:\n",
    "\n",
    "1. Multiple linear regression model generated based upon the feature set in Question 1 (let's call these the base features.\n",
    "2. base features plus polynomial features to order 2\n",
    "3. base features plus polynomial features to order 4\n",
    "\n",
    "Use 5-fold cross validation on the training set to select the best model.  Make sure to evaluate all the models as much as possible on the same folds.  For each model generate a mean and standard deviation for the $R^2$ score.\n",
    "\n",
    "**3.8** Visualize the $R^2$ scores generated for each model from 5-fold cross validation in box and whiskers plots.  Do the box and whisker plots influence your view of which model was best?\n",
    "\n",
    "**3.9** Evaluate each of the model alternatives on the test set.  How do the results compare with the results from cross-validation?"
   ]
  },
  {
   "cell_type": "markdown",
   "metadata": {},
   "source": [
    "### Answers"
   ]
  },
  {
   "cell_type": "markdown",
   "metadata": {},
   "source": [
    "#### 3.1 Create an expanded training set including all the desired terms mentioned above. Store that training set (as a numpy array) in the variable `X_train_poly`."
   ]
  },
  {
   "cell_type": "code",
   "execution_count": 82,
   "metadata": {},
   "outputs": [],
   "source": [
    "# your code here\n",
    "\n",
    "# Create dataframe of higher order polynomials on a feature column up to order k\n",
    "def gen_df_higher_orders(df, column, k):\n",
    "    \n",
    "    poly_model = PolynomialFeatures(k, include_bias=False)\n",
    "    \n",
    "    feature_data = df[column]\n",
    "    \n",
    "    \n",
    "    # transform to get all the polynomial features of this column\n",
    "    higher_orders = poly_model.fit_transform(feature_data.values.reshape(-1,1))\n",
    "    \n",
    "    feature_names = poly_model.get_feature_names([column])\n",
    "\n",
    "    return pd.DataFrame(higher_orders[:,1:], columns=feature_names[1:])\n",
    "\n",
    "def gen_df_interactions(df, categorical, numerical):\n",
    "    \n",
    "    poly_model= PolynomialFeatures(2, include_bias=False, interaction_only=True)\n",
    "    \n",
    "    all_interactions = pd.DataFrame(poly_model.fit_transform(df), columns = poly_model.get_feature_names(df.columns))\n",
    "    \n",
    "    \n",
    "    # Generate the column names from interacations between categorical columns\n",
    "    # including the categorical columns themselves and drop them\n",
    "    poly_model.fit_transform(X_train[categorical])\n",
    "\n",
    "    all_interactions = all_interactions.drop(poly_model.get_feature_names(categorical), axis=1)\n",
    "    \n",
    "    \n",
    "    # Generate the column names from interactions between numerical columns\n",
    "    # including the numerical columns themselves and drop them\n",
    "    poly_model.fit_transform(X_train[numerical])\n",
    "\n",
    "    all_interactions = all_interactions.drop(poly_model.get_feature_names(numerical), axis=1)\n",
    "    \n",
    "    return all_interactions"
   ]
  },
  {
   "cell_type": "code",
   "execution_count": 83,
   "metadata": {},
   "outputs": [],
   "source": [
    "def get_poly_dataset(dataset_train, dataset_test, k):\n",
    "    \n",
    "    higher_orders_train =[gen_df_higher_orders(dataset_train, feature, k) for feature in numerical_columns]\n",
    "    higher_orders_test = [gen_df_higher_orders(dataset_test, feature, k) for feature in numerical_columns]\n",
    "\n",
    "    higher_orders_train = pd.concat(higher_orders_train, axis=1)\n",
    "    higher_orders_test = pd.concat(higher_orders_test, axis=1)\n",
    "\n",
    "    higher_orders_columns = higher_orders_train.columns\n",
    "\n",
    "    # scale higher order polynomial features\n",
    "    scaler = StandardScaler().fit(higher_orders_train)\n",
    "\n",
    "    higher_orders_train[higher_orders_columns] = scaler.transform(higher_orders_train)\n",
    "    higher_orders_test[higher_orders_columns] = scaler.transform(higher_orders_test)\n",
    "\n",
    "    # concatenate to get the full data frames\n",
    "    poly_train = pd.concat([dataset_train.reset_index().drop(['index'], axis=1)] + [higher_orders_train], axis=1)\n",
    "    poly_test = pd.concat([dataset_test.reset_index().drop(['index'], axis=1)] + [higher_orders_test], axis=1)\n",
    "    \n",
    "    return (poly_train, poly_test)"
   ]
  },
  {
   "cell_type": "code",
   "execution_count": 84,
   "metadata": {},
   "outputs": [],
   "source": [
    "X_poly_train, X_poly_test = get_poly_dataset(X_train, X_test, 4)"
   ]
  },
  {
   "cell_type": "markdown",
   "metadata": {},
   "source": [
    "#### 3.2.1 What are the dimensions of this 'design matrix'?"
   ]
  },
  {
   "cell_type": "code",
   "execution_count": 85,
   "metadata": {},
   "outputs": [
    {
     "data": {
      "text/plain": [
       "Index(['hour', 'holiday', 'year', 'workingday', 'temp', 'atemp', 'hum',\n",
       "       'windspeed', 'spring', 'summer', 'fall', 'Feb', 'Mar', 'Apr', 'May',\n",
       "       'Jun', 'Jul', 'Aug', 'Sept', 'Oct', 'Nov', 'Dec', 'Mon', 'Tue', 'Wed',\n",
       "       'Thu', 'Fri', 'Sat', 'Cloudy', 'Snow', 'Storm', 'temp^2', 'temp^3',\n",
       "       'temp^4', 'atemp^2', 'atemp^3', 'atemp^4', 'hum^2', 'hum^3', 'hum^4',\n",
       "       'windspeed^2', 'windspeed^3', 'windspeed^4'],\n",
       "      dtype='object')"
      ]
     },
     "execution_count": 85,
     "metadata": {},
     "output_type": "execute_result"
    }
   ],
   "source": [
    "X_poly_train.columns"
   ]
  },
  {
   "cell_type": "code",
   "execution_count": 86,
   "metadata": {},
   "outputs": [
    {
     "data": {
      "text/html": [
       "<div>\n",
       "<style scoped>\n",
       "    .dataframe tbody tr th:only-of-type {\n",
       "        vertical-align: middle;\n",
       "    }\n",
       "\n",
       "    .dataframe tbody tr th {\n",
       "        vertical-align: top;\n",
       "    }\n",
       "\n",
       "    .dataframe thead th {\n",
       "        text-align: right;\n",
       "    }\n",
       "</style>\n",
       "<table border=\"1\" class=\"dataframe\">\n",
       "  <thead>\n",
       "    <tr style=\"text-align: right;\">\n",
       "      <th></th>\n",
       "      <th>hour</th>\n",
       "      <th>holiday</th>\n",
       "      <th>year</th>\n",
       "      <th>workingday</th>\n",
       "      <th>temp</th>\n",
       "      <th>atemp</th>\n",
       "      <th>hum</th>\n",
       "      <th>windspeed</th>\n",
       "      <th>spring</th>\n",
       "      <th>summer</th>\n",
       "      <th>...</th>\n",
       "      <th>temp^4</th>\n",
       "      <th>atemp^2</th>\n",
       "      <th>atemp^3</th>\n",
       "      <th>atemp^4</th>\n",
       "      <th>hum^2</th>\n",
       "      <th>hum^3</th>\n",
       "      <th>hum^4</th>\n",
       "      <th>windspeed^2</th>\n",
       "      <th>windspeed^3</th>\n",
       "      <th>windspeed^4</th>\n",
       "    </tr>\n",
       "  </thead>\n",
       "  <tbody>\n",
       "    <tr>\n",
       "      <th>count</th>\n",
       "      <td>13903.000000</td>\n",
       "      <td>13903.000000</td>\n",
       "      <td>13903.000000</td>\n",
       "      <td>13903.000000</td>\n",
       "      <td>1.390300e+04</td>\n",
       "      <td>1.390300e+04</td>\n",
       "      <td>1.390300e+04</td>\n",
       "      <td>1.390300e+04</td>\n",
       "      <td>13903.000000</td>\n",
       "      <td>13903.000000</td>\n",
       "      <td>...</td>\n",
       "      <td>1.390300e+04</td>\n",
       "      <td>1.390300e+04</td>\n",
       "      <td>1.390300e+04</td>\n",
       "      <td>1.390300e+04</td>\n",
       "      <td>1.390300e+04</td>\n",
       "      <td>1.390300e+04</td>\n",
       "      <td>1.390300e+04</td>\n",
       "      <td>1.390300e+04</td>\n",
       "      <td>1.390300e+04</td>\n",
       "      <td>1.390300e+04</td>\n",
       "    </tr>\n",
       "    <tr>\n",
       "      <th>mean</th>\n",
       "      <td>11.529454</td>\n",
       "      <td>0.029274</td>\n",
       "      <td>0.504567</td>\n",
       "      <td>0.680644</td>\n",
       "      <td>-2.289600e-16</td>\n",
       "      <td>4.088572e-16</td>\n",
       "      <td>-4.783629e-16</td>\n",
       "      <td>2.289600e-16</td>\n",
       "      <td>0.253183</td>\n",
       "      <td>0.258865</td>\n",
       "      <td>...</td>\n",
       "      <td>2.453143e-17</td>\n",
       "      <td>-8.177144e-17</td>\n",
       "      <td>4.906287e-17</td>\n",
       "      <td>4.088572e-17</td>\n",
       "      <td>-1.512772e-16</td>\n",
       "      <td>1.635429e-17</td>\n",
       "      <td>1.635429e-17</td>\n",
       "      <td>-6.746144e-17</td>\n",
       "      <td>1.022143e-17</td>\n",
       "      <td>-2.657572e-17</td>\n",
       "    </tr>\n",
       "    <tr>\n",
       "      <th>std</th>\n",
       "      <td>6.917884</td>\n",
       "      <td>0.168580</td>\n",
       "      <td>0.499997</td>\n",
       "      <td>0.466244</td>\n",
       "      <td>1.000036e+00</td>\n",
       "      <td>1.000036e+00</td>\n",
       "      <td>1.000036e+00</td>\n",
       "      <td>1.000036e+00</td>\n",
       "      <td>0.434850</td>\n",
       "      <td>0.438027</td>\n",
       "      <td>...</td>\n",
       "      <td>1.000036e+00</td>\n",
       "      <td>1.000036e+00</td>\n",
       "      <td>1.000036e+00</td>\n",
       "      <td>1.000036e+00</td>\n",
       "      <td>1.000036e+00</td>\n",
       "      <td>1.000036e+00</td>\n",
       "      <td>1.000036e+00</td>\n",
       "      <td>1.000036e+00</td>\n",
       "      <td>1.000036e+00</td>\n",
       "      <td>1.000036e+00</td>\n",
       "    </tr>\n",
       "    <tr>\n",
       "      <th>min</th>\n",
       "      <td>0.000000</td>\n",
       "      <td>0.000000</td>\n",
       "      <td>0.000000</td>\n",
       "      <td>0.000000</td>\n",
       "      <td>-2.474055e+00</td>\n",
       "      <td>-2.764988e+00</td>\n",
       "      <td>-3.257769e+00</td>\n",
       "      <td>-1.557515e+00</td>\n",
       "      <td>0.000000</td>\n",
       "      <td>0.000000</td>\n",
       "      <td>...</td>\n",
       "      <td>-5.147625e-01</td>\n",
       "      <td>-9.304302e-01</td>\n",
       "      <td>-8.220754e+00</td>\n",
       "      <td>-4.712201e-01</td>\n",
       "      <td>-9.190551e-01</td>\n",
       "      <td>-1.281820e+01</td>\n",
       "      <td>-3.909072e-01</td>\n",
       "      <td>-6.197134e-01</td>\n",
       "      <td>-8.102365e-01</td>\n",
       "      <td>-1.785218e-01</td>\n",
       "    </tr>\n",
       "    <tr>\n",
       "      <th>25%</th>\n",
       "      <td>6.000000</td>\n",
       "      <td>0.000000</td>\n",
       "      <td>0.000000</td>\n",
       "      <td>0.000000</td>\n",
       "      <td>-8.133773e-01</td>\n",
       "      <td>-8.265766e-01</td>\n",
       "      <td>-7.719159e-01</td>\n",
       "      <td>-7.009933e-01</td>\n",
       "      <td>0.000000</td>\n",
       "      <td>0.000000</td>\n",
       "      <td>...</td>\n",
       "      <td>-5.060281e-01</td>\n",
       "      <td>-7.928673e-01</td>\n",
       "      <td>-1.881868e-01</td>\n",
       "      <td>-4.663738e-01</td>\n",
       "      <td>-7.650356e-01</td>\n",
       "      <td>-1.273693e-01</td>\n",
       "      <td>-3.858789e-01</td>\n",
       "      <td>-5.725461e-01</td>\n",
       "      <td>-1.709233e-01</td>\n",
       "      <td>-1.782270e-01</td>\n",
       "    </tr>\n",
       "    <tr>\n",
       "      <th>50%</th>\n",
       "      <td>11.000000</td>\n",
       "      <td>0.000000</td>\n",
       "      <td>1.000000</td>\n",
       "      <td>1.000000</td>\n",
       "      <td>1.696154e-02</td>\n",
       "      <td>5.451955e-02</td>\n",
       "      <td>4.913269e-03</td>\n",
       "      <td>3.258315e-02</td>\n",
       "      <td>0.000000</td>\n",
       "      <td>0.000000</td>\n",
       "      <td>...</td>\n",
       "      <td>-4.051289e-01</td>\n",
       "      <td>-2.619651e-01</td>\n",
       "      <td>3.236408e-02</td>\n",
       "      <td>-3.581280e-01</td>\n",
       "      <td>-3.574097e-01</td>\n",
       "      <td>4.373286e-02</td>\n",
       "      <td>-3.240565e-01</td>\n",
       "      <td>-3.155264e-01</td>\n",
       "      <td>-1.067849e-01</td>\n",
       "      <td>-1.665422e-01</td>\n",
       "    </tr>\n",
       "    <tr>\n",
       "      <th>75%</th>\n",
       "      <td>18.000000</td>\n",
       "      <td>0.000000</td>\n",
       "      <td>1.000000</td>\n",
       "      <td>1.000000</td>\n",
       "      <td>8.473004e-01</td>\n",
       "      <td>8.477969e-01</td>\n",
       "      <td>7.817424e-01</td>\n",
       "      <td>5.219073e-01</td>\n",
       "      <td>1.000000</td>\n",
       "      <td>1.000000</td>\n",
       "      <td>...</td>\n",
       "      <td>5.585169e-02</td>\n",
       "      <td>4.103700e-01</td>\n",
       "      <td>2.702095e-01</td>\n",
       "      <td>-1.693190e-02</td>\n",
       "      <td>5.120220e-01</td>\n",
       "      <td>2.214529e-01</td>\n",
       "      <td>4.308982e-02</td>\n",
       "      <td>1.776485e-01</td>\n",
       "      <td>-8.032379e-02</td>\n",
       "      <td>-9.642754e-02</td>\n",
       "    </tr>\n",
       "    <tr>\n",
       "      <th>max</th>\n",
       "      <td>23.000000</td>\n",
       "      <td>1.000000</td>\n",
       "      <td>1.000000</td>\n",
       "      <td>1.000000</td>\n",
       "      <td>2.611770e+00</td>\n",
       "      <td>3.050828e+00</td>\n",
       "      <td>1.921092e+00</td>\n",
       "      <td>5.415149e+00</td>\n",
       "      <td>1.000000</td>\n",
       "      <td>1.000000</td>\n",
       "      <td>...</td>\n",
       "      <td>1.114033e+01</td>\n",
       "      <td>7.738178e+00</td>\n",
       "      <td>1.111864e+01</td>\n",
       "      <td>1.849309e+01</td>\n",
       "      <td>8.835145e+00</td>\n",
       "      <td>2.681217e+00</td>\n",
       "      <td>1.977104e+01</td>\n",
       "      <td>1.757132e+01</td>\n",
       "      <td>2.945729e+01</td>\n",
       "      <td>4.248249e+01</td>\n",
       "    </tr>\n",
       "  </tbody>\n",
       "</table>\n",
       "<p>8 rows × 43 columns</p>\n",
       "</div>"
      ],
      "text/plain": [
       "               hour       holiday          year    workingday          temp  \\\n",
       "count  13903.000000  13903.000000  13903.000000  13903.000000  1.390300e+04   \n",
       "mean      11.529454      0.029274      0.504567      0.680644 -2.289600e-16   \n",
       "std        6.917884      0.168580      0.499997      0.466244  1.000036e+00   \n",
       "min        0.000000      0.000000      0.000000      0.000000 -2.474055e+00   \n",
       "25%        6.000000      0.000000      0.000000      0.000000 -8.133773e-01   \n",
       "50%       11.000000      0.000000      1.000000      1.000000  1.696154e-02   \n",
       "75%       18.000000      0.000000      1.000000      1.000000  8.473004e-01   \n",
       "max       23.000000      1.000000      1.000000      1.000000  2.611770e+00   \n",
       "\n",
       "              atemp           hum     windspeed        spring        summer  \\\n",
       "count  1.390300e+04  1.390300e+04  1.390300e+04  13903.000000  13903.000000   \n",
       "mean   4.088572e-16 -4.783629e-16  2.289600e-16      0.253183      0.258865   \n",
       "std    1.000036e+00  1.000036e+00  1.000036e+00      0.434850      0.438027   \n",
       "min   -2.764988e+00 -3.257769e+00 -1.557515e+00      0.000000      0.000000   \n",
       "25%   -8.265766e-01 -7.719159e-01 -7.009933e-01      0.000000      0.000000   \n",
       "50%    5.451955e-02  4.913269e-03  3.258315e-02      0.000000      0.000000   \n",
       "75%    8.477969e-01  7.817424e-01  5.219073e-01      1.000000      1.000000   \n",
       "max    3.050828e+00  1.921092e+00  5.415149e+00      1.000000      1.000000   \n",
       "\n",
       "           ...             temp^4       atemp^2       atemp^3       atemp^4  \\\n",
       "count      ...       1.390300e+04  1.390300e+04  1.390300e+04  1.390300e+04   \n",
       "mean       ...       2.453143e-17 -8.177144e-17  4.906287e-17  4.088572e-17   \n",
       "std        ...       1.000036e+00  1.000036e+00  1.000036e+00  1.000036e+00   \n",
       "min        ...      -5.147625e-01 -9.304302e-01 -8.220754e+00 -4.712201e-01   \n",
       "25%        ...      -5.060281e-01 -7.928673e-01 -1.881868e-01 -4.663738e-01   \n",
       "50%        ...      -4.051289e-01 -2.619651e-01  3.236408e-02 -3.581280e-01   \n",
       "75%        ...       5.585169e-02  4.103700e-01  2.702095e-01 -1.693190e-02   \n",
       "max        ...       1.114033e+01  7.738178e+00  1.111864e+01  1.849309e+01   \n",
       "\n",
       "              hum^2         hum^3         hum^4   windspeed^2   windspeed^3  \\\n",
       "count  1.390300e+04  1.390300e+04  1.390300e+04  1.390300e+04  1.390300e+04   \n",
       "mean  -1.512772e-16  1.635429e-17  1.635429e-17 -6.746144e-17  1.022143e-17   \n",
       "std    1.000036e+00  1.000036e+00  1.000036e+00  1.000036e+00  1.000036e+00   \n",
       "min   -9.190551e-01 -1.281820e+01 -3.909072e-01 -6.197134e-01 -8.102365e-01   \n",
       "25%   -7.650356e-01 -1.273693e-01 -3.858789e-01 -5.725461e-01 -1.709233e-01   \n",
       "50%   -3.574097e-01  4.373286e-02 -3.240565e-01 -3.155264e-01 -1.067849e-01   \n",
       "75%    5.120220e-01  2.214529e-01  4.308982e-02  1.776485e-01 -8.032379e-02   \n",
       "max    8.835145e+00  2.681217e+00  1.977104e+01  1.757132e+01  2.945729e+01   \n",
       "\n",
       "        windspeed^4  \n",
       "count  1.390300e+04  \n",
       "mean  -2.657572e-17  \n",
       "std    1.000036e+00  \n",
       "min   -1.785218e-01  \n",
       "25%   -1.782270e-01  \n",
       "50%   -1.665422e-01  \n",
       "75%   -9.642754e-02  \n",
       "max    4.248249e+01  \n",
       "\n",
       "[8 rows x 43 columns]"
      ]
     },
     "execution_count": 86,
     "metadata": {},
     "output_type": "execute_result"
    }
   ],
   "source": [
    "X_poly_train.describe()"
   ]
  },
  {
   "cell_type": "markdown",
   "metadata": {},
   "source": [
    "<HR>\n",
    "13903 x 43\n",
    "<HR>"
   ]
  },
  {
   "cell_type": "markdown",
   "metadata": {},
   "source": [
    "#### 3.2.2 What issues may we run into attempting to fit a regression model using all of these predictors?"
   ]
  },
  {
   "cell_type": "markdown",
   "metadata": {},
   "source": [
    "<HR>\n",
    "Overfitting may be a problem when applying a trained regression models using polynomial features.\n",
    "<HR>"
   ]
  },
  {
   "cell_type": "markdown",
   "metadata": {},
   "source": [
    "#### 3.3 Let's try fitting a regression model on all the predictors anyway.  Use the `LinearRegression` library from `sklearn` to fit a multiple linear regression model."
   ]
  },
  {
   "cell_type": "code",
   "execution_count": 87,
   "metadata": {},
   "outputs": [
    {
     "data": {
      "text/plain": [
       "LinearRegression(copy_X=True, fit_intercept=True, n_jobs=1, normalize=False)"
      ]
     },
     "execution_count": 87,
     "metadata": {},
     "output_type": "execute_result"
    }
   ],
   "source": [
    "# your code here\n",
    "\n",
    "BikeOLSPolyModel = LinearRegression()\n",
    "\n",
    "BikeOLSPolyModel.fit(X_poly_train, y_train)"
   ]
  },
  {
   "cell_type": "markdown",
   "metadata": {},
   "source": [
    "#### 3.4.1 What are the training and test $R^2$ scores?"
   ]
  },
  {
   "cell_type": "code",
   "execution_count": 88,
   "metadata": {},
   "outputs": [
    {
     "name": "stdout",
     "output_type": "stream",
     "text": [
      "{'training': 0.42230805166587104, 'test': 0.42027912762252395}\n"
     ]
    }
   ],
   "source": [
    "# your code here\n",
    "\n",
    "BikeOLSPoly_r2scores = {}\n",
    "\n",
    "BikeOLSPoly_r2scores['training'] = BikeOLSPolyModel.score(X_poly_train, y_train)\n",
    "BikeOLSPoly_r2scores['test'] = BikeOLSPolyModel.score(X_poly_test, y_test)\n",
    "\n",
    "print(BikeOLSPoly_r2scores)"
   ]
  },
  {
   "cell_type": "markdown",
   "metadata": {},
   "source": [
    "<HR>\n",
    "Training: 0.422\n",
    "    \n",
    "Test: 0.420\n",
    "<HR>"
   ]
  },
  {
   "cell_type": "markdown",
   "metadata": {},
   "source": [
    "#### 3.4.2 How does the model performance compare with the OLS model on the original set of features in Question 1?"
   ]
  },
  {
   "cell_type": "markdown",
   "metadata": {},
   "source": [
    "As a reminder, the original linear model from question 1 is"
   ]
  },
  {
   "cell_type": "code",
   "execution_count": 89,
   "metadata": {},
   "outputs": [
    {
     "name": "stdout",
     "output_type": "stream",
     "text": [
      "{'training': 0.4065387827969087, 'test': 0.40638554757102285}\n"
     ]
    }
   ],
   "source": [
    "print(BikeOLS_r2scores)"
   ]
  },
  {
   "cell_type": "markdown",
   "metadata": {},
   "source": [
    "We see that the polynomial regression models performs slightly better in terms of $R^2$."
   ]
  },
  {
   "cell_type": "markdown",
   "metadata": {},
   "source": [
    "#### 3.5 The training set $R^2$ score we generated for our model with polynomial and interaction terms doesn't have any error bars.  Let's use cross-validation to generate sample."
   ]
  },
  {
   "cell_type": "markdown",
   "metadata": {},
   "source": [
    "First let's try to use the same cross-validation strategy (5-fold no shuffling) that we used in Question 2 (see the Note to Question 2 for further discussion)"
   ]
  },
  {
   "cell_type": "code",
   "execution_count": 212,
   "metadata": {},
   "outputs": [
    {
     "name": "stdout",
     "output_type": "stream",
     "text": [
      "Mean:  0.26727805322296905\n",
      "Std. Dev:  0.09109366555046743\n"
     ]
    }
   ],
   "source": [
    "# your code here\n",
    "\n",
    "MLR_scores_orig = cross_val_score(LinearRegression(), X_poly_train, y_train, cv=5)\n",
    "    \n",
    "print(\"Mean: \", np.mean(MLR_scores_orig))\n",
    "print(\"Std. Dev: \", np.std(MLR_scores_orig))"
   ]
  },
  {
   "cell_type": "markdown",
   "metadata": {},
   "source": [
    "If we use our cross-validation strategy from Question 2 (see the Note in Question 2 for additional information) we don't obtain appropriate error bars because our model's $R^2$ score isn't in the range of the $R^2$ scores we're receiving from the validation sets of our 5-fold CV without shuffling.  Since we're not using CV for model selection, let's use 5-fold CV with shuffling (the CV strategy that is most aligned with the process by which we generated our test set).  We defined the variable `folds` before to hold a sklearn 5-fold CV object with shuffling.  Let's use it here."
   ]
  },
  {
   "cell_type": "code",
   "execution_count": 213,
   "metadata": {},
   "outputs": [
    {
     "name": "stdout",
     "output_type": "stream",
     "text": [
      "Mean:  0.41809773174789927\n",
      "Std. Dev:  0.013651344365428789\n"
     ]
    }
   ],
   "source": [
    "# your code here\n",
    "\n",
    "MLR_scores = cross_val_score(LinearRegression(), X_poly_train, y_train, cv=folds)\n",
    "    \n",
    "print(\"Mean: \", np.mean(MLR_scores))\n",
    "print(\"Std. Dev: \", np.std(MLR_scores))"
   ]
  },
  {
   "cell_type": "markdown",
   "metadata": {},
   "source": [
    "Much better.  Our 5-fold CV now provides appropriate error bars and a mean score very close to the $R^2$ scores we saw for our model."
   ]
  },
  {
   "cell_type": "markdown",
   "metadata": {},
   "source": [
    "#### 3.6 Plot the $R^2$ scores generated from k-fold cross validation (for each k) as a box and whisker plot."
   ]
  },
  {
   "cell_type": "code",
   "execution_count": 214,
   "metadata": {},
   "outputs": [
    {
     "data": {
      "image/png": "[encoded data removed]",
      "text/plain": [
       "<Figure size 576x432 with 1 Axes>"
      ]
     },
     "metadata": {},
     "output_type": "display_data"
    }
   ],
   "source": [
    "plt.figure(figsize=(8,6))\n",
    "plt.boxplot(MLR_scores)\n",
    "plt.ylabel(r\"$R^2$\", fontsize=18)\n",
    "plt.xlabel('Models')\n",
    "plt.title(r\"$R^2$ scores with 5-fold CV\")\n",
    "plt.xticks([1],['Polynomial Features 4th Degree'])\n",
    "plt.show()"
   ]
  },
  {
   "cell_type": "markdown",
   "metadata": {},
   "source": [
    "#### 3.7 We've used cross-validation to generate error bars around our $R^2$ scores, but another use of cross-validation is as a way of model selection.  Let's construct the following model alternatives."
   ]
  },
  {
   "cell_type": "code",
   "execution_count": 215,
   "metadata": {},
   "outputs": [],
   "source": [
    "k_fold = KFold(n_splits=5, shuffle=True)\n",
    "\n",
    "kfold_ks = list(range(5))\n",
    "\n",
    "x_kfold_scores = []\n",
    "poly2_kfold_scores = []\n",
    "poly4_kfold_scores = []\n",
    "\n",
    "for k, (train_index, test_index) in enumerate(k_fold.split(X_train, y_train)):\n",
    "    # Create k-th Train & Test DataFrames\n",
    "    X_kfold_train = pd.DataFrame(X_train.values[train_index], columns=X_train.columns)  \n",
    "    X_kfold_test =  pd.DataFrame(X_train.values[test_index], columns=X_train.columns)\n",
    "    \n",
    "    y_kfold_train, y_kfold_test = y_train[train_index], y_train[test_index]\n",
    "    \n",
    "    # Create 2-nd and 4-th degree polynomial feature design matrices\n",
    "    poly2_kfold_train, poly2_kfold_test = get_poly_dataset(X_kfold_train, X_kfold_test, 2)\n",
    "    poly4_kfold_train, poly4_kfold_test = get_poly_dataset(X_kfold_train, X_kfold_test, 4)\n",
    "    \n",
    "    # Train\n",
    "    kfold = LinearRegression().fit(X_kfold_train, y_kfold_train)\n",
    "    poly2 = LinearRegression().fit(poly2_kfold_train, y_kfold_train)\n",
    "    poly4 = LinearRegression().fit(poly4_kfold_train, y_kfold_train)\n",
    "    \n",
    "    # Score\n",
    "    x_kfold_scores.append(kfold.score(X_kfold_test, y_kfold_test))\n",
    "    poly2_kfold_scores.append(poly2.score(poly2_kfold_test, y_kfold_test))\n",
    "    poly4_kfold_scores.append(poly4.score(poly4_kfold_test, y_kfold_test))"
   ]
  },
  {
   "cell_type": "code",
   "execution_count": 216,
   "metadata": {},
   "outputs": [],
   "source": [
    "all_kfold_scores = np.array([x_kfold_scores, poly2_kfold_scores, poly4_kfold_scores])"
   ]
  },
  {
   "cell_type": "code",
   "execution_count": 217,
   "metadata": {},
   "outputs": [
    {
     "name": "stdout",
     "output_type": "stream",
     "text": [
      "Model 1: Base Features\n",
      "Mean:  0.40380558249315596\n",
      "Std. Dev: 0.009452828194271646\n"
     ]
    }
   ],
   "source": [
    "print(\"Model 1: Base Features\")\n",
    "print(\"Mean: \", all_kfold_scores.mean(axis=1)[0])\n",
    "print(\"Std. Dev:\", all_kfold_scores.std(axis=1)[0])"
   ]
  },
  {
   "cell_type": "code",
   "execution_count": 218,
   "metadata": {},
   "outputs": [
    {
     "name": "stdout",
     "output_type": "stream",
     "text": [
      "Model 2:  Base Features plus polynomial features to order 2\n",
      "Mean:  0.40895185127904493\n",
      "Std. Dev: 0.010361613797103868\n"
     ]
    }
   ],
   "source": [
    "print(\"Model 2:  Base Features plus polynomial features to order 2\")\n",
    "print(\"Mean: \", np.mean(poly2_kfold_scores))\n",
    "print(\"Std. Dev:\", np.std(poly2_kfold_scores))"
   ]
  },
  {
   "cell_type": "code",
   "execution_count": 219,
   "metadata": {},
   "outputs": [
    {
     "name": "stdout",
     "output_type": "stream",
     "text": [
      "Model 3:  Base Features plus polynomial features to order 4\n",
      "Mean:  0.4188507543031137\n",
      "Std. Dev: 0.009370282514851912\n"
     ]
    }
   ],
   "source": [
    "print(\"Model 3:  Base Features plus polynomial features to order 4\")\n",
    "print(\"Mean: \", np.mean(poly4_kfold_scores))\n",
    "print(\"Std. Dev:\", np.std(poly4_kfold_scores))"
   ]
  },
  {
   "cell_type": "markdown",
   "metadata": {},
   "source": [
    "Based purely on model selection via k-fold cross validation, the base model with the addition of polynomial features of degree 4 is the best."
   ]
  },
  {
   "cell_type": "markdown",
   "metadata": {},
   "source": [
    "#### 3.8 Visualize the $R^2$ scores generated for each model from 5-fold cross validation in box and whiskers plots.  Do the box and whisker plots influence your view of which model was best?"
   ]
  },
  {
   "cell_type": "code",
   "execution_count": 220,
   "metadata": {},
   "outputs": [
    {
     "data": {
      "image/png": "[encoded data removed]",
      "text/plain": [
       "<Figure size 1008x576 with 1 Axes>"
      ]
     },
     "metadata": {},
     "output_type": "display_data"
    }
   ],
   "source": [
    "plt.figure(figsize=(14,8))\n",
    "plt.boxplot([x_kfold_scores, poly2_kfold_scores, poly4_kfold_scores])\n",
    "plt.ylabel(r\"$R^2$\", fontsize=18)\n",
    "plt.xticks(range(1,4), ['Linear (Base)', '2 Order Polynomial', '4 Order Polynomial'], fontsize=18)\n",
    "plt.show()"
   ]
  },
  {
   "cell_type": "markdown",
   "metadata": {},
   "source": [
    "#### 3.9 Evaluate each of the model alternatives on the  test set.  How do the results compare with the results from cross-validation?"
   ]
  },
  {
   "cell_type": "code",
   "execution_count": 221,
   "metadata": {},
   "outputs": [],
   "source": [
    "poly2_train, poly2_test = get_poly_dataset(X_train, X_test, 2)\n",
    "poly4_train, poly4_test = get_poly_dataset(X_train, X_test, 4)"
   ]
  },
  {
   "cell_type": "code",
   "execution_count": 222,
   "metadata": {},
   "outputs": [],
   "source": [
    "base_model = LinearRegression().fit(X_train, y_train)\n",
    "poly2_model = LinearRegression().fit(poly2_train, y_train)\n",
    "poly4_model = LinearRegression().fit(poly4_train, y_train)"
   ]
  },
  {
   "cell_type": "code",
   "execution_count": 223,
   "metadata": {},
   "outputs": [
    {
     "name": "stdout",
     "output_type": "stream",
     "text": [
      "R-squared for Base Model on Test:  0.40638554757102285\n",
      "R-squared for 2 Degree Polynomial Features Model on Test:  0.41076037422804523\n",
      "R-squared for 4 Degree Polynomial Features Model on Test:  0.42027912762252395\n"
     ]
    }
   ],
   "source": [
    "print(\"R-squared for Base Model on Test: \", base_model.score(X_test, y_test))\n",
    "print(\"R-squared for 2 Degree Polynomial Features Model on Test: \", poly2_model.score(poly2_test, y_test))\n",
    "print(\"R-squared for 4 Degree Polynomial Features Model on Test: \", poly4_model.score(poly4_test, y_test))"
   ]
  },
  {
   "cell_type": "markdown",
   "metadata": {},
   "source": [
    "The models performed similarly on the test set as they did on the CV validation sets and on the training set.  The addition of polynomial features seems to have given us a sliver of additional predictive power without the issues of overfitting that we were initially concerned about."
   ]
  },
  {
   "cell_type": "markdown",
   "metadata": {},
   "source": [
    "#### **Note**"
   ]
  },
  {
   "cell_type": "markdown",
   "metadata": {},
   "source": [
    "If we use our no-shuffle 5-fold cross validation strategy from Question 2 for model selection, will we make the same choice?  We have leeway here since we don't need to generate error bars for the $R^2$ scores that our models generated on the full training and test set, so even if we scores in a different range we'll be ok as long as we pick models consistent with those we selected with the shuffle 5-fold cross validation strategy.  Let's see what happens."
   ]
  },
  {
   "cell_type": "code",
   "execution_count": 236,
   "metadata": {},
   "outputs": [],
   "source": [
    "k_fold_ns = KFold(n_splits=5)\n",
    "\n",
    "x_kfold_scores_ns = []\n",
    "poly2_kfold_scores_ns = []\n",
    "poly4_kfold_scores_ns = []\n",
    "\n",
    "for k, (train_index, test_index) in enumerate(k_fold_ns.split(X_train, y_train)):\n",
    "    # Create k-th Train & Test DataFrames\n",
    "    X_kfold_train_ns = pd.DataFrame(X_train.values[train_index], columns=X_train.columns)  \n",
    "    X_kfold_test_ns =  pd.DataFrame(X_train.values[test_index], columns=X_train.columns)\n",
    "    \n",
    "    y_kfold_train_ns, y_kfold_test_ns = y_train[train_index], y_train[test_index]\n",
    "    \n",
    "    # Create 2-nd and 4-th degree polynomial feature design matrices\n",
    "    poly2_kfold_train_ns, poly2_kfold_test_ns = get_poly_dataset(X_kfold_train_ns, X_kfold_test_ns, 2)\n",
    "    poly4_kfold_train_ns, poly4_kfold_test_ns = get_poly_dataset(X_kfold_train_ns, X_kfold_test_ns, 4)\n",
    "    \n",
    "    # Train\n",
    "    kfold_ns = LinearRegression().fit(X_kfold_train_ns, y_kfold_train_ns)\n",
    "    poly2_ns = LinearRegression().fit(poly2_kfold_train_ns, y_kfold_train_ns)\n",
    "    poly4_ns = LinearRegression().fit(poly4_kfold_train_ns, y_kfold_train_ns)\n",
    "    \n",
    "    # Score\n",
    "    x_kfold_scores_ns.append(kfold_ns.score(X_kfold_test_ns, y_kfold_test_ns))\n",
    "    poly2_kfold_scores_ns.append(poly2_ns.score(poly2_kfold_test_ns, y_kfold_test_ns))\n",
    "    poly4_kfold_scores_ns.append(poly4_ns.score(poly4_kfold_test_ns, y_kfold_test_ns))"
   ]
  },
  {
   "cell_type": "code",
   "execution_count": 237,
   "metadata": {},
   "outputs": [],
   "source": [
    "all_kfold_scores_ns = np.array([x_kfold_scores_ns, poly2_kfold_scores_ns, poly4_kfold_scores_ns])"
   ]
  },
  {
   "cell_type": "code",
   "execution_count": 238,
   "metadata": {},
   "outputs": [
    {
     "name": "stdout",
     "output_type": "stream",
     "text": [
      "Model 1: Base Features\n",
      "Mean:  0.2579944364362185\n",
      "Std. Dev: 0.09220055096227732\n"
     ]
    }
   ],
   "source": [
    "print(\"Model 1: Base Features\")\n",
    "print(\"Mean: \", all_kfold_scores_ns.mean(axis=1)[0])\n",
    "print(\"Std. Dev:\", all_kfold_scores_ns.std(axis=1)[0])"
   ]
  },
  {
   "cell_type": "code",
   "execution_count": 239,
   "metadata": {},
   "outputs": [
    {
     "name": "stdout",
     "output_type": "stream",
     "text": [
      "Model 2:  Base Features plus polynomial features to order 2\n",
      "Mean:  0.2632587511694263\n",
      "Std. Dev: 0.07670352483743803\n"
     ]
    }
   ],
   "source": [
    "print(\"Model 2:  Base Features plus polynomial features to order 2\")\n",
    "print(\"Mean: \", np.mean(poly2_kfold_scores_ns))\n",
    "print(\"Std. Dev:\", np.std(poly2_kfold_scores_ns))"
   ]
  },
  {
   "cell_type": "code",
   "execution_count": 240,
   "metadata": {},
   "outputs": [
    {
     "name": "stdout",
     "output_type": "stream",
     "text": [
      "Model 3:  Base Features plus polynomial features to order 4\n",
      "Mean:  0.26727805322296777\n",
      "Std. Dev: 0.09109366555046872\n"
     ]
    }
   ],
   "source": [
    "print(\"Model 3:  Base Features plus polynomial features to order 4\")\n",
    "print(\"Mean: \", np.mean(poly4_kfold_scores_ns))\n",
    "print(\"Std. Dev:\", np.std(poly4_kfold_scores_ns))"
   ]
  },
  {
   "cell_type": "markdown",
   "metadata": {},
   "source": [
    "As conjectured -- even with the difference in model performance on the 5-fold CV without shuffling validation sets, the relative model performance is the same as in the case where we shuffled our data before performing the cross-validation and we end up selecting the same model (Polynomial Features up to order 4).  Does visualization bear out these results? "
   ]
  },
  {
   "cell_type": "code",
   "execution_count": 241,
   "metadata": {},
   "outputs": [
    {
     "data": {
      "image/png": "[encoded data removed]",
      "text/plain": [
       "<Figure size 1008x576 with 1 Axes>"
      ]
     },
     "metadata": {},
     "output_type": "display_data"
    }
   ],
   "source": [
    "plt.figure(figsize=(14,8))\n",
    "plt.boxplot([x_kfold_scores_ns, poly2_kfold_scores_ns, poly4_kfold_scores_ns])\n",
    "plt.ylabel(r\"$R^2$\", fontsize=18)\n",
    "plt.xticks(range(1,4), ['Linear (Base)', '2 Order Polynomial', '4 Order Polynomial'], fontsize=18)\n",
    "plt.show()"
   ]
  },
  {
   "cell_type": "markdown",
   "metadata": {},
   "source": [
    "Yes it does. As we saw above performance of the models on the test set is significantly better than on the CV validation sets, but the relative performance between the models is the same.  So while shuffling (based on our understanding of our data) seems like the best CV strategy in this case (as opposed to what we observed in Question 2) CV without shuffling would still lead you to the same choices for model selection.  In any case the takeaway is that your CV strategy is influenced by your data, and you shouldn't use a CV strategy without regard to the best approach for your data and without awareness of the ramnifications of how your CV strategy may affect the resulting models (in model selection)."
   ]
  }
 ],
 "metadata": {
  "kernelspec": {
   "display_name": "Python 3",
   "language": "python",
   "name": "python3"
  },
  "language_info": {
   "codemirror_mode": {
    "name": "ipython",
    "version": 3
   },
   "file_extension": ".py",
   "mimetype": "text/x-python",
   "name": "python",
   "nbconvert_exporter": "python",
   "pygments_lexer": "ipython3",
   "version": "3.6.5"
  }
 },
 "nbformat": 4,
 "nbformat_minor": 2
}
