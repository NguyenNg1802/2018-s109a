{
 "cells": [
  {
   "cell_type": "markdown",
   "metadata": {
    "button": false,
    "new_sheet": false,
    "run_control": {
     "read_only": false
    }
   },
   "source": [
    "# <img style=\"float: left; padding-right: 10px; width: 45px\" src=\"iacs.png\"> S-109A Introduction to Data Science \n",
    "\n",
    "\n",
    "## Homework 0\n",
    "\n",
    "**Harvard University**<br/>\n",
    "**Summer 2018**<br/>\n",
    "**Instructors**: Pavlos Protopapas and Kevin Rader\n",
    "\n",
    "---\n",
    "\n",
    "This is a homework which you must turn in but it won't be graded.\n",
    "\n",
    "This homework has the following intentions:\n",
    "\n",
    "1. To get you familiar with the jupyter/python environment.\n",
    "2. You should easily understand these questions and what is being asked. If you struggle, this may not be the right class for you.\n",
    "3. You should be able to understand the intent (if not the exact syntax) of the code and be able to look up on Google and provide code that is asked of you. If you cannot, this may not be the right class for you.\n",
    "\n"
   ]
  },
  {
   "cell_type": "markdown",
   "metadata": {
    "button": false,
    "new_sheet": false,
    "run_control": {
     "read_only": false
    }
   },
   "source": [
    "---"
   ]
  },
  {
   "cell_type": "markdown",
   "metadata": {
    "button": false,
    "new_sheet": false,
    "run_control": {
     "read_only": false
    }
   },
   "source": [
    "## Basic Math and Probability/Statistics Calculations"
   ]
  },
  {
   "cell_type": "markdown",
   "metadata": {
    "button": false,
    "new_sheet": false,
    "run_control": {
     "read_only": false
    }
   },
   "source": [
    "We'll start you off with some basic math and statistics problems questions to make sure you have the appropriate background to be comfortable with concepts that will come up in CS 109a."
   ]
  },
  {
   "cell_type": "markdown",
   "metadata": {
    "button": false,
    "new_sheet": false,
    "run_control": {
     "read_only": false
    }
   },
   "source": [
    "### Question 1: Mathiage is What Brings Us Together Today\n",
    "\n",
    "**Matrix Operations**\n",
    "\n",
    "*Complete the following matrix operations (show your work as a markdown/latex notebook cell)*"
   ]
  },
  {
   "cell_type": "markdown",
   "metadata": {
    "button": false,
    "new_sheet": false,
    "run_control": {
     "read_only": false
    }
   },
   "source": [
    "**1.1.** &nbsp;&nbsp;Let &nbsp;&nbsp; $ A =  \\left( \\begin{array}{ccc}\n",
    "3 & 4 & 2 \\\\\n",
    "5 & 6 & 4 \\\\\n",
    "4 & 3 & 4 \\end{array} \\right) \\,\\,$ and  $ \\,\\, B = \\left( \\begin{array}{ccc}\n",
    "1 & 4 & 2 \\\\\n",
    "1 & 9 & 3 \\\\\n",
    "2 & 3 & 3 \\end{array} \\right)\n",
    "$.  \n",
    "\n",
    "Compute &nbsp;$A \\cdot B$.\n",
    "\n",
    "**1.2.** &nbsp;&nbsp;Let &nbsp;&nbsp;\n",
    "$ A =  \\left( \\begin{array}{ccc}\n",
    "0 & 12 & 8 \\\\\n",
    "1 & 15 & 0 \\\\\n",
    "0 & 6 & 3 \\end{array} \\right)$.  \n",
    "\n",
    "Compute &nbsp; $A^{-1}$.  \n",
    "\n"
   ]
  },
  {
   "cell_type": "markdown",
   "metadata": {
    "button": false,
    "new_sheet": false,
    "run_control": {
     "read_only": false
    }
   },
   "source": [
    "**Solution**\n",
    "\n",
    "**1.1.** &nbsp;&nbsp;$ A \\cdot B =  \\left( \\begin{array}{ccc}\n",
    "11 & 54 & 24 \\\\\n",
    "19 & 86 & 40 \\\\\n",
    "15 & 55 & 29 \\end{array} \\right) $ .\n",
    "\n",
    "**1.2.** &nbsp;&nbsp;\n",
    "$ A^{-1} =  \\left( \\begin{array}{ccc}\n",
    "3\\frac{3}{4} & 1 & -10 \\\\\n",
    "-\\frac{1}{4} & 0 & \\frac{2}{3}\\\\\n",
    "\\frac{1}{2} & 0 & -1 \\end{array} \\right)$ .\n",
    "\n"
   ]
  },
  {
   "cell_type": "markdown",
   "metadata": {
    "button": false,
    "new_sheet": false,
    "run_control": {
     "read_only": false
    }
   },
   "source": [
    "**Calculus and Probability**\n",
    "\n",
    "*Complete the following (show your work as a markdown/latex notebook cell)*\n",
    "\n",
    "**1.3**. From Wikipedia:\n",
    "\n",
    "  > In mathematical optimization, statistics, econometrics, decision theory, machine learning and computational neuroscience, a loss function or cost function is a function that maps an event or values of one or more variables onto a real number intuitively representing some \"cost\" associated with the event. An optimization problem seeks to minimize a loss function.\n",
    "  \n",
    "   We've generated a cost function on parameters $x,y \\in \\mathcal{R}$  $L(x,y)= 3x^2y - y^3 - 3x^2 - 3y^2 + 2$.  Find the critical points (optima) of $L(x,y)$.\n"
   ]
  },
  {
   "cell_type": "markdown",
   "metadata": {
    "button": false,
    "new_sheet": false,
    "run_control": {
     "read_only": false
    }
   },
   "source": [
    "**Solution**\n",
    "\n",
    "**1.3.** \n",
    "\n",
    "To find the critical points of a multivariable function $L(x,y)$, we need to find the set of points $\\{(x,y)\\} \\, s.t. \\nabla L(x,y) = 0$.  We begin by finding the first order partial derivatives.\n",
    "\n",
    "$$ \\frac{\\partial L(x,y)}{\\partial x} = 6x(y - 1)$$\n",
    "$$ \\frac{\\partial L(x,y)}{\\partial y} = 3x^2 - 3y^2 - 6y$$\n",
    "\n",
    "For $\\nabla L(x,y) = 0$, we need each partial derivative to be 0 which means:\n",
    "\n",
    "$$ \\frac{\\partial L(x,y)}{\\partial x} = 6x(y - 1) = 0$$\n",
    "$$ \\frac{\\partial L(x,y)}{\\partial y} = 3x^2 - 3y^2 - 6y = 0$$\n",
    "\n",
    "Solving for the first equation we get\n",
    "\n",
    "$$ 6x(y - 1) = 0 \\Longrightarrow \\{x = 0 \\text{ or } y = 1 \\}$$\n",
    "\n",
    "We can use the values we obtained from the first variable, i.e. $x = 0$ and $y = 1$, in the second equation to solve the remaining variable.  For x = 0 this gives us:\n",
    "\n",
    "$$ 3x^2 - 3y^2 - 6y = 0 \\Longrightarrow -3y(y+2) = 0 \\Longrightarrow \\{y = 0 \\text{ or } y = -2 \\} $$\n",
    "\n",
    "For y = 1 this gives us:\n",
    "\n",
    "$$ 3x^2 - 3y^2 - 6y = 0 \\Longrightarrow 3x^2 - 9 = 0 \\Longrightarrow \\{x = \\pm\\sqrt3\\} $$\n",
    "\n",
    "So our critical points are $\\{(0,0), (0, -2), (\\sqrt3, 1), (-\\sqrt3, 1)\\}$.  To characterize them we'll use the second derivative test which involves evaluating the determinant of the Hessian matrix at each critical point.  If the determinant of the Hessian matrix evaluated at the critical point is positive, the critical point is a local optima (a minima or maxima).  If the determinant of the Hessian matrix evaluated at the critical point is negative, the critical point is a saddle point.  If the determinant of the Hessian matrix evaluated at the critical point is 0, the test is inconclusive.  Once we know if the critical point is an optima, we can use the second order derivatives with respect to x to determine\n",
    "if the optima is a local minima or maxima.\n",
    "\n",
    "$$\\text{Let }\\mathrm{H}_L(x,y) = \\left. \\begin{bmatrix}\n",
    " \\frac{\\partial^2 L}{\\partial x^2}  & \\frac{\\partial^2 L}{\\partial x\\partial y} \\\\\n",
    " \\frac{\\partial^2 L}{\\partial y \\partial x} & \\frac{\\partial^2 L}{\\partial x^2} \\end{bmatrix} \\right|_{(x,y)} $$\n",
    "$$D = D(x,y) = \\left|\\mathrm{H}_L(x,y)\\right|$$\n",
    "\n",
    "The second order partials are as follows:\n",
    "$$ \n",
    "\\begin{align*}\n",
    "\\frac{\\partial^2 L}{\\partial x^2} &= 6y -6 \\\\\n",
    "\\frac{\\partial^2 L}{\\partial y^2} &= -6y -6 \\\\\n",
    "\\frac{\\partial^2 L}{\\partial x \\partial y} &= \\frac{\\partial^2 L}{\\partial y \\partial x} = 6x \\\\\n",
    "\\Longrightarrow D(x,y) = |\\mathrm{H}_L(x,y)| &= \\left. ((6y - 6)(-6y -6) - (6x)^2) \\right|_{(x,y)}\n",
    "\\end{align*}\n",
    "$$\n",
    "\n",
    "This gives us D(0,0) = 36 , D(0,-2) = -108, D($\\sqrt3$,1) = -108, D(-$\\sqrt3$,1) = -108\n",
    "$$\\left. \\frac{\\partial^2 L}{\\partial x^2} \\right|_{(0,0)} = 6y -6 \\rvert_{(0,0)} = -6 \\Longrightarrow \\text{(0,0) is a local minimum}$$\n",
    "\n",
    "So (0,0) is a local minimum and the other three critical points are all saddle points.\n",
    "\n"
   ]
  },
  {
   "cell_type": "markdown",
   "metadata": {},
   "source": [
    "**1.4**. Two central aspects of call center operations are the busy-ness of the customer service reps and the caller demographics.  Because of historical data, the distribution of these measures can often take on well-known distributions.  In the CS109 Homework Helpdesk, $X$ and $Y$ are discrete random variables with $Y$ measuring the total number of help lines that are busy with callers (there are three lines available), and $X$ measuring the number of help lines that are busy with female callers.  We've determined historically the joint pmf of $(X, Y)$ and found it to be: \n",
    "\n",
    "$$p_{X,Y}(x,y) = {y \\choose x}\\left(\\frac{1}{3}\\right)^x\\left(\\frac{2}{3}\\right)^{y-x}\\frac{(1+y)}{10}$$ \n",
    "\n",
    "where $y \\in {0,1,2,3}, x \\in [0, y]$ (That is to say the total number of callers in a minute is a non-negative integer and the number of female callers naturally assumes a value between 0 and the total number of callers inclusive).  Note: by definition, ${0 \\choose 0} = 1$.  \n",
    "\n",
    "(i) What is the conditional distribution of $X|Y$ (it is a well-known family)?\n",
    "\n",
    "(ii) Find the mean and variance of the marginal distribution of $X$. "
   ]
  },
  {
   "cell_type": "markdown",
   "metadata": {
    "button": false,
    "new_sheet": false,
    "run_control": {
     "read_only": false
    }
   },
   "source": [
    "**Solution**\n",
    "\n",
    "**1.4.** \n",
    "\n",
    "(i) Treating $y$ like a constant, we can write the distribution as:\n",
    "\n",
    "$$p_{X|Y}(x) = c{y \\choose x}\\left(\\frac{1}{3}\\right)^x\\left(\\frac{2}{3}\\right)^{y-x}$$ \n",
    "\n",
    "where $c$ is a constant. This is the functional form of a $Binomial(n=y, p=1/3)$ distribution.\n",
    "\n",
    "\n",
    "(ii) The marginal distribution of $Y$ is:\n",
    "$$P(Y=0) = \\frac{1}{10}$$\n",
    "$$P(Y=1) = \\frac{2}{10}$$\n",
    "$$P(Y=2) = \\frac{3}{10}$$\n",
    "$$P(Y=3) = \\frac{4}{10}$$\n",
    "\n",
    "It has mean $E(Y) = 1\\cdot(2/10)+2\\cdot(3/10)+3\\cdot(4/10) =2$ and variance $\\text{Var}(Y)=(0-2)^2\\cdot(1/10)+(1-2)^2\\cdot(2/10)+(2-2)^2\\cdot(3/10)+(3-2)^2\\cdot(4/10) = 4/10+2/10+0+4/10 = 1$.\n",
    "\n",
    "Using the fact that the mean of a Binomial is $np$, then the mean of $X|Y=0$ is 0 ($X$ can only take on the value 0 in this situation), $E(X|Y=1)=1/3$, $E(X|Y=2)=2/3$, and $E(X|Y=3)=1$. Thus:\n",
    "\n",
    "$$E(X) = E(X|Y=0)P(Y=0)+E(X|Y=1)P(Y=1)+E(X|Y=2)P(Y=2)+E(X|Y=3)P(Y=3) = 0 + (1/3)\\cdot(2/10)+(2/3)\\cdot(3/10)+1\\cdot(4/10) = 2/3$$\n",
    "\n",
    "The variance of a Binomial is $np(1-p)$, thus $\\text{Var}(X|Y=0)=0$, $\\text{Var}(X|Y=1)=1\\cdot1/3\\cdot2/3=2/9$, $\\text{Var}(X|Y=2)=2\\cdot1/3\\cdot2/3=4/9$, and $\\text{Var}(X|Y=3)=3\\cdot1/3\\cdot2/3=6/9$.  \n",
    "\n",
    "To calculate marginal variance, we first have to calculate $E(X^2)$ (Using the fact that $E(X^2|Y)=\\text{Var}(X|Y)+[E(X|Y)]^2$):\n",
    "\n",
    "\\begin{align*}\n",
    "E(X^2) &= E(X^2|Y=0)P(Y=0)+E(X^2|Y=1)P(Y=1)+E(X^2|Y=2)P(Y=2)+E(X^2|Y=3)P(Y=3) \\\\\n",
    "&= 0 + (3/9)\\cdot(2/10)+(8/9)\\cdot(3/10)+(15/9)\\cdot(4/10) = 1$$\n",
    "\\end{align*}\n",
    "\n",
    "Thus $\\text{Var}(X) = E(X^2)-[E(X)]^2 =  1-(2/3)^2 = 5/9$.\n",
    "\n",
    "\n",
    "**For those who have taken Stat 110**: \n",
    "\n",
    "From *Adam and Eve's Law* (the laws of total expectation and total variance):\n",
    "$$E(X) = E(E(X|Y)) = E(Y\\cdot(1/3)) = (1/3)\\cdot E(Y) = (1/3)\\cdot2 = 2/3$$\n",
    "\\begin{align*}\n",
    "\\text{Var}(X) &= E(\\text{Var}(X|Y))+\\text{Var}(E(X|Y)) = E(Y\\cdot(1/3)\\cdot(2/3))+\\text{Var}(Y\\cdot(1/3))  \\\\\n",
    "&= (2/9)\\cdot E(Y)+(1/3)^2\\cdot\\text{Var}(Y) = (2/9)\\cdot2+(1/9)\\cdot1 = 5/9\n",
    "\\end{align*}\n"
   ]
  },
  {
   "cell_type": "markdown",
   "metadata": {},
   "source": []
  },
  {
   "cell_type": "code",
   "execution_count": null,
   "metadata": {
    "button": false,
    "collapsed": true,
    "new_sheet": false,
    "run_control": {
     "read_only": false
    }
   },
   "outputs": [],
   "source": [
    "# The line %... is a jupyter \"magic\" command, and is not part of the Python language.\n",
    "# In this case we're just telling the plotting library to draw things on\n",
    "# the notebook, instead of on a separate window.\n",
    "%matplotlib inline\n",
    "# See the \"import ... as ...\" contructs below? They're just aliasing the package names.\n",
    "# That way we can call methods like plt.plot() instead of matplotlib.pyplot.plot().\n",
    "import numpy as np\n",
    "import scipy as sp\n",
    "import scipy.stats\n",
    "import matplotlib.pyplot as plt"
   ]
  },
  {
   "cell_type": "markdown",
   "metadata": {
    "button": false,
    "new_sheet": false,
    "run_control": {
     "read_only": false
    }
   },
   "source": [
    "------"
   ]
  },
  {
   "cell_type": "markdown",
   "metadata": {
    "button": false,
    "new_sheet": false,
    "run_control": {
     "read_only": false
    }
   },
   "source": [
    "## Simulation of a Coin Throw\n",
    "\n",
    "We'd like to do some experiments with coin flips, but we don't have a physical coin at the moment. So let us **simulate** the process of flipping a coin on a computer. To do this we will use a form of the **random number generator** built into `numpy`. In particular, we will use the function `np.random.choice` which picks items with uniform probability from a list. If we provide it a list ['H', 'T'], it will pick one of the two items in the list. We can also ask it to do this multiple times by specifying the parameter `size`. "
   ]
  },
  {
   "cell_type": "code",
   "execution_count": null,
   "metadata": {
    "button": false,
    "collapsed": true,
    "new_sheet": false,
    "run_control": {
     "read_only": false
    }
   },
   "outputs": [],
   "source": [
    "def throw_a_coin(n_trials):\n",
    "    return np.random.choice(['H','T'], size=n_trials)"
   ]
  },
  {
   "cell_type": "markdown",
   "metadata": {
    "button": false,
    "new_sheet": false,
    "run_control": {
     "read_only": false
    }
   },
   "source": [
    "`np.sum` is a function that returns the sum of items in an iterable (i.e. a list or an array).  Because python coerces `True` to 1 and `False` to 0, the effect of calling `np.sum` on the array of `True`s and `False`s will be to return the number of of `True`s in the array which is the same as the number of heads."
   ]
  },
  {
   "cell_type": "markdown",
   "metadata": {
    "button": false,
    "new_sheet": false,
    "run_control": {
     "read_only": false
    }
   },
   "source": [
    "### Question 2: The 12 Labors of Bernoullis\n",
    "\n",
    "Now that we know how to run our coin flip experiment, we're interested in knowing what happens as we choose larger and larger number of coin flips.\n",
    "\n",
    "\n",
    "**2.1**.  Run one experiment of flipping a coin 40 times storing the resulting sample in the variable `throws1`.   What's the total proportion of heads?\n",
    "\n",
    "**2.2**.  **Replicate** the experiment in 2.1 storing the resulting sample  in the variable `throws2`.   What's the proportion of heads?  How does this result compare to that you obtained in question 2.1?\n",
    "\n",
    "**2.3**.  Write a function  called `run_trials` that takes as input a list, called `n_flips`, of integers representing different values for the number of coin flips in a trial.  For each element in the input list, `run_trials` should run the coin flip experiment with that number of flips and calculate the proportion of heads.  The output of `run_trials` should be the list of calculated proportions.  Store the output of calling `run_trials` in a list called `proportions`.\n",
    "\n",
    "**2.4**.  Using the results in 2.3, reproduce the plot below. \n",
    "<!--of the proportion of observed heads to total coins flipped in the trial when `run_trials` is run for each of the sample sizes in `trials` -->  <img src=\"./HW0Plot1.png\"/>\n",
    "\n",
    "**2.5**.  What's the appropriate observation about the result of running the coin flip experiment with larger and larger numbers of coin flips?  Choose the appropriate one from the choices below. \n",
    "\n",
    "> A. Regardless of sample size the probability of in our experiment of observing heads is 0.5 so the proportion of heads observed in the coin-flip experiments will always be 0.5.  \n",
    ">\n",
    "> B. The proportions **fluctuate** about their long-run value of 0.5 (what you might expect if you tossed the coin an infinite amount of times), in accordance with the notion of a fair coin (which we encoded in our simulation by having `np.random.choice` choose between two possibilities with equal probability), with the fluctuations seeming to become much smaller as the number of trials increases.\n",
    ">\n",
    "> C. The proportions **fluctuate** about their long-run value of 0.5 (what you might expect if you tossed the coin an infinite amount of times), in accordance with the notion of a fair coin (which we encoded in our simulation by having `np.random.choice` choose between two possibilities with equal probability), with the fluctuations constant regardless of the number of trials.\n"
   ]
  },
  {
   "cell_type": "markdown",
   "metadata": {
    "button": false,
    "new_sheet": false,
    "run_control": {
     "read_only": false
    }
   },
   "source": [
    "#### Answers"
   ]
  },
  {
   "cell_type": "markdown",
   "metadata": {
    "button": false,
    "new_sheet": false,
    "run_control": {
     "read_only": false
    }
   },
   "source": [
    "**2.1**"
   ]
  },
  {
   "cell_type": "code",
   "execution_count": null,
   "metadata": {
    "button": false,
    "collapsed": true,
    "new_sheet": false,
    "run_control": {
     "read_only": false
    }
   },
   "outputs": [],
   "source": [
    "## Your code here\n",
    "\n",
    "throws1 = throw_a_coin(40)\n",
    "print(\"Throws: \",throws1)\n",
    "\n",
    "print(\"Number of Heads:\", np.sum(throws1 == 'H'))\n",
    "print(\"p2 = Number of Heads/Total Throws:\", np.sum(throws1 ==  'H')/40.)"
   ]
  },
  {
   "cell_type": "markdown",
   "metadata": {
    "button": false,
    "new_sheet": false,
    "run_control": {
     "read_only": false
    }
   },
   "source": [
    "**2.2** "
   ]
  },
  {
   "cell_type": "code",
   "execution_count": null,
   "metadata": {
    "button": false,
    "collapsed": true,
    "new_sheet": false,
    "run_control": {
     "read_only": false
    }
   },
   "outputs": [],
   "source": [
    "## Your code here\n",
    "\n",
    "throws2 = throw_a_coin(40)\n",
    "print(\"Throws: \",throws2)\n",
    "\n",
    "print(\"Number of Heads:\", np.sum(throws2 == 'H'))\n",
    "print(\"p2 = Number of Heads/Total Throws:\", np.sum(throws2 ==  'H')/40.)"
   ]
  },
  {
   "cell_type": "markdown",
   "metadata": {
    "button": false,
    "new_sheet": false,
    "run_control": {
     "read_only": false
    }
   },
   "source": [
    "**2.3** "
   ]
  },
  {
   "cell_type": "code",
   "execution_count": null,
   "metadata": {
    "button": false,
    "collapsed": true,
    "new_sheet": false,
    "run_control": {
     "read_only": false
    }
   },
   "outputs": [],
   "source": [
    "n_flips = [10, 30, 50, 70, 100, 130, 170, 200, 500, 1000, 2000, 5000, 10000]"
   ]
  },
  {
   "cell_type": "code",
   "execution_count": null,
   "metadata": {
    "button": false,
    "collapsed": true,
    "new_sheet": false,
    "run_control": {
     "read_only": false
    }
   },
   "outputs": [],
   "source": [
    "## Your code here\n",
    "\n",
    "def run_trials(n_flips: list) -> list:\n",
    "    '''Run one replication of coin flip experiment for each element in trials.\n",
    "       \n",
    "       Args:\n",
    "           n_flips: List of numbers to use as coin flip experiment sizes.\n",
    "       \n",
    "       Returns:\n",
    "           A list of the proportions of heads observed in each coin flip experiment.\n",
    "    '''\n",
    "    \n",
    "    return([np.sum(throw_a_coin(j) == 'H')/np.float(j) for j in n_flips])"
   ]
  },
  {
   "cell_type": "code",
   "execution_count": null,
   "metadata": {
    "button": false,
    "collapsed": true,
    "new_sheet": false,
    "run_control": {
     "read_only": false
    }
   },
   "outputs": [],
   "source": [
    "proportions = run_trials(n_flips)"
   ]
  },
  {
   "cell_type": "markdown",
   "metadata": {
    "button": false,
    "new_sheet": false,
    "run_control": {
     "read_only": false
    }
   },
   "source": [
    "**2.4** "
   ]
  },
  {
   "cell_type": "code",
   "execution_count": null,
   "metadata": {
    "collapsed": true
   },
   "outputs": [],
   "source": [
    "def plot_trials(ax, trials, proportions):\n",
    "    \n",
    "    ax.plot(trials, proportions, 'o-', alpha=0.6);\n",
    "    ax.axhline(0.5, 0, 1, color='r');\n",
    "    ax.set_xlabel('number of flips');\n",
    "    ax.set_ylabel('proportions of heads from simulation');\n",
    "    ax.set_title('Proportions of Heads in Simulation vs. Total Numbers of Flips');\n",
    "    \n",
    "    return ax"
   ]
  },
  {
   "cell_type": "code",
   "execution_count": null,
   "metadata": {
    "collapsed": false
   },
   "outputs": [],
   "source": [
    "fig, ax = plt.subplots(figsize=(8,8))\n",
    "\n",
    "plot_trials(ax, n_flips, proportions);"
   ]
  },
  {
   "cell_type": "markdown",
   "metadata": {
    "button": false,
    "new_sheet": false,
    "run_control": {
     "read_only": false
    }
   },
   "source": [
    "**2.5** "
   ]
  },
  {
   "cell_type": "markdown",
   "metadata": {
    "button": false,
    "new_sheet": false,
    "run_control": {
     "read_only": false
    }
   },
   "source": [
    "**What's the appropriate observation about the result of applying the coin flip experiment to larger and larger numbers of coin flips?  Choose the appropriate one.**\n",
    "\n",
    "B\n"
   ]
  },
  {
   "cell_type": "markdown",
   "metadata": {
    "button": false,
    "new_sheet": false,
    "run_control": {
     "read_only": false
    }
   },
   "source": [
    "## Multiple Replications of the Coin Flip Experiment\n",
    "\n",
    "The coin flip experiment that we did above gave us some insight, but we don't have a good notion of how robust our results are under repetition as we've only run one experiment for each number of coin flips. Lets redo the coin flip experiment, but let's incorporate multiple repetitions of each number of coin flips. For each choice of the number of flips,  $n$, in an experiment, we'll do $M$ replications of the coin tossing experiment."
   ]
  },
  {
   "cell_type": "markdown",
   "metadata": {
    "button": false,
    "new_sheet": false,
    "run_control": {
     "read_only": false
    }
   },
   "source": [
    "### Question 3. So Many Replications\n",
    "\n",
    "**3.1**.  Write a function `make_throws` which takes as arguments the `n_replications` ($M$) and the `n_flips` ($n$), and returns a list (of size $M$) of proportions, with each proportion calculated by taking the ratio of heads to to total number of coin flips in each replication of $n$ coin tosses.  `n_flips` should be a python parameter whose value should default to 20 if unspecified when `make_throws` is called. \n",
    "\n",
    "**3.2**.  Create the variables `proportions_at_n_flips_100` and `proportions_at_n_flips_1000`.  Store in these variables the result of `make_throws` for `n_flips` equal to 100 and 1000 respectively while keeping `n_replications` at 200.  Create a plot with the histograms of `proportions_at_n_flips_100` and `proportions_at_n_flips_1000`.  Make sure to title your plot, label the x-axis and provide a legend.(See below for an example of what the plot may look like) ![](./HW0Plot2.png) \n",
    "\n",
    "**3.3**. Calculate the mean and variance of the results in the each of the variables `proportions_at_n_flips_100` and `proportions_at_n_flips_1000` generated in 3.2.\n",
    "\n",
    "3.4. Based upon the plots what would be your guess of what type of distribution is represented by histograms in 3.2?  Explain the factors that influenced your choice.\n",
    "> A. Gamma Distribution\n",
    ">\n",
    "> B. Beta Distribution\n",
    ">\n",
    "> C. Gaussian\n",
    "\n",
    "**3.5**. Let's just assume for arguments sake that the answer to 3.4 is **C. Gaussian**.  Plot a **normed histogram** of your results `proportions_at_n_flips_1000` overlayed with your selection for the appropriate gaussian distribution to represent the experiment of flipping a coin 1000 times.   (**Hint:  What parameters should you use for your Gaussian?**)\n"
   ]
  },
  {
   "cell_type": "markdown",
   "metadata": {
    "button": false,
    "new_sheet": false,
    "run_control": {
     "read_only": false
    }
   },
   "source": [
    "#### Answers"
   ]
  },
  {
   "cell_type": "markdown",
   "metadata": {
    "button": false,
    "new_sheet": false,
    "run_control": {
     "read_only": false
    }
   },
   "source": [
    "**3.1**"
   ]
  },
  {
   "cell_type": "code",
   "execution_count": null,
   "metadata": {
    "button": false,
    "collapsed": true,
    "new_sheet": false,
    "run_control": {
     "read_only": false
    }
   },
   "outputs": [],
   "source": [
    "# your code here\n",
    "\n",
    "def make_throws(n_replications : int, n_flips : int) -> list:\n",
    "    \"\"\"\n",
    "    Generate a list of probabilities representing the probability of heads in a sample of fair coins\n",
    "\n",
    "    Args:\n",
    "        n_replications: number of samples or replications\n",
    "        n_flips:  number of coin flips in each replication\n",
    "\n",
    "    Returns:\n",
    "        Array of probabilities of heads, one from each sample or replication\n",
    "\n",
    "    Example\n",
    "    -------\n",
    "    >>> make_throws(number_of_samples = 3, sample_size = 20)\n",
    "    [0.40000000000000002, 0.5, 0.59999999999999998]\n",
    "    \"\"\"\n",
    "    sample_props = []\n",
    "    for i in range(n_replications):\n",
    "        replication = throw_a_coin(n_flips)\n",
    "        mean_of_replication = np.mean(replication == 'H')\n",
    "        sample_props.append(mean_of_replication)\n",
    "    return sample_props\n"
   ]
  },
  {
   "cell_type": "markdown",
   "metadata": {
    "button": false,
    "new_sheet": false,
    "run_control": {
     "read_only": false
    }
   },
   "source": [
    "**3.2**"
   ]
  },
  {
   "cell_type": "code",
   "execution_count": null,
   "metadata": {
    "button": false,
    "collapsed": true,
    "new_sheet": false,
    "run_control": {
     "read_only": false
    }
   },
   "outputs": [],
   "source": [
    "# your code here\n",
    "proportions_at_n_flips_100 = make_throws(n_replications=200, n_flips=100)\n",
    "proportions_at_n_flips_1000 = make_throws(n_replications=200, n_flips=1000)"
   ]
  },
  {
   "cell_type": "code",
   "execution_count": null,
   "metadata": {
    "button": false,
    "collapsed": true,
    "new_sheet": false,
    "run_control": {
     "read_only": false
    }
   },
   "outputs": [],
   "source": [
    "# code for your plot here\n",
    "\n",
    "def plot_sample_mean_distributions(ax, mean_samples, labels):\n",
    "    [ax.hist(sample,alpha=0.3, label=labels[i], bins=12) for i, sample in enumerate(mean_samples)]\n",
    "    ax.set_xlabel(\"mean proportion of heads\")\n",
    "    ax.set_title(\"Histogram of Samples at Different Numbers of Flips\");\n",
    "    ax.legend();\n",
    "    return ax\n",
    "\n",
    "mean_samples = [proportions_at_n_flips_100, proportions_at_n_flips_1000]\n",
    "labels = [\"100 flips\", \"1000 flips\"]\n",
    "fig, ax = plt.subplots(figsize=(8,8))\n",
    "plot_sample_mean_distributions(ax, mean_samples, labels);\n"
   ]
  },
  {
   "cell_type": "markdown",
   "metadata": {
    "button": false,
    "new_sheet": false,
    "run_control": {
     "read_only": false
    }
   },
   "source": [
    "**3.3**"
   ]
  },
  {
   "cell_type": "code",
   "execution_count": null,
   "metadata": {
    "button": false,
    "collapsed": true,
    "new_sheet": false,
    "run_control": {
     "read_only": false
    }
   },
   "outputs": [],
   "source": [
    "# your code here\n",
    "\n",
    "print(\"Mean of 200 trials of 100 flips each: {:.4} \".format(np.mean(proportions_at_n_flips_100)))\n",
    "print(\"Mean of 200 trials of 1000 flips each: {:.4} \".format(np.mean(proportions_at_n_flips_1000)))\n",
    "\n",
    "print(\"Variance of 200 trials of 100 flips each: {:.5} \".format(np.var(proportions_at_n_flips_100)))\n",
    "print(\"Variance of 200 trials of 1000 flips each: {:.5} \".format(np.var(proportions_at_n_flips_1000)))"
   ]
  },
  {
   "cell_type": "markdown",
   "metadata": {
    "button": false,
    "new_sheet": false,
    "run_control": {
     "read_only": false
    }
   },
   "source": [
    "**3.4**"
   ]
  },
  {
   "cell_type": "markdown",
   "metadata": {
    "button": false,
    "new_sheet": false,
    "run_control": {
     "read_only": false
    }
   },
   "source": [
    "** Your choice and explanation here **\n",
    "\n",
    "C -- The distributions are roughly symmetric and unimodal and each is comprised of a sum of iid distributions (i.e. the bernoullis representing the coin flips), so we feel that the gaussian would be a good guess as the underlying distribution.\n",
    "\n"
   ]
  },
  {
   "cell_type": "markdown",
   "metadata": {
    "button": false,
    "new_sheet": false,
    "run_control": {
     "read_only": false
    }
   },
   "source": [
    "**3.5**"
   ]
  },
  {
   "cell_type": "code",
   "execution_count": null,
   "metadata": {
    "button": false,
    "collapsed": true,
    "new_sheet": false,
    "run_control": {
     "read_only": false
    }
   },
   "outputs": [],
   "source": [
    "# your code here\n",
    "\n",
    "fig, ax = plt.subplots(figsize=(8,8))\n",
    "x = np.linspace(0.44,0.56, num=500)\n",
    "\n",
    "ax.hist(np.array(proportions_at_n_flips_1000),density=True,  alpha=0.3, label=\"1000 flips\")\n",
    "ax.plot(x, scipy.stats.norm.pdf(x, loc=np.mean(proportions_at_n_flips_1000), scale = np.sqrt(np.var(proportions_at_n_flips_1000))), label=\"Gaussian PDF\" )\n",
    "ax.set_xlabel(\"proportion of heads\")\n",
    "ax.set_title(\"Histogram of Samples at Different Numbers of Flips\");\n",
    "ax.legend();\n"
   ]
  },
  {
   "cell_type": "markdown",
   "metadata": {
    "button": false,
    "new_sheet": false,
    "run_control": {
     "read_only": false
    }
   },
   "source": [
    "## Working With Distributions in Numpy/Scipy\n",
    "\n",
    "Earlier in this problem set we've been introduced to the Bernoulli \"aka coin-flip\" distribution and worked with it indirectly by using np.random.choice to make a random selection between two elements 'H' and 'T'.  Let's see if we can create comparable results by taking advantage of the machinery for working with other probability distributions in python using numpy and scipy."
   ]
  },
  {
   "cell_type": "markdown",
   "metadata": {
    "button": false,
    "new_sheet": false,
    "run_control": {
     "read_only": false
    }
   },
   "source": [
    "### Question 4: My Normal Binomial\n",
    "\n",
    "Let's use our coin-flipping machinery to do some experimentation with the binomial distribution.  The binomial distribution, often represented by  $k \\sim Binomial(n, p)$ is often described the number of successes in `n` Bernoulli trials with each trial having a probability of success `p`.  In other words,  if you flip a coin `n` times, and each coin-flip has a probability `p` of landing heads, then the number of heads you observe is a sample from a bernoulli distribution.\n",
    "\n",
    "**4.1**. Sample the binomial distribution using coin flips by writing a function `sample_binomial1` which takes in integer parameters `n` and `size`.  The output of `sample_binomial1` should be a list of length `size` observations with each observation being the outcome of flipping a coin `n` times and counting the number of heads.  By default `size` should be 1.  Your code should take advantage of the `throw_a_coin` function we defined above. \n",
    "\n",
    "**4.2**. Sample the binomial distribution directly using scipy.stats.binom.rvs by writing another function `sample_binomial2` that takes in integer parameters `n` and `size` as well as a float `p` parameter `p` where $p \\in [0 \\ldots 1]$.  The output of `sample_binomial2` should be a list of length `size` observations with each observation a sample of $Binomial(n, p)$ (taking advantage of scipy.stats.binom).  By default `size` should be 1 and `p` should be 0.5.\n",
    "\n",
    "**4.3**. Run sample_binomial1 with 25 and 200 as values of the `n` and `size` parameters respectively and store the result in `binomial_trials1`. Run sample_binomial2 with 25, 200 and 0.5 as values of the `n`, `size` and `p` parameters respectively and store the results in `binomial_trials2`.  Plot normed histograms of `binomial_trials1` and `binomial_trials2`.  On both histograms, overlay a plot of the pdf of $Binomial(n=25, p=0.5)$\n",
    "\n",
    "**4.4**. How do the plots in 4.3 compare?\n",
    "\n",
    "**4.5**. Find the mean and variance of `binomial_trials1`.  How do they compare to the mean and variance of $Binomial(n=25, p=0.5)$"
   ]
  },
  {
   "cell_type": "markdown",
   "metadata": {
    "button": false,
    "new_sheet": false,
    "run_control": {
     "read_only": false
    }
   },
   "source": [
    "#### Answers"
   ]
  },
  {
   "cell_type": "markdown",
   "metadata": {
    "button": false,
    "new_sheet": false,
    "run_control": {
     "read_only": false
    }
   },
   "source": [
    "**4.1**"
   ]
  },
  {
   "cell_type": "code",
   "execution_count": null,
   "metadata": {
    "button": false,
    "collapsed": true,
    "new_sheet": false,
    "run_control": {
     "read_only": false
    }
   },
   "outputs": [],
   "source": [
    "# your code here\n",
    "\n",
    "def sample_binomial1(n : int, size : int = 1) -> list:\n",
    "    \"\"\"\n",
    "    Generate a list of observations with each observation being the outcome of flipping a coin `n` times and counting the number of heads\n",
    "    Args:\n",
    "        n: number of coins flipped\n",
    "        size:  The number of observations\n",
    "\n",
    "    Returns:\n",
    "        A list of observations each one being the total number of heads out of  n total coins flipped\n",
    "    \"\"\"\n",
    "    observations = []\n",
    "    for i in range(size):\n",
    "        throws = throw_a_coin(n)\n",
    "        observations.append(np.sum(throws == 'H'))\n",
    "\n",
    "    return observations"
   ]
  },
  {
   "cell_type": "markdown",
   "metadata": {
    "button": false,
    "new_sheet": false,
    "run_control": {
     "read_only": false
    }
   },
   "source": [
    "**4.2**"
   ]
  },
  {
   "cell_type": "code",
   "execution_count": null,
   "metadata": {
    "button": false,
    "collapsed": true,
    "new_sheet": false,
    "run_control": {
     "read_only": false
    }
   },
   "outputs": [],
   "source": [
    "# your code\n",
    "\n",
    "def sample_binomial2(n : int, size : int = 1, p : float = 0.5) -> list:\n",
    "    \"\"\"\n",
    "    Generate a list of observations with each observation being the number of successes out of n trials with success probability p\n",
    "    Args:\n",
    "        n: number of trials\n",
    "        size:  The number of observations\n",
    "        p: Probability of success in each trial\n",
    "\n",
    "    Returns:\n",
    "        A list of observations each one being the total number successes out of n trials\n",
    "    \"\"\"\n",
    "    return scipy.stats.binom.rvs(n, p, size=size)"
   ]
  },
  {
   "cell_type": "markdown",
   "metadata": {
    "button": false,
    "new_sheet": false,
    "run_control": {
     "read_only": false
    }
   },
   "source": [
    "**4.3**"
   ]
  },
  {
   "cell_type": "code",
   "execution_count": null,
   "metadata": {
    "button": false,
    "collapsed": true,
    "new_sheet": false,
    "run_control": {
     "read_only": false
    }
   },
   "outputs": [],
   "source": [
    "# your code here\n",
    "\n",
    "binomial_trials1 = sample_binomial1(n=25, size=200)\n",
    "binomial_trials2 = sample_binomial2(n=25, size=200, p = 0.5)\n",
    "\n",
    "def plot_binomial_trials(ax, mean_samples, labels):\n",
    "    [ax.hist(sample,alpha=0.3, label=labels[i], bins=12, density=True) for i, sample in enumerate(mean_samples)]\n",
    "    \n",
    "    binomial = scipy.stats.binom.pmf(range(26),25, 0.5)\n",
    "    ax.plot(binomial, label=\"Binomial PMF\")\n",
    "    ax.set_xlabel(\"number of successes/heads\")\n",
    "    ax.set_title(\"Normed Binomial Histograms from Flipping Coins and Directly from Scipy\");\n",
    "    ax.legend();\n",
    "    return ax\n",
    "\n",
    "binomial_trials = [binomial_trials1, binomial_trials2]\n",
    "labels = [\"Flipping Coins\", \"Scipy\"]\n",
    "fig, ax = plt.subplots(figsize=(8,8))\n",
    "plot_binomial_trials(ax, binomial_trials, labels);\n"
   ]
  },
  {
   "cell_type": "markdown",
   "metadata": {
    "button": false,
    "new_sheet": false,
    "run_control": {
     "read_only": false
    }
   },
   "source": [
    "**4.4**"
   ]
  },
  {
   "cell_type": "markdown",
   "metadata": {
    "button": false,
    "new_sheet": false,
    "run_control": {
     "read_only": false
    }
   },
   "source": [
    "** Your explanation here **\n",
    "\n",
    "They are similar enough for any differences to be the result of random chance.  Since we underlying distributions being plotted are the result of the sum of iid distributions (Bernoullis), the CLT holds and the resulting distributions although Binomial should be also be approximately Gaussian.\n"
   ]
  },
  {
   "cell_type": "markdown",
   "metadata": {
    "button": false,
    "new_sheet": false,
    "run_control": {
     "read_only": false
    }
   },
   "source": [
    "**4.5**"
   ]
  },
  {
   "cell_type": "code",
   "execution_count": null,
   "metadata": {
    "button": false,
    "collapsed": true,
    "new_sheet": false,
    "run_control": {
     "read_only": false
    }
   },
   "outputs": [],
   "source": [
    "# your code here \n",
    "print(\"Mean of Binomial Trials From Coin Flips: {}\".format(np.mean(binomial_trials1)))\n",
    "print(\"Variance of Binomial Trials From Coin Flips: {}\".format(np.var(binomial_trials1)))\n",
    "print(\"Mean of Binomial(n=25, p=0.5): {}\".format(scipy.stats.binom.mean(25, 0.5)))\n",
    "print(\"Variance of Binomial(n=25, p=0.5): {}\".format(scipy.stats.binom.var(25, 0.5)))"
   ]
  },
  {
   "cell_type": "markdown",
   "metadata": {
    "button": false,
    "new_sheet": false,
    "run_control": {
     "read_only": false
    }
   },
   "source": [
    "** Your explanation here **\n",
    "\n",
    "The means are very similar.  The variance of the sample differs somewhat from the true variance, but that difference can be explained by random chance."
   ]
  },
  {
   "cell_type": "markdown",
   "metadata": {
    "button": false,
    "new_sheet": false,
    "run_control": {
     "read_only": false
    }
   },
   "source": [
    "## Testing Your Python Code"
   ]
  },
  {
   "cell_type": "markdown",
   "metadata": {
    "button": false,
    "new_sheet": false,
    "run_control": {
     "read_only": false
    }
   },
   "source": [
    "In the following section we're going to do a brief introduction to unit testing.  We do so not only because unit testing has become an increasingly important part of of the methodology of good software practices, but also because we plan on using unit tests as part of our own CS109 grading practices as a way of increasing rigor and repeatability decreasing complexity and manual workload in our evaluations of your code.  We'll provide an example unit test at the end of this section.\n",
    "\n",
    "### Introduction to unit testing "
   ]
  },
  {
   "cell_type": "code",
   "execution_count": null,
   "metadata": {
    "button": false,
    "collapsed": true,
    "new_sheet": false,
    "run_control": {
     "read_only": false
    }
   },
   "outputs": [],
   "source": [
    "import ipytest"
   ]
  },
  {
   "cell_type": "markdown",
   "metadata": {
    "button": false,
    "new_sheet": false,
    "run_control": {
     "read_only": false
    }
   },
   "source": [
    "***Unit testing*** is one of the most important software testing methodologies.  Wikipedia describes unit testing as \"a software testing method by which individual units of source code, sets of one or more computer program modules together with associated control data, usage procedures, and operating procedures, are tested to determine whether they are fit for use.\"\n",
    "\n",
    "There are many different python libraries that support software testing in general and unit testing in particular.  PyTest is one of the most widely used and well-liked libraries for this purpose.  We've chosen to adopt PyTest (and ipytest which allows pytest to be used in ipython notebooks) for our testing needs and we'll do a very brief introduction to Pytest here so that you can become familiar with it too. \n",
    "\n",
    "If you recall the function that we provided you above `throw_a_coin`, which we'll reproduce here for convenience, it took a number and returned that many \"coin tosses\".  We'll start by seeing what happens when we give it different sizes of $N$.  If we give $N=0$, we should get an empty array of \"experiments\"."
   ]
  },
  {
   "cell_type": "code",
   "execution_count": null,
   "metadata": {
    "button": false,
    "collapsed": true,
    "new_sheet": false,
    "run_control": {
     "read_only": false
    }
   },
   "outputs": [],
   "source": [
    "def throw_a_coin(N):\n",
    "    return np.random.choice(['H','T'], size=N)"
   ]
  },
  {
   "cell_type": "code",
   "execution_count": null,
   "metadata": {
    "button": false,
    "collapsed": true,
    "new_sheet": false,
    "run_control": {
     "read_only": false
    }
   },
   "outputs": [],
   "source": [
    "throw_a_coin(0)"
   ]
  },
  {
   "cell_type": "markdown",
   "metadata": {
    "button": false,
    "new_sheet": false,
    "run_control": {
     "read_only": false
    }
   },
   "source": [
    "Great!  If we give it positive values of $N$ we should get that number of 'H's and 'T's."
   ]
  },
  {
   "cell_type": "code",
   "execution_count": null,
   "metadata": {
    "button": false,
    "collapsed": true,
    "new_sheet": false,
    "run_control": {
     "read_only": false
    }
   },
   "outputs": [],
   "source": [
    "throw_a_coin(5)"
   ]
  },
  {
   "cell_type": "code",
   "execution_count": null,
   "metadata": {
    "button": false,
    "collapsed": true,
    "new_sheet": false,
    "run_control": {
     "read_only": false
    }
   },
   "outputs": [],
   "source": [
    "throw_a_coin(8)"
   ]
  },
  {
   "cell_type": "markdown",
   "metadata": {
    "button": false,
    "new_sheet": false,
    "run_control": {
     "read_only": false
    }
   },
   "source": [
    "Exactly what we expected!  \n",
    "\n",
    "What happens if the input isn't a positive integer though?"
   ]
  },
  {
   "cell_type": "code",
   "execution_count": null,
   "metadata": {
    "button": false,
    "collapsed": true,
    "new_sheet": false,
    "run_control": {
     "read_only": false
    }
   },
   "outputs": [],
   "source": [
    "throw_a_coin(4.5)"
   ]
  },
  {
   "cell_type": "markdown",
   "metadata": {
    "run_control": {}
   },
   "source": [
    "or "
   ]
  },
  {
   "cell_type": "code",
   "execution_count": null,
   "metadata": {
    "button": false,
    "collapsed": true,
    "new_sheet": false,
    "run_control": {
     "read_only": false
    }
   },
   "outputs": [],
   "source": [
    "throw_a_coin(-4)"
   ]
  },
  {
   "cell_type": "markdown",
   "metadata": {
    "button": false,
    "new_sheet": false,
    "run_control": {
     "read_only": false
    }
   },
   "source": [
    "It looks like for both real numbers and negative numbers, we get two kinds of errors a `TypeError` and a `ValueError`.  We just engaged in one of the most rudimentary forms of testing, trial and error.  We can use pytest to automate this process by writing some functions that will automatically (and potentially repeatedly) test individual units of our code methodology.  These are called ***unit tests***.\n",
    "\n",
    "Before we write our tests, let's consider what we would think of as the appropriate behavior for `throw_a_coin` under the conditions we considered above.  If `throw_a_coin` receives positive integer input, we want it to behave exactly as it currently does -- returning an output consisting of a list of characters 'H' or 'T' with the length of the list equal to the positive integer input. For a positive floating point input, we want `throw_a_coin_properly` to treat the input as if it were rounded down to the nearest integer (thus returning a list of 'H' or 'T' integers whose length is the same as the input rounded down to the next highest integer.  For a any negative number input or an input of 0, we want `throw_a_coin_properly` to return an empty list."
   ]
  },
  {
   "cell_type": "markdown",
   "metadata": {
    "button": false,
    "new_sheet": false,
    "run_control": {
     "read_only": false
    }
   },
   "source": [
    "We create pytest tests by writing functions that start or end with \"test\".  We'll use the **convention** that our tests will start with \"test\".  \n",
    "\n",
    "We begin the code cell with ipytest's clean_tests function as a way to clear out the results of previous tests starting with \"test_throw_a_coin\" (the * is the standard wild card character here).\n",
    "\n"
   ]
  },
  {
   "cell_type": "code",
   "execution_count": null,
   "metadata": {
    "button": false,
    "collapsed": true,
    "new_sheet": false,
    "run_control": {
     "read_only": false
    }
   },
   "outputs": [],
   "source": [
    "## the * after test_throw_a_coin tells this code cell to clean out the results\n",
    "## of all tests starting with test_throw_a_coin\n",
    "ipytest.clean_tests(\"test_throw_a_coin*\")\n",
    "\n",
    "## run throw_a_coin with a variety of positive integer inputs (all numbers between 1 and 20) and\n",
    "## verify that the length of the output list (e.g ['H', 'H', 'T', 'H', 'T']) matches the input integer\n",
    "def test_throw_a_coin_length_positive():\n",
    "    for n in range(1,20):\n",
    "        assert len(throw_a_coin(n)) == n\n",
    "\n",
    "## verify that throw_a_coin produces an empty list (i.e. a list of length 0) if provide with an input\n",
    "## of 0\n",
    "def test_throw_a_coin_length_zero():\n",
    "    ## should be the empty array\n",
    "    assert len(throw_a_coin(0)) == 0\n",
    "    \n",
    "\n",
    "## verify that given a positive floating point input (i.e. 4.34344298547201), throw_a_coin produces a list of\n",
    "## coin flips of length equal to highest integer less than the input\n",
    "def test_throw_a_coin_float():\n",
    "    for n in np.random.exponential(7, size=5):\n",
    "        assert len(throw_a_coin(n)) == np.floor(n)\n",
    "        \n",
    "\n",
    "## verify that given any negative input (e.g. -323.4), throw_a_coin produces an empty\n",
    "def test_throw_a_coin_negative():\n",
    "    for n in range(-7, 0):\n",
    "        assert len(throw_a_coin(n)) == 0\n",
    "\n",
    "        \n",
    "ipytest.run_tests()"
   ]
  },
  {
   "cell_type": "markdown",
   "metadata": {
    "button": false,
    "new_sheet": false,
    "run_control": {
     "read_only": false
    }
   },
   "source": [
    "As you see, we were able to use pytest (and ipytest which allows us to run pytest tests in our ipython notebooks) to automate the tests that we constructed manually before and get the same errors and successes.  Now time to fix our code and write our own test!"
   ]
  },
  {
   "cell_type": "markdown",
   "metadata": {
    "button": false,
    "new_sheet": false,
    "run_control": {
     "read_only": false
    }
   },
   "source": [
    "### Question 5: You Better Test Yourself before You Wreck Yourself!\n",
    "\n",
    "Now it's time to fix `throw_a_coin` so that it passes the tests we've written above as well as add our own test to the mix!\n",
    "\n",
    "**5.1**. Write a new function called `throw_a_coin_properly` that will pass the tests that we saw above.  For your convenience we'll provide a new jupyter notebook cell with the tests rewritten for the new function.  All the tests should pass.  For a positive floating point input, we want `throw_a_coin_properly` to treat the input as if it were rounded down to the nearest integer.  For a any negative number input, we want `throw_a_coin_properly` to treat the input as if it were 0.\n",
    "\n",
    "**5.2**. Write a new test for `throw_a_coin_properly` that verifies that all the elements of the resultant arrays are 'H' or 'T'."
   ]
  },
  {
   "cell_type": "markdown",
   "metadata": {
    "button": false,
    "new_sheet": false,
    "run_control": {
     "read_only": false
    }
   },
   "source": [
    "#### Answers"
   ]
  },
  {
   "cell_type": "markdown",
   "metadata": {
    "button": false,
    "new_sheet": false,
    "run_control": {
     "read_only": false
    }
   },
   "source": [
    "**5.1**"
   ]
  },
  {
   "cell_type": "code",
   "execution_count": null,
   "metadata": {
    "button": false,
    "collapsed": true,
    "new_sheet": false,
    "run_control": {
     "read_only": false
    }
   },
   "outputs": [],
   "source": [
    "def throw_a_coin_properly(n_trials):\n",
    "    \n",
    "    # your code here\n",
    "    n = int(n_trials)\n",
    "    \n",
    "    if n < 0: n = 0\n",
    "        \n",
    "    return np.random.choice(['H', 'T'], size=n)\n",
    "    "
   ]
  },
  {
   "cell_type": "code",
   "execution_count": null,
   "metadata": {
    "button": false,
    "collapsed": true,
    "new_sheet": false,
    "run_control": {
     "read_only": false
    }
   },
   "outputs": [],
   "source": [
    "ipytest.clean_tests(\"test_throw_a_coin*\")\n",
    "\n",
    "def test_throw_a_coin_properly_length_positive():\n",
    "    for n in range(1,20):\n",
    "        assert len(throw_a_coin_properly(n)) == n\n",
    "        \n",
    "\n",
    "def test_throw_a_coin_properly_length_zero():\n",
    "    ## should be the empty array\n",
    "    assert len(throw_a_coin_properly(0)) == 0\n",
    "    \n",
    "\n",
    "def test_throw_a_coin_properly_float():\n",
    "    \n",
    "    for n in np.random.exponential(7, size=5):\n",
    "        assert len(throw_a_coin_properly(n)) == np.floor(n)\n",
    "        \n",
    "\n",
    "def test_throw_a_coin_properly_negative():\n",
    "    \n",
    "    for n in range(-7, 0):\n",
    "        assert len(throw_a_coin_properly(n)) == 0\n",
    "\n",
    "        \n",
    "ipytest.run_tests()"
   ]
  },
  {
   "cell_type": "markdown",
   "metadata": {
    "button": false,
    "new_sheet": false,
    "run_control": {
     "read_only": false
    }
   },
   "source": [
    "**5.2** "
   ]
  },
  {
   "cell_type": "code",
   "execution_count": null,
   "metadata": {
    "collapsed": true
   },
   "outputs": [],
   "source": [
    "ipytest.clean_tests(\"test_throw_a_coin*\")\n",
    "\n",
    "## write a test that verifies you don't have any other elements except H's and T's\n",
    "def test_throw_a_coin_properly_verify_H_T():\n",
    "    \n",
    "    # your code here\n",
    "    \n",
    "    #randomly generate throws\n",
    "    throws = 25 * np.random.randn(10)\n",
    "    \n",
    "    for throw in throws:\n",
    "        assert np.all(np.isin(throw_a_coin_properly(throw), ['H', 'T']))\n",
    "        \n",
    "        \n",
    "ipytest.run_tests()"
   ]
  }
 ],
 "metadata": {
  "anaconda-cloud": {},
  "kernelspec": {
   "display_name": "Python [py35]",
   "language": "python",
   "name": "Python [py35]"
  },
  "language_info": {
   "codemirror_mode": {
    "name": "ipython",
    "version": 3
   },
   "file_extension": ".py",
   "mimetype": "text/x-python",
   "name": "python",
   "nbconvert_exporter": "python",
   "pygments_lexer": "ipython3",
   "version": "3.5.2"
  }
 },
 "nbformat": 4,
 "nbformat_minor": 2
}
